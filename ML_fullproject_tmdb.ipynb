{
 "cells": [
  {
   "cell_type": "markdown",
   "metadata": {
    "colab_type": "text",
    "id": "TgUd25L8djhy"
   },
   "source": [
    "# Machine Learning Case Study: predicting the rating of a movie\n",
    "\n",
    "#### A Data Science Machine Learning approach to predict which films will be highly rated based on different characteristics."
   ]
  },
  {
   "cell_type": "markdown",
   "metadata": {},
   "source": [
    "### **Dataset Information**"
   ]
  },
  {
   "cell_type": "markdown",
   "metadata": {},
   "source": [
    "The dataset used for the current case study has 4803 samples and 20 inputs.\n",
    "- tmdb_5000_movies.csv dataset for download [here](http://bit.ly/3siZ4cC)."
   ]
  },
  {
   "cell_type": "markdown",
   "metadata": {},
   "source": [
    "### **Attribute Information**"
   ]
  },
  {
   "cell_type": "markdown",
   "metadata": {},
   "source": [
    "The datset contains the following information. \n",
    "\n",
    "**Input variables:**\n",
    "1. budget (numeric)\n",
    "2. genres (categoric)\n",
    "3. homepage (categoric)\n",
    "4. id (numeric)\n",
    "5. keywords (categoric)\n",
    "6. original_labguage (categoric)\n",
    "7. original_title (categoric)\n",
    "8. overview (categoric)\n",
    "9. popularity (numeric)\n",
    "10. poduction_companies (categoric)\n",
    "11. production_countries (categoric)\n",
    "12. release_date (categoric)\n",
    "13. revenue (numeric)\n",
    "14. runtime (numeric)\n",
    "15. spoken_languages (categoric)\n",
    "16. status (categoric)\n",
    "17. tagline (categoric)\n",
    "18. title (categoric)\n",
    "19. vote_count (numeric)\n",
    "\n",
    "**Output variable (desired target):**\n",
    "\n",
    "20. vote_average (numeric)"
   ]
  },
  {
   "cell_type": "markdown",
   "metadata": {},
   "source": [
    "### **Machine Learning problem and objectives**"
   ]
  },
  {
   "cell_type": "markdown",
   "metadata": {},
   "source": [
    "Could it be possible to predict the success of a movie before it is released? The answer to this question comes from this **supervised regression** challenge. The goal is to train the best machine learning model selecting the key-features that can accurately predict the vote_count of each submitted movie."
   ]
  },
  {
   "cell_type": "markdown",
   "metadata": {},
   "source": [
    "---"
   ]
  },
  {
   "cell_type": "markdown",
   "metadata": {},
   "source": [
    "### **Set-up**\n",
    "\n",
    "To get (download) the data, click or copy and past this URL in a browser: https://bit.ly/3siZ4cC (monitorized link)"
   ]
  },
  {
   "cell_type": "code",
   "execution_count": 1,
   "metadata": {
    "colab": {},
    "colab_type": "code",
    "id": "G5zHUhrGPu7I"
   },
   "outputs": [],
   "source": [
    "# !pip install pingouin\n",
    "# !pip install category_encoders"
   ]
  },
  {
   "cell_type": "code",
   "execution_count": 3,
   "metadata": {
    "colab": {
     "base_uri": "https://localhost:8080/",
     "height": 71
    },
    "colab_type": "code",
    "executionInfo": {
     "elapsed": 26605,
     "status": "ok",
     "timestamp": 1593274491293,
     "user": {
      "displayName": "Mariana Moura",
      "photoUrl": "",
      "userId": "09921903782139644629"
     },
     "user_tz": -60
    },
    "id": "moKnhyYfdjh2",
    "outputId": "ab77a88b-39b9-4268-f778-9a5e792d3c1d"
   },
   "outputs": [
    {
     "name": "stderr",
     "output_type": "stream",
     "text": [
      "/Users/GGG/opt/anaconda3/lib/python3.7/site-packages/outdated/utils.py:18: OutdatedPackageWarning: The package pingouin is out of date. Your version is 0.3.5, the latest is 0.3.8.\n",
      "Set the environment variable OUTDATED_IGNORE=1 to disable these warnings.\n",
      "  **kwargs\n"
     ]
    }
   ],
   "source": [
    "import pandas as pd\n",
    "import numpy as np\n",
    "import pingouin as pg\n",
    "import seaborn as sns\n",
    "\n",
    "import scipy\n",
    "from scipy.stats import chi2\n",
    "from scipy.stats import chi2_contingency\n",
    "from scipy.stats import pearsonr, spearmanr\n",
    "\n",
    "import json\n",
    "import matplotlib.pyplot as plt\n",
    "\n",
    "from category_encoders import BinaryEncoder\n",
    "\n",
    "from sklearn.preprocessing import PolynomialFeatures\n",
    "from sklearn.model_selection import train_test_split\n",
    "from sklearn.linear_model import LinearRegression\n",
    "from sklearn.metrics import r2_score\n",
    "from sklearn.preprocessing import MinMaxScaler\n",
    "from sklearn.neighbors import KNeighborsRegressor\n",
    "from sklearn.svm import SVR\n",
    "from sklearn.ensemble import RandomForestRegressor\n",
    "from sklearn.neural_network import MLPRegressor\n",
    "from sklearn.metrics import accuracy_score\n",
    "from sklearn.pipeline import Pipeline\n",
    "from sklearn.impute import SimpleImputer\n",
    "from sklearn.preprocessing import StandardScaler\n",
    "from sklearn.decomposition import PCA\n",
    "from sklearn.base import TransformerMixin\n",
    "from sklearn.model_selection import GridSearchCV\n",
    "\n",
    "seed = 42\n",
    "\n",
    "OUTDATED_IGNORE=1"
   ]
  },
  {
   "cell_type": "code",
   "execution_count": 4,
   "metadata": {
    "colab": {},
    "colab_type": "code",
    "executionInfo": {
     "elapsed": 26582,
     "status": "ok",
     "timestamp": 1593274491296,
     "user": {
      "displayName": "Mariana Moura",
      "photoUrl": "",
      "userId": "09921903782139644629"
     },
     "user_tz": -60
    },
    "id": "31IJrPzbdjh8"
   },
   "outputs": [],
   "source": [
    "df = pd.read_csv('tmdb_5000_movies.csv')"
   ]
  },
  {
   "cell_type": "code",
   "execution_count": 5,
   "metadata": {
    "colab": {
     "base_uri": "https://localhost:8080/",
     "height": 451
    },
    "colab_type": "code",
    "executionInfo": {
     "elapsed": 26532,
     "status": "ok",
     "timestamp": 1593274491298,
     "user": {
      "displayName": "Mariana Moura",
      "photoUrl": "",
      "userId": "09921903782139644629"
     },
     "user_tz": -60
    },
    "id": "peCqOA4mdjh_",
    "outputId": "7e552858-234b-45b0-e05b-a4424512bcda"
   },
   "outputs": [
    {
     "data": {
      "text/html": [
       "<div>\n",
       "<style scoped>\n",
       "    .dataframe tbody tr th:only-of-type {\n",
       "        vertical-align: middle;\n",
       "    }\n",
       "\n",
       "    .dataframe tbody tr th {\n",
       "        vertical-align: top;\n",
       "    }\n",
       "\n",
       "    .dataframe thead th {\n",
       "        text-align: right;\n",
       "    }\n",
       "</style>\n",
       "<table border=\"1\" class=\"dataframe\">\n",
       "  <thead>\n",
       "    <tr style=\"text-align: right;\">\n",
       "      <th></th>\n",
       "      <th>budget</th>\n",
       "      <th>genres</th>\n",
       "      <th>homepage</th>\n",
       "      <th>id</th>\n",
       "      <th>keywords</th>\n",
       "      <th>original_language</th>\n",
       "      <th>original_title</th>\n",
       "      <th>overview</th>\n",
       "      <th>popularity</th>\n",
       "      <th>production_companies</th>\n",
       "      <th>production_countries</th>\n",
       "      <th>release_date</th>\n",
       "      <th>revenue</th>\n",
       "      <th>runtime</th>\n",
       "      <th>spoken_languages</th>\n",
       "      <th>status</th>\n",
       "      <th>tagline</th>\n",
       "      <th>title</th>\n",
       "      <th>vote_average</th>\n",
       "      <th>vote_count</th>\n",
       "    </tr>\n",
       "  </thead>\n",
       "  <tbody>\n",
       "    <tr>\n",
       "      <th>0</th>\n",
       "      <td>237000000</td>\n",
       "      <td>[{\"id\": 28, \"name\": \"Action\"}, {\"id\": 12, \"nam...</td>\n",
       "      <td>http://www.avatarmovie.com/</td>\n",
       "      <td>19995</td>\n",
       "      <td>[{\"id\": 1463, \"name\": \"culture clash\"}, {\"id\":...</td>\n",
       "      <td>en</td>\n",
       "      <td>Avatar</td>\n",
       "      <td>In the 22nd century, a paraplegic Marine is di...</td>\n",
       "      <td>150.437577</td>\n",
       "      <td>[{\"name\": \"Ingenious Film Partners\", \"id\": 289...</td>\n",
       "      <td>[{\"iso_3166_1\": \"US\", \"name\": \"United States o...</td>\n",
       "      <td>2009-12-10</td>\n",
       "      <td>2787965087</td>\n",
       "      <td>162.0</td>\n",
       "      <td>[{\"iso_639_1\": \"en\", \"name\": \"English\"}, {\"iso...</td>\n",
       "      <td>Released</td>\n",
       "      <td>Enter the World of Pandora.</td>\n",
       "      <td>Avatar</td>\n",
       "      <td>7.2</td>\n",
       "      <td>11800</td>\n",
       "    </tr>\n",
       "    <tr>\n",
       "      <th>1</th>\n",
       "      <td>300000000</td>\n",
       "      <td>[{\"id\": 12, \"name\": \"Adventure\"}, {\"id\": 14, \"...</td>\n",
       "      <td>http://disney.go.com/disneypictures/pirates/</td>\n",
       "      <td>285</td>\n",
       "      <td>[{\"id\": 270, \"name\": \"ocean\"}, {\"id\": 726, \"na...</td>\n",
       "      <td>en</td>\n",
       "      <td>Pirates of the Caribbean: At World's End</td>\n",
       "      <td>Captain Barbossa, long believed to be dead, ha...</td>\n",
       "      <td>139.082615</td>\n",
       "      <td>[{\"name\": \"Walt Disney Pictures\", \"id\": 2}, {\"...</td>\n",
       "      <td>[{\"iso_3166_1\": \"US\", \"name\": \"United States o...</td>\n",
       "      <td>2007-05-19</td>\n",
       "      <td>961000000</td>\n",
       "      <td>169.0</td>\n",
       "      <td>[{\"iso_639_1\": \"en\", \"name\": \"English\"}]</td>\n",
       "      <td>Released</td>\n",
       "      <td>At the end of the world, the adventure begins.</td>\n",
       "      <td>Pirates of the Caribbean: At World's End</td>\n",
       "      <td>6.9</td>\n",
       "      <td>4500</td>\n",
       "    </tr>\n",
       "    <tr>\n",
       "      <th>2</th>\n",
       "      <td>245000000</td>\n",
       "      <td>[{\"id\": 28, \"name\": \"Action\"}, {\"id\": 12, \"nam...</td>\n",
       "      <td>http://www.sonypictures.com/movies/spectre/</td>\n",
       "      <td>206647</td>\n",
       "      <td>[{\"id\": 470, \"name\": \"spy\"}, {\"id\": 818, \"name...</td>\n",
       "      <td>en</td>\n",
       "      <td>Spectre</td>\n",
       "      <td>A cryptic message from Bond’s past sends him o...</td>\n",
       "      <td>107.376788</td>\n",
       "      <td>[{\"name\": \"Columbia Pictures\", \"id\": 5}, {\"nam...</td>\n",
       "      <td>[{\"iso_3166_1\": \"GB\", \"name\": \"United Kingdom\"...</td>\n",
       "      <td>2015-10-26</td>\n",
       "      <td>880674609</td>\n",
       "      <td>148.0</td>\n",
       "      <td>[{\"iso_639_1\": \"fr\", \"name\": \"Fran\\u00e7ais\"},...</td>\n",
       "      <td>Released</td>\n",
       "      <td>A Plan No One Escapes</td>\n",
       "      <td>Spectre</td>\n",
       "      <td>6.3</td>\n",
       "      <td>4466</td>\n",
       "    </tr>\n",
       "  </tbody>\n",
       "</table>\n",
       "</div>"
      ],
      "text/plain": [
       "      budget                                             genres  \\\n",
       "0  237000000  [{\"id\": 28, \"name\": \"Action\"}, {\"id\": 12, \"nam...   \n",
       "1  300000000  [{\"id\": 12, \"name\": \"Adventure\"}, {\"id\": 14, \"...   \n",
       "2  245000000  [{\"id\": 28, \"name\": \"Action\"}, {\"id\": 12, \"nam...   \n",
       "\n",
       "                                       homepage      id  \\\n",
       "0                   http://www.avatarmovie.com/   19995   \n",
       "1  http://disney.go.com/disneypictures/pirates/     285   \n",
       "2   http://www.sonypictures.com/movies/spectre/  206647   \n",
       "\n",
       "                                            keywords original_language  \\\n",
       "0  [{\"id\": 1463, \"name\": \"culture clash\"}, {\"id\":...                en   \n",
       "1  [{\"id\": 270, \"name\": \"ocean\"}, {\"id\": 726, \"na...                en   \n",
       "2  [{\"id\": 470, \"name\": \"spy\"}, {\"id\": 818, \"name...                en   \n",
       "\n",
       "                             original_title  \\\n",
       "0                                    Avatar   \n",
       "1  Pirates of the Caribbean: At World's End   \n",
       "2                                   Spectre   \n",
       "\n",
       "                                            overview  popularity  \\\n",
       "0  In the 22nd century, a paraplegic Marine is di...  150.437577   \n",
       "1  Captain Barbossa, long believed to be dead, ha...  139.082615   \n",
       "2  A cryptic message from Bond’s past sends him o...  107.376788   \n",
       "\n",
       "                                production_companies  \\\n",
       "0  [{\"name\": \"Ingenious Film Partners\", \"id\": 289...   \n",
       "1  [{\"name\": \"Walt Disney Pictures\", \"id\": 2}, {\"...   \n",
       "2  [{\"name\": \"Columbia Pictures\", \"id\": 5}, {\"nam...   \n",
       "\n",
       "                                production_countries release_date     revenue  \\\n",
       "0  [{\"iso_3166_1\": \"US\", \"name\": \"United States o...   2009-12-10  2787965087   \n",
       "1  [{\"iso_3166_1\": \"US\", \"name\": \"United States o...   2007-05-19   961000000   \n",
       "2  [{\"iso_3166_1\": \"GB\", \"name\": \"United Kingdom\"...   2015-10-26   880674609   \n",
       "\n",
       "   runtime                                   spoken_languages    status  \\\n",
       "0    162.0  [{\"iso_639_1\": \"en\", \"name\": \"English\"}, {\"iso...  Released   \n",
       "1    169.0           [{\"iso_639_1\": \"en\", \"name\": \"English\"}]  Released   \n",
       "2    148.0  [{\"iso_639_1\": \"fr\", \"name\": \"Fran\\u00e7ais\"},...  Released   \n",
       "\n",
       "                                          tagline  \\\n",
       "0                     Enter the World of Pandora.   \n",
       "1  At the end of the world, the adventure begins.   \n",
       "2                           A Plan No One Escapes   \n",
       "\n",
       "                                      title  vote_average  vote_count  \n",
       "0                                    Avatar           7.2       11800  \n",
       "1  Pirates of the Caribbean: At World's End           6.9        4500  \n",
       "2                                   Spectre           6.3        4466  "
      ]
     },
     "execution_count": 5,
     "metadata": {},
     "output_type": "execute_result"
    }
   ],
   "source": [
    "df.head(3)"
   ]
  },
  {
   "cell_type": "markdown",
   "metadata": {
    "colab_type": "text",
    "id": "BSzxeoHYRHgV"
   },
   "source": [
    "# **Dataset Analysis**"
   ]
  },
  {
   "cell_type": "code",
   "execution_count": 6,
   "metadata": {
    "colab": {
     "base_uri": "https://localhost:8080/",
     "height": 51
    },
    "colab_type": "code",
    "executionInfo": {
     "elapsed": 26498,
     "status": "ok",
     "timestamp": 1593274491300,
     "user": {
      "displayName": "Mariana Moura",
      "photoUrl": "",
      "userId": "09921903782139644629"
     },
     "user_tz": -60
    },
    "id": "lv5P3EGnQKCW",
    "outputId": "9f4b955d-e663-4b2d-8e3e-347ccfc8014d"
   },
   "outputs": [
    {
     "name": "stdout",
     "output_type": "stream",
     "text": [
      "Movies: 4801\n",
      "Features: 20, including target\n"
     ]
    }
   ],
   "source": [
    "print(f\"Movies: {df.original_title.nunique()}\")\n",
    "print(f\"Features: {df.shape[1]}, including target\")\n",
    "\n",
    "OUTDATED_IGNORE=1"
   ]
  },
  {
   "cell_type": "markdown",
   "metadata": {
    "colab_type": "text",
    "id": "5ISl2qyFQTLn"
   },
   "source": [
    "---"
   ]
  },
  {
   "cell_type": "code",
   "execution_count": 7,
   "metadata": {
    "colab": {
     "base_uri": "https://localhost:8080/",
     "height": 374
    },
    "colab_type": "code",
    "executionInfo": {
     "elapsed": 26454,
     "status": "ok",
     "timestamp": 1593274491302,
     "user": {
      "displayName": "Mariana Moura",
      "photoUrl": "",
      "userId": "09921903782139644629"
     },
     "user_tz": -60
    },
    "id": "iM-USwyoQSGX",
    "outputId": "653afb05-e378-4caf-c4b7-5960a9c733e8"
   },
   "outputs": [
    {
     "data": {
      "text/plain": [
       "budget                    int64\n",
       "revenue                   int64\n",
       "id                        int64\n",
       "vote_count                int64\n",
       "popularity              float64\n",
       "vote_average            float64\n",
       "runtime                 float64\n",
       "keywords                 object\n",
       "original_language        object\n",
       "original_title           object\n",
       "overview                 object\n",
       "production_countries     object\n",
       "release_date             object\n",
       "genres                   object\n",
       "spoken_languages         object\n",
       "status                   object\n",
       "tagline                  object\n",
       "title                    object\n",
       "homepage                 object\n",
       "production_companies     object\n",
       "dtype: object"
      ]
     },
     "execution_count": 7,
     "metadata": {},
     "output_type": "execute_result"
    }
   ],
   "source": [
    "df.dtypes.sort_values(ascending=True)"
   ]
  },
  {
   "cell_type": "code",
   "execution_count": 8,
   "metadata": {
    "colab": {
     "base_uri": "https://localhost:8080/",
     "height": 51
    },
    "colab_type": "code",
    "executionInfo": {
     "elapsed": 26410,
     "status": "ok",
     "timestamp": 1593274491304,
     "user": {
      "displayName": "Mariana Moura",
      "photoUrl": "",
      "userId": "09921903782139644629"
     },
     "user_tz": -60
    },
    "id": "3SqYxhHqQVjw",
    "outputId": "59a76289-0397-4112-e9a7-a0dd629a3e9a"
   },
   "outputs": [
    {
     "name": "stdout",
     "output_type": "stream",
     "text": [
      "Categoric variables: 13\n",
      "Numeric variables:    7\n"
     ]
    }
   ],
   "source": [
    "print(f\"Categoric variables: {df.dtypes.value_counts()[0]}\")\n",
    "print(f\"Numeric variables:    {(df.dtypes.value_counts()[-1])+(df.dtypes.value_counts()[-2])}\")"
   ]
  },
  {
   "cell_type": "code",
   "execution_count": 9,
   "metadata": {
    "colab": {
     "base_uri": "https://localhost:8080/",
     "height": 297
    },
    "colab_type": "code",
    "executionInfo": {
     "elapsed": 26352,
     "status": "ok",
     "timestamp": 1593274491307,
     "user": {
      "displayName": "Mariana Moura",
      "photoUrl": "",
      "userId": "09921903782139644629"
     },
     "user_tz": -60
    },
    "id": "CLwDMZUXQXzn",
    "outputId": "6a23b9be-c79b-4a47-ad0a-907b11d4a1bd"
   },
   "outputs": [
    {
     "data": {
      "text/html": [
       "<div>\n",
       "<style scoped>\n",
       "    .dataframe tbody tr th:only-of-type {\n",
       "        vertical-align: middle;\n",
       "    }\n",
       "\n",
       "    .dataframe tbody tr th {\n",
       "        vertical-align: top;\n",
       "    }\n",
       "\n",
       "    .dataframe thead th {\n",
       "        text-align: right;\n",
       "    }\n",
       "</style>\n",
       "<table border=\"1\" class=\"dataframe\">\n",
       "  <thead>\n",
       "    <tr style=\"text-align: right;\">\n",
       "      <th></th>\n",
       "      <th>budget</th>\n",
       "      <th>id</th>\n",
       "      <th>popularity</th>\n",
       "      <th>revenue</th>\n",
       "      <th>runtime</th>\n",
       "      <th>vote_average</th>\n",
       "      <th>vote_count</th>\n",
       "    </tr>\n",
       "  </thead>\n",
       "  <tbody>\n",
       "    <tr>\n",
       "      <th>count</th>\n",
       "      <td>4.803000e+03</td>\n",
       "      <td>4803.000000</td>\n",
       "      <td>4803.000000</td>\n",
       "      <td>4.803000e+03</td>\n",
       "      <td>4801.000000</td>\n",
       "      <td>4803.000000</td>\n",
       "      <td>4803.000000</td>\n",
       "    </tr>\n",
       "    <tr>\n",
       "      <th>mean</th>\n",
       "      <td>2.904504e+07</td>\n",
       "      <td>57165.484281</td>\n",
       "      <td>21.492301</td>\n",
       "      <td>8.226064e+07</td>\n",
       "      <td>106.875859</td>\n",
       "      <td>6.092172</td>\n",
       "      <td>690.217989</td>\n",
       "    </tr>\n",
       "    <tr>\n",
       "      <th>std</th>\n",
       "      <td>4.072239e+07</td>\n",
       "      <td>88694.614033</td>\n",
       "      <td>31.816650</td>\n",
       "      <td>1.628571e+08</td>\n",
       "      <td>22.611935</td>\n",
       "      <td>1.194612</td>\n",
       "      <td>1234.585891</td>\n",
       "    </tr>\n",
       "    <tr>\n",
       "      <th>min</th>\n",
       "      <td>0.000000e+00</td>\n",
       "      <td>5.000000</td>\n",
       "      <td>0.000000</td>\n",
       "      <td>0.000000e+00</td>\n",
       "      <td>0.000000</td>\n",
       "      <td>0.000000</td>\n",
       "      <td>0.000000</td>\n",
       "    </tr>\n",
       "    <tr>\n",
       "      <th>25%</th>\n",
       "      <td>7.900000e+05</td>\n",
       "      <td>9014.500000</td>\n",
       "      <td>4.668070</td>\n",
       "      <td>0.000000e+00</td>\n",
       "      <td>94.000000</td>\n",
       "      <td>5.600000</td>\n",
       "      <td>54.000000</td>\n",
       "    </tr>\n",
       "    <tr>\n",
       "      <th>50%</th>\n",
       "      <td>1.500000e+07</td>\n",
       "      <td>14629.000000</td>\n",
       "      <td>12.921594</td>\n",
       "      <td>1.917000e+07</td>\n",
       "      <td>103.000000</td>\n",
       "      <td>6.200000</td>\n",
       "      <td>235.000000</td>\n",
       "    </tr>\n",
       "    <tr>\n",
       "      <th>75%</th>\n",
       "      <td>4.000000e+07</td>\n",
       "      <td>58610.500000</td>\n",
       "      <td>28.313505</td>\n",
       "      <td>9.291719e+07</td>\n",
       "      <td>118.000000</td>\n",
       "      <td>6.800000</td>\n",
       "      <td>737.000000</td>\n",
       "    </tr>\n",
       "    <tr>\n",
       "      <th>max</th>\n",
       "      <td>3.800000e+08</td>\n",
       "      <td>459488.000000</td>\n",
       "      <td>875.581305</td>\n",
       "      <td>2.787965e+09</td>\n",
       "      <td>338.000000</td>\n",
       "      <td>10.000000</td>\n",
       "      <td>13752.000000</td>\n",
       "    </tr>\n",
       "  </tbody>\n",
       "</table>\n",
       "</div>"
      ],
      "text/plain": [
       "             budget             id   popularity       revenue      runtime  \\\n",
       "count  4.803000e+03    4803.000000  4803.000000  4.803000e+03  4801.000000   \n",
       "mean   2.904504e+07   57165.484281    21.492301  8.226064e+07   106.875859   \n",
       "std    4.072239e+07   88694.614033    31.816650  1.628571e+08    22.611935   \n",
       "min    0.000000e+00       5.000000     0.000000  0.000000e+00     0.000000   \n",
       "25%    7.900000e+05    9014.500000     4.668070  0.000000e+00    94.000000   \n",
       "50%    1.500000e+07   14629.000000    12.921594  1.917000e+07   103.000000   \n",
       "75%    4.000000e+07   58610.500000    28.313505  9.291719e+07   118.000000   \n",
       "max    3.800000e+08  459488.000000   875.581305  2.787965e+09   338.000000   \n",
       "\n",
       "       vote_average    vote_count  \n",
       "count   4803.000000   4803.000000  \n",
       "mean       6.092172    690.217989  \n",
       "std        1.194612   1234.585891  \n",
       "min        0.000000      0.000000  \n",
       "25%        5.600000     54.000000  \n",
       "50%        6.200000    235.000000  \n",
       "75%        6.800000    737.000000  \n",
       "max       10.000000  13752.000000  "
      ]
     },
     "execution_count": 9,
     "metadata": {},
     "output_type": "execute_result"
    }
   ],
   "source": [
    "df.describe()"
   ]
  },
  {
   "cell_type": "code",
   "execution_count": 10,
   "metadata": {
    "colab": {
     "base_uri": "https://localhost:8080/",
     "height": 278
    },
    "colab_type": "code",
    "executionInfo": {
     "elapsed": 26737,
     "status": "ok",
     "timestamp": 1593274491734,
     "user": {
      "displayName": "Mariana Moura",
      "photoUrl": "",
      "userId": "09921903782139644629"
     },
     "user_tz": -60
    },
    "id": "Npz52a4eQX7B",
    "outputId": "205cebbc-32a9-4fcf-9e19-df2172f693ac"
   },
   "outputs": [
    {
     "data": {
      "text/html": [
       "<div>\n",
       "<style scoped>\n",
       "    .dataframe tbody tr th:only-of-type {\n",
       "        vertical-align: middle;\n",
       "    }\n",
       "\n",
       "    .dataframe tbody tr th {\n",
       "        vertical-align: top;\n",
       "    }\n",
       "\n",
       "    .dataframe thead th {\n",
       "        text-align: right;\n",
       "    }\n",
       "</style>\n",
       "<table border=\"1\" class=\"dataframe\">\n",
       "  <thead>\n",
       "    <tr style=\"text-align: right;\">\n",
       "      <th></th>\n",
       "      <th>genres</th>\n",
       "      <th>homepage</th>\n",
       "      <th>keywords</th>\n",
       "      <th>original_language</th>\n",
       "      <th>original_title</th>\n",
       "      <th>overview</th>\n",
       "      <th>production_companies</th>\n",
       "      <th>production_countries</th>\n",
       "      <th>release_date</th>\n",
       "      <th>spoken_languages</th>\n",
       "      <th>status</th>\n",
       "      <th>tagline</th>\n",
       "      <th>title</th>\n",
       "    </tr>\n",
       "  </thead>\n",
       "  <tbody>\n",
       "    <tr>\n",
       "      <th>count</th>\n",
       "      <td>4803</td>\n",
       "      <td>1712</td>\n",
       "      <td>4803</td>\n",
       "      <td>4803</td>\n",
       "      <td>4803</td>\n",
       "      <td>4800</td>\n",
       "      <td>4803</td>\n",
       "      <td>4803</td>\n",
       "      <td>4802</td>\n",
       "      <td>4803</td>\n",
       "      <td>4803</td>\n",
       "      <td>3959</td>\n",
       "      <td>4803</td>\n",
       "    </tr>\n",
       "    <tr>\n",
       "      <th>unique</th>\n",
       "      <td>1175</td>\n",
       "      <td>1691</td>\n",
       "      <td>4222</td>\n",
       "      <td>37</td>\n",
       "      <td>4801</td>\n",
       "      <td>4800</td>\n",
       "      <td>3697</td>\n",
       "      <td>469</td>\n",
       "      <td>3280</td>\n",
       "      <td>544</td>\n",
       "      <td>3</td>\n",
       "      <td>3944</td>\n",
       "      <td>4800</td>\n",
       "    </tr>\n",
       "    <tr>\n",
       "      <th>top</th>\n",
       "      <td>[{\"id\": 18, \"name\": \"Drama\"}]</td>\n",
       "      <td>http://www.missionimpossible.com/</td>\n",
       "      <td>[]</td>\n",
       "      <td>en</td>\n",
       "      <td>Out of the Blue</td>\n",
       "      <td>Derek and Hansel are modelling again when an o...</td>\n",
       "      <td>[]</td>\n",
       "      <td>[{\"iso_3166_1\": \"US\", \"name\": \"United States o...</td>\n",
       "      <td>2006-01-01</td>\n",
       "      <td>[{\"iso_639_1\": \"en\", \"name\": \"English\"}]</td>\n",
       "      <td>Released</td>\n",
       "      <td>Based on a true story.</td>\n",
       "      <td>The Host</td>\n",
       "    </tr>\n",
       "    <tr>\n",
       "      <th>freq</th>\n",
       "      <td>370</td>\n",
       "      <td>4</td>\n",
       "      <td>412</td>\n",
       "      <td>4505</td>\n",
       "      <td>2</td>\n",
       "      <td>1</td>\n",
       "      <td>351</td>\n",
       "      <td>2977</td>\n",
       "      <td>10</td>\n",
       "      <td>3171</td>\n",
       "      <td>4795</td>\n",
       "      <td>3</td>\n",
       "      <td>2</td>\n",
       "    </tr>\n",
       "  </tbody>\n",
       "</table>\n",
       "</div>"
      ],
      "text/plain": [
       "                               genres                           homepage  \\\n",
       "count                            4803                               1712   \n",
       "unique                           1175                               1691   \n",
       "top     [{\"id\": 18, \"name\": \"Drama\"}]  http://www.missionimpossible.com/   \n",
       "freq                              370                                  4   \n",
       "\n",
       "       keywords original_language   original_title  \\\n",
       "count      4803              4803             4803   \n",
       "unique     4222                37             4801   \n",
       "top          []                en  Out of the Blue   \n",
       "freq        412              4505                2   \n",
       "\n",
       "                                                 overview  \\\n",
       "count                                                4800   \n",
       "unique                                               4800   \n",
       "top     Derek and Hansel are modelling again when an o...   \n",
       "freq                                                    1   \n",
       "\n",
       "       production_companies  \\\n",
       "count                  4803   \n",
       "unique                 3697   \n",
       "top                      []   \n",
       "freq                    351   \n",
       "\n",
       "                                     production_countries release_date  \\\n",
       "count                                                4803         4802   \n",
       "unique                                                469         3280   \n",
       "top     [{\"iso_3166_1\": \"US\", \"name\": \"United States o...   2006-01-01   \n",
       "freq                                                 2977           10   \n",
       "\n",
       "                                spoken_languages    status  \\\n",
       "count                                       4803      4803   \n",
       "unique                                       544         3   \n",
       "top     [{\"iso_639_1\": \"en\", \"name\": \"English\"}]  Released   \n",
       "freq                                        3171      4795   \n",
       "\n",
       "                       tagline     title  \n",
       "count                     3959      4803  \n",
       "unique                    3944      4800  \n",
       "top     Based on a true story.  The Host  \n",
       "freq                         3         2  "
      ]
     },
     "execution_count": 10,
     "metadata": {},
     "output_type": "execute_result"
    }
   ],
   "source": [
    "df.describe(include=[\"O\"])"
   ]
  },
  {
   "cell_type": "markdown",
   "metadata": {
    "colab_type": "text",
    "id": "Y6rBFfQsQe_f"
   },
   "source": [
    "## **Missing values**"
   ]
  },
  {
   "cell_type": "code",
   "execution_count": 11,
   "metadata": {
    "colab": {
     "base_uri": "https://localhost:8080/",
     "height": 34
    },
    "colab_type": "code",
    "executionInfo": {
     "elapsed": 26715,
     "status": "ok",
     "timestamp": 1593274491737,
     "user": {
      "displayName": "Mariana Moura",
      "photoUrl": "",
      "userId": "09921903782139644629"
     },
     "user_tz": -60
    },
    "id": "FneUnsPRQcVo",
    "outputId": "08ed5d02-fefc-4bda-99c7-7fd36f7f759f"
   },
   "outputs": [
    {
     "data": {
      "text/plain": [
       "True"
      ]
     },
     "execution_count": 11,
     "metadata": {},
     "output_type": "execute_result"
    }
   ],
   "source": [
    "df.isnull().values.any()"
   ]
  },
  {
   "cell_type": "code",
   "execution_count": 12,
   "metadata": {
    "colab": {
     "base_uri": "https://localhost:8080/",
     "height": 669
    },
    "colab_type": "code",
    "executionInfo": {
     "elapsed": 26666,
     "status": "ok",
     "timestamp": 1593274491740,
     "user": {
      "displayName": "Mariana Moura",
      "photoUrl": "",
      "userId": "09921903782139644629"
     },
     "user_tz": -60
    },
    "id": "lKZ3vWuxQcaQ",
    "outputId": "1ad63a04-1c1f-4455-b54e-47fd2a70adeb"
   },
   "outputs": [
    {
     "data": {
      "text/html": [
       "<div>\n",
       "<style scoped>\n",
       "    .dataframe tbody tr th:only-of-type {\n",
       "        vertical-align: middle;\n",
       "    }\n",
       "\n",
       "    .dataframe tbody tr th {\n",
       "        vertical-align: top;\n",
       "    }\n",
       "\n",
       "    .dataframe thead th {\n",
       "        text-align: right;\n",
       "    }\n",
       "</style>\n",
       "<table border=\"1\" class=\"dataframe\">\n",
       "  <thead>\n",
       "    <tr style=\"text-align: right;\">\n",
       "      <th></th>\n",
       "      <th>Abs</th>\n",
       "      <th>%</th>\n",
       "    </tr>\n",
       "  </thead>\n",
       "  <tbody>\n",
       "    <tr>\n",
       "      <th>homepage</th>\n",
       "      <td>3091</td>\n",
       "      <td>64.36</td>\n",
       "    </tr>\n",
       "    <tr>\n",
       "      <th>tagline</th>\n",
       "      <td>844</td>\n",
       "      <td>17.57</td>\n",
       "    </tr>\n",
       "    <tr>\n",
       "      <th>overview</th>\n",
       "      <td>3</td>\n",
       "      <td>0.06</td>\n",
       "    </tr>\n",
       "    <tr>\n",
       "      <th>runtime</th>\n",
       "      <td>2</td>\n",
       "      <td>0.04</td>\n",
       "    </tr>\n",
       "    <tr>\n",
       "      <th>release_date</th>\n",
       "      <td>1</td>\n",
       "      <td>0.02</td>\n",
       "    </tr>\n",
       "    <tr>\n",
       "      <th>budget</th>\n",
       "      <td>0</td>\n",
       "      <td>0.00</td>\n",
       "    </tr>\n",
       "    <tr>\n",
       "      <th>vote_average</th>\n",
       "      <td>0</td>\n",
       "      <td>0.00</td>\n",
       "    </tr>\n",
       "    <tr>\n",
       "      <th>title</th>\n",
       "      <td>0</td>\n",
       "      <td>0.00</td>\n",
       "    </tr>\n",
       "    <tr>\n",
       "      <th>status</th>\n",
       "      <td>0</td>\n",
       "      <td>0.00</td>\n",
       "    </tr>\n",
       "    <tr>\n",
       "      <th>spoken_languages</th>\n",
       "      <td>0</td>\n",
       "      <td>0.00</td>\n",
       "    </tr>\n",
       "    <tr>\n",
       "      <th>revenue</th>\n",
       "      <td>0</td>\n",
       "      <td>0.00</td>\n",
       "    </tr>\n",
       "    <tr>\n",
       "      <th>production_countries</th>\n",
       "      <td>0</td>\n",
       "      <td>0.00</td>\n",
       "    </tr>\n",
       "    <tr>\n",
       "      <th>genres</th>\n",
       "      <td>0</td>\n",
       "      <td>0.00</td>\n",
       "    </tr>\n",
       "    <tr>\n",
       "      <th>production_companies</th>\n",
       "      <td>0</td>\n",
       "      <td>0.00</td>\n",
       "    </tr>\n",
       "    <tr>\n",
       "      <th>popularity</th>\n",
       "      <td>0</td>\n",
       "      <td>0.00</td>\n",
       "    </tr>\n",
       "    <tr>\n",
       "      <th>original_title</th>\n",
       "      <td>0</td>\n",
       "      <td>0.00</td>\n",
       "    </tr>\n",
       "    <tr>\n",
       "      <th>original_language</th>\n",
       "      <td>0</td>\n",
       "      <td>0.00</td>\n",
       "    </tr>\n",
       "    <tr>\n",
       "      <th>keywords</th>\n",
       "      <td>0</td>\n",
       "      <td>0.00</td>\n",
       "    </tr>\n",
       "    <tr>\n",
       "      <th>id</th>\n",
       "      <td>0</td>\n",
       "      <td>0.00</td>\n",
       "    </tr>\n",
       "    <tr>\n",
       "      <th>vote_count</th>\n",
       "      <td>0</td>\n",
       "      <td>0.00</td>\n",
       "    </tr>\n",
       "  </tbody>\n",
       "</table>\n",
       "</div>"
      ],
      "text/plain": [
       "                       Abs      %\n",
       "homepage              3091  64.36\n",
       "tagline                844  17.57\n",
       "overview                 3   0.06\n",
       "runtime                  2   0.04\n",
       "release_date             1   0.02\n",
       "budget                   0   0.00\n",
       "vote_average             0   0.00\n",
       "title                    0   0.00\n",
       "status                   0   0.00\n",
       "spoken_languages         0   0.00\n",
       "revenue                  0   0.00\n",
       "production_countries     0   0.00\n",
       "genres                   0   0.00\n",
       "production_companies     0   0.00\n",
       "popularity               0   0.00\n",
       "original_title           0   0.00\n",
       "original_language        0   0.00\n",
       "keywords                 0   0.00\n",
       "id                       0   0.00\n",
       "vote_count               0   0.00"
      ]
     },
     "execution_count": 12,
     "metadata": {},
     "output_type": "execute_result"
    }
   ],
   "source": [
    "null_abs = df.isnull().sum()\n",
    "null_pc = df.isnull().sum() / df.isnull().shape[0] *100\n",
    "null_concat = pd.concat([null_abs,null_pc], axis=1).round(2)\n",
    "null_concat.columns = ['Abs', '%']\n",
    "null_concat.sort_values(by=\"Abs\", ascending=False)"
   ]
  },
  {
   "cell_type": "markdown",
   "metadata": {
    "colab_type": "text",
    "id": "pFwj5WjhQpmw"
   },
   "source": [
    "## **Creating Dataframes (num and cat)**"
   ]
  },
  {
   "cell_type": "code",
   "execution_count": 13,
   "metadata": {
    "colab": {},
    "colab_type": "code",
    "executionInfo": {
     "elapsed": 26649,
     "status": "ok",
     "timestamp": 1593274491742,
     "user": {
      "displayName": "Mariana Moura",
      "photoUrl": "",
      "userId": "09921903782139644629"
     },
     "user_tz": -60
    },
    "id": "g-9XEYLJQcYa"
   },
   "outputs": [],
   "source": [
    "# Create numeric and catgoric dataframes\n",
    "\n",
    "# Numeric\n",
    "df_num = df.select_dtypes(include=['int64','float64']).copy()\n",
    "\n",
    "# Categoric\n",
    "df_cat = df.select_dtypes(include=['object','category']).copy()\n",
    "df_cat[\"target\"] = df.vote_average"
   ]
  },
  {
   "cell_type": "markdown",
   "metadata": {
    "colab_type": "text",
    "id": "lw15WKd_Q5Jg"
   },
   "source": [
    "---"
   ]
  },
  {
   "cell_type": "markdown",
   "metadata": {
    "colab_type": "text",
    "id": "t1KkyvmjQ9l-"
   },
   "source": [
    "# **Numeric variables**"
   ]
  },
  {
   "cell_type": "markdown",
   "metadata": {
    "colab_type": "text",
    "id": "qQF5zFM-RO_f"
   },
   "source": [
    "**Drop 'id'**: Removing 'id' as it does not add relevant information to the dataset. "
   ]
  },
  {
   "cell_type": "code",
   "execution_count": 14,
   "metadata": {
    "colab": {},
    "colab_type": "code",
    "executionInfo": {
     "elapsed": 26635,
     "status": "ok",
     "timestamp": 1593274491744,
     "user": {
      "displayName": "Mariana Moura",
      "photoUrl": "",
      "userId": "09921903782139644629"
     },
     "user_tz": -60
    },
    "id": "QMKq4u6_Q84_"
   },
   "outputs": [],
   "source": [
    "df_num.drop([\"id\"], axis=1, inplace=True)"
   ]
  },
  {
   "cell_type": "markdown",
   "metadata": {
    "colab_type": "text",
    "id": "PLv7o6SuRSds"
   },
   "source": [
    "**Extracting the year** from 'release_date' (it will automatically be converted into numeric)."
   ]
  },
  {
   "cell_type": "code",
   "execution_count": 15,
   "metadata": {
    "colab": {},
    "colab_type": "code",
    "executionInfo": {
     "elapsed": 26619,
     "status": "ok",
     "timestamp": 1593274491745,
     "user": {
      "displayName": "Mariana Moura",
      "photoUrl": "",
      "userId": "09921903782139644629"
     },
     "user_tz": -60
    },
    "id": "oA3A7uoORR5V"
   },
   "outputs": [],
   "source": [
    "df_num['release_date'] = pd.to_datetime(df['release_date'], format='%Y-%m-%d')"
   ]
  },
  {
   "cell_type": "code",
   "execution_count": 16,
   "metadata": {
    "colab": {},
    "colab_type": "code",
    "executionInfo": {
     "elapsed": 26610,
     "status": "ok",
     "timestamp": 1593274491747,
     "user": {
      "displayName": "Mariana Moura",
      "photoUrl": "",
      "userId": "09921903782139644629"
     },
     "user_tz": -60
    },
    "id": "RdWO8nqfRWRV"
   },
   "outputs": [],
   "source": [
    "df_num['year'] = df_num['release_date'].dt.year"
   ]
  },
  {
   "cell_type": "code",
   "execution_count": 17,
   "metadata": {
    "colab": {},
    "colab_type": "code",
    "executionInfo": {
     "elapsed": 26597,
     "status": "ok",
     "timestamp": 1593274491748,
     "user": {
      "displayName": "Mariana Moura",
      "photoUrl": "",
      "userId": "09921903782139644629"
     },
     "user_tz": -60
    },
    "id": "EhxkAK_WRWUI"
   },
   "outputs": [],
   "source": [
    "df_num.drop([\"release_date\"], axis=1,inplace=True)"
   ]
  },
  {
   "cell_type": "code",
   "execution_count": 18,
   "metadata": {
    "colab": {
     "base_uri": "https://localhost:8080/",
     "height": 142
    },
    "colab_type": "code",
    "executionInfo": {
     "elapsed": 26560,
     "status": "ok",
     "timestamp": 1593274491749,
     "user": {
      "displayName": "Mariana Moura",
      "photoUrl": "",
      "userId": "09921903782139644629"
     },
     "user_tz": -60
    },
    "id": "XUvVrzNIRZDm",
    "outputId": "8c76b160-aed3-408b-bcb2-d9dd4eecf619"
   },
   "outputs": [
    {
     "data": {
      "text/html": [
       "<div>\n",
       "<style scoped>\n",
       "    .dataframe tbody tr th:only-of-type {\n",
       "        vertical-align: middle;\n",
       "    }\n",
       "\n",
       "    .dataframe tbody tr th {\n",
       "        vertical-align: top;\n",
       "    }\n",
       "\n",
       "    .dataframe thead th {\n",
       "        text-align: right;\n",
       "    }\n",
       "</style>\n",
       "<table border=\"1\" class=\"dataframe\">\n",
       "  <thead>\n",
       "    <tr style=\"text-align: right;\">\n",
       "      <th></th>\n",
       "      <th>budget</th>\n",
       "      <th>popularity</th>\n",
       "      <th>revenue</th>\n",
       "      <th>runtime</th>\n",
       "      <th>vote_average</th>\n",
       "      <th>vote_count</th>\n",
       "      <th>year</th>\n",
       "    </tr>\n",
       "  </thead>\n",
       "  <tbody>\n",
       "    <tr>\n",
       "      <th>0</th>\n",
       "      <td>237000000</td>\n",
       "      <td>150.437577</td>\n",
       "      <td>2787965087</td>\n",
       "      <td>162.0</td>\n",
       "      <td>7.2</td>\n",
       "      <td>11800</td>\n",
       "      <td>2009.0</td>\n",
       "    </tr>\n",
       "    <tr>\n",
       "      <th>1</th>\n",
       "      <td>300000000</td>\n",
       "      <td>139.082615</td>\n",
       "      <td>961000000</td>\n",
       "      <td>169.0</td>\n",
       "      <td>6.9</td>\n",
       "      <td>4500</td>\n",
       "      <td>2007.0</td>\n",
       "    </tr>\n",
       "    <tr>\n",
       "      <th>2</th>\n",
       "      <td>245000000</td>\n",
       "      <td>107.376788</td>\n",
       "      <td>880674609</td>\n",
       "      <td>148.0</td>\n",
       "      <td>6.3</td>\n",
       "      <td>4466</td>\n",
       "      <td>2015.0</td>\n",
       "    </tr>\n",
       "  </tbody>\n",
       "</table>\n",
       "</div>"
      ],
      "text/plain": [
       "      budget  popularity     revenue  runtime  vote_average  vote_count  \\\n",
       "0  237000000  150.437577  2787965087    162.0           7.2       11800   \n",
       "1  300000000  139.082615   961000000    169.0           6.9        4500   \n",
       "2  245000000  107.376788   880674609    148.0           6.3        4466   \n",
       "\n",
       "     year  \n",
       "0  2009.0  \n",
       "1  2007.0  \n",
       "2  2015.0  "
      ]
     },
     "execution_count": 18,
     "metadata": {},
     "output_type": "execute_result"
    }
   ],
   "source": [
    "df_num.head(3)"
   ]
  },
  {
   "cell_type": "markdown",
   "metadata": {
    "colab_type": "text",
    "id": "KFA9XJgnRcOM"
   },
   "source": [
    "## **Correlations (numeric)**"
   ]
  },
  {
   "cell_type": "code",
   "execution_count": 19,
   "metadata": {
    "colab": {
     "base_uri": "https://localhost:8080/",
     "height": 1000
    },
    "colab_type": "code",
    "executionInfo": {
     "elapsed": 27193,
     "status": "ok",
     "timestamp": 1593274492418,
     "user": {
      "displayName": "Mariana Moura",
      "photoUrl": "",
      "userId": "09921903782139644629"
     },
     "user_tz": -60
    },
    "id": "nQX8eX7iRke5",
    "outputId": "1bdddad4-8b62-410b-994b-b45ff553dd5c"
   },
   "outputs": [
    {
     "name": "stdout",
     "output_type": "stream",
     "text": [
      "Correlations (Pearson) with the target variable\n",
      "\n"
     ]
    },
    {
     "data": {
      "text/html": [
       "<div>\n",
       "<style scoped>\n",
       "    .dataframe tbody tr th:only-of-type {\n",
       "        vertical-align: middle;\n",
       "    }\n",
       "\n",
       "    .dataframe tbody tr th {\n",
       "        vertical-align: top;\n",
       "    }\n",
       "\n",
       "    .dataframe thead th {\n",
       "        text-align: right;\n",
       "    }\n",
       "</style>\n",
       "<table border=\"1\" class=\"dataframe\">\n",
       "  <thead>\n",
       "    <tr style=\"text-align: right;\">\n",
       "      <th></th>\n",
       "      <th>Pearson Corr.</th>\n",
       "      <th>p-value</th>\n",
       "    </tr>\n",
       "  </thead>\n",
       "  <tbody>\n",
       "    <tr>\n",
       "      <th>runtime</th>\n",
       "      <td>0.37</td>\n",
       "      <td>0.0</td>\n",
       "    </tr>\n",
       "    <tr>\n",
       "      <th>vote_count</th>\n",
       "      <td>0.31</td>\n",
       "      <td>0.0</td>\n",
       "    </tr>\n",
       "    <tr>\n",
       "      <th>popularity</th>\n",
       "      <td>0.27</td>\n",
       "      <td>0.0</td>\n",
       "    </tr>\n",
       "    <tr>\n",
       "      <th>revenue</th>\n",
       "      <td>0.20</td>\n",
       "      <td>0.0</td>\n",
       "    </tr>\n",
       "    <tr>\n",
       "      <th>budget</th>\n",
       "      <td>0.09</td>\n",
       "      <td>0.0</td>\n",
       "    </tr>\n",
       "    <tr>\n",
       "      <th>year</th>\n",
       "      <td>-0.20</td>\n",
       "      <td>0.0</td>\n",
       "    </tr>\n",
       "  </tbody>\n",
       "</table>\n",
       "</div>"
      ],
      "text/plain": [
       "            Pearson Corr.  p-value\n",
       "runtime              0.37      0.0\n",
       "vote_count           0.31      0.0\n",
       "popularity           0.27      0.0\n",
       "revenue              0.20      0.0\n",
       "budget               0.09      0.0\n",
       "year                -0.20      0.0"
      ]
     },
     "metadata": {},
     "output_type": "display_data"
    },
    {
     "name": "stdout",
     "output_type": "stream",
     "text": [
      "\n",
      "Variables most correlated with each other (Pearson)\n"
     ]
    },
    {
     "data": {
      "text/html": [
       "<div>\n",
       "<style scoped>\n",
       "    .dataframe tbody tr th:only-of-type {\n",
       "        vertical-align: middle;\n",
       "    }\n",
       "\n",
       "    .dataframe tbody tr th {\n",
       "        vertical-align: top;\n",
       "    }\n",
       "\n",
       "    .dataframe thead th {\n",
       "        text-align: right;\n",
       "    }\n",
       "</style>\n",
       "<table border=\"1\" class=\"dataframe\">\n",
       "  <thead>\n",
       "    <tr style=\"text-align: right;\">\n",
       "      <th></th>\n",
       "      <th>X</th>\n",
       "      <th>Y</th>\n",
       "      <th>values</th>\n",
       "    </tr>\n",
       "  </thead>\n",
       "  <tbody>\n",
       "    <tr>\n",
       "      <th>0</th>\n",
       "      <td>revenue</td>\n",
       "      <td>vote_count</td>\n",
       "      <td>0.781487</td>\n",
       "    </tr>\n",
       "    <tr>\n",
       "      <th>1</th>\n",
       "      <td>popularity</td>\n",
       "      <td>vote_count</td>\n",
       "      <td>0.778130</td>\n",
       "    </tr>\n",
       "    <tr>\n",
       "      <th>2</th>\n",
       "      <td>budget</td>\n",
       "      <td>revenue</td>\n",
       "      <td>0.730823</td>\n",
       "    </tr>\n",
       "    <tr>\n",
       "      <th>3</th>\n",
       "      <td>popularity</td>\n",
       "      <td>revenue</td>\n",
       "      <td>0.644724</td>\n",
       "    </tr>\n",
       "    <tr>\n",
       "      <th>4</th>\n",
       "      <td>budget</td>\n",
       "      <td>vote_count</td>\n",
       "      <td>0.593180</td>\n",
       "    </tr>\n",
       "    <tr>\n",
       "      <th>5</th>\n",
       "      <td>budget</td>\n",
       "      <td>popularity</td>\n",
       "      <td>0.505414</td>\n",
       "    </tr>\n",
       "    <tr>\n",
       "      <th>6</th>\n",
       "      <td>runtime</td>\n",
       "      <td>vote_average</td>\n",
       "      <td>0.375046</td>\n",
       "    </tr>\n",
       "    <tr>\n",
       "      <th>7</th>\n",
       "      <td>popularity</td>\n",
       "      <td>year</td>\n",
       "      <td>0.101998</td>\n",
       "    </tr>\n",
       "    <tr>\n",
       "      <th>8</th>\n",
       "      <td>budget</td>\n",
       "      <td>vote_average</td>\n",
       "      <td>0.093146</td>\n",
       "    </tr>\n",
       "    <tr>\n",
       "      <th>9</th>\n",
       "      <td>revenue</td>\n",
       "      <td>year</td>\n",
       "      <td>0.090192</td>\n",
       "    </tr>\n",
       "    <tr>\n",
       "      <th>10</th>\n",
       "      <td>runtime</td>\n",
       "      <td>year</td>\n",
       "      <td>-0.166849</td>\n",
       "    </tr>\n",
       "    <tr>\n",
       "      <th>11</th>\n",
       "      <td>vote_average</td>\n",
       "      <td>year</td>\n",
       "      <td>-0.198499</td>\n",
       "    </tr>\n",
       "  </tbody>\n",
       "</table>\n",
       "</div>"
      ],
      "text/plain": [
       "               X             Y    values\n",
       "0        revenue    vote_count  0.781487\n",
       "1     popularity    vote_count  0.778130\n",
       "2         budget       revenue  0.730823\n",
       "3     popularity       revenue  0.644724\n",
       "4         budget    vote_count  0.593180\n",
       "5         budget    popularity  0.505414\n",
       "6        runtime  vote_average  0.375046\n",
       "7     popularity          year  0.101998\n",
       "8         budget  vote_average  0.093146\n",
       "9        revenue          year  0.090192\n",
       "10       runtime          year -0.166849\n",
       "11  vote_average          year -0.198499"
      ]
     },
     "metadata": {},
     "output_type": "display_data"
    },
    {
     "data": {
      "image/png": "[encoded data removed]",
      "text/plain": [
       "<Figure size 1152x576 with 2 Axes>"
      ]
     },
     "metadata": {
      "needs_background": "light"
     },
     "output_type": "display_data"
    }
   ],
   "source": [
    "# Correlations of the numeric variables (PEARSON)\n",
    "\n",
    "df_pear = df_num.copy()\n",
    "df_pear.dropna(inplace=True)\n",
    "\n",
    "Xnum = df_pear.drop([\"vote_average\"], axis= \"columns\")\n",
    "ynum = df_pear.vote_average\n",
    "\n",
    "print(\"Correlations (Pearson) with the target variable\")\n",
    "print(\"\")\n",
    "corr_pear = pd.DataFrame(\n",
    "    [scipy.stats.pearsonr(Xnum[col], ynum) for col in Xnum.columns],\n",
    "    columns=[\"Pearson Corr.\", \"p-value\"],\n",
    "    index=Xnum.columns,\n",
    ").round(2).sort_values(by=\"Pearson Corr.\", ascending=False)\n",
    "\n",
    "display(pd.DataFrame(\n",
    "    [scipy.stats.pearsonr(Xnum[col], ynum) for col in Xnum.columns],\n",
    "    columns=[\"Pearson Corr.\", \"p-value\"],\n",
    "    index=Xnum.columns,\n",
    ").round(2).sort_values(by=\"Pearson Corr.\", ascending=False))\n",
    "\n",
    "df_pear = df_num.copy()\n",
    "pearson = df_pear.corr()\n",
    "corr_target = pearson.vote_average\n",
    "\n",
    "print(\"\")\n",
    "print(\"Variables most correlated with each other (Pearson)\")\n",
    "\n",
    "pearson_rank = pg.pairwise_corr(df_pear, method='pearson').loc[:,['X','Y','r']]\n",
    "pos = pearson_rank.sort_values(kind=\"quicksort\", by=['r'], ascending=False).iloc[:7,:]\n",
    "neg = pearson_rank.sort_values(kind=\"quicksort\", by=['r'], ascending=False).iloc[-5:,:]\n",
    "\n",
    "con = pd.concat([pos,neg], axis=0).rename(columns={\"r\":\"values\"})\n",
    "display(con.reset_index(drop=True))\n",
    "\n",
    "mask = np.triu(df_num.corr(), 1)\n",
    "plt.figure(figsize=(16, 8))\n",
    "sns.heatmap(df_num.corr(), annot=True, vmax=1, vmin=-1, square=True, cmap='BrBG', mask=mask)\n",
    "plt.yticks(rotation = 0);"
   ]
  },
  {
   "cell_type": "markdown",
   "metadata": {
    "colab_type": "text",
    "id": "iPlJfuTdRvW9"
   },
   "source": [
    "After determining the correlations, the conclusion is that all numerical variables are statistically significant with relevant information for the models to compute. \n",
    "\n",
    "Besides, the most correlated pairs [\"revenue\", \"vote_count\"] and [\"popularity\", \"vote_count\"] display values around 78%, despite showing a tendency for redundancy, it's not that significant. At this stage, there is no strong evidence to remove any variable. "
   ]
  },
  {
   "cell_type": "code",
   "execution_count": 20,
   "metadata": {
    "colab": {
     "base_uri": "https://localhost:8080/",
     "height": 455
    },
    "colab_type": "code",
    "executionInfo": {
     "elapsed": 27148,
     "status": "ok",
     "timestamp": 1593274492420,
     "user": {
      "displayName": "Mariana Moura",
      "photoUrl": "",
      "userId": "09921903782139644629"
     },
     "user_tz": -60
    },
    "id": "8TX5Sh00RkkL",
    "outputId": "0730b58e-b73e-4507-f8df-90f8f795d7be"
   },
   "outputs": [
    {
     "name": "stdout",
     "output_type": "stream",
     "text": [
      "\n",
      "Monotic relationships (SPEARMAN)\n"
     ]
    },
    {
     "data": {
      "text/html": [
       "<div>\n",
       "<style scoped>\n",
       "    .dataframe tbody tr th:only-of-type {\n",
       "        vertical-align: middle;\n",
       "    }\n",
       "\n",
       "    .dataframe tbody tr th {\n",
       "        vertical-align: top;\n",
       "    }\n",
       "\n",
       "    .dataframe thead th {\n",
       "        text-align: right;\n",
       "    }\n",
       "</style>\n",
       "<table border=\"1\" class=\"dataframe\">\n",
       "  <thead>\n",
       "    <tr style=\"text-align: right;\">\n",
       "      <th></th>\n",
       "      <th>X</th>\n",
       "      <th>Y</th>\n",
       "      <th>values</th>\n",
       "    </tr>\n",
       "  </thead>\n",
       "  <tbody>\n",
       "    <tr>\n",
       "      <th>0</th>\n",
       "      <td>popularity</td>\n",
       "      <td>vote_count</td>\n",
       "      <td>0.959807</td>\n",
       "    </tr>\n",
       "    <tr>\n",
       "      <th>1</th>\n",
       "      <td>revenue</td>\n",
       "      <td>vote_count</td>\n",
       "      <td>0.804056</td>\n",
       "    </tr>\n",
       "    <tr>\n",
       "      <th>2</th>\n",
       "      <td>popularity</td>\n",
       "      <td>revenue</td>\n",
       "      <td>0.776679</td>\n",
       "    </tr>\n",
       "    <tr>\n",
       "      <th>3</th>\n",
       "      <td>budget</td>\n",
       "      <td>revenue</td>\n",
       "      <td>0.756841</td>\n",
       "    </tr>\n",
       "    <tr>\n",
       "      <th>4</th>\n",
       "      <td>budget</td>\n",
       "      <td>vote_count</td>\n",
       "      <td>0.663368</td>\n",
       "    </tr>\n",
       "    <tr>\n",
       "      <th>5</th>\n",
       "      <td>budget</td>\n",
       "      <td>popularity</td>\n",
       "      <td>0.649466</td>\n",
       "    </tr>\n",
       "    <tr>\n",
       "      <th>6</th>\n",
       "      <td>budget</td>\n",
       "      <td>runtime</td>\n",
       "      <td>0.326120</td>\n",
       "    </tr>\n",
       "    <tr>\n",
       "      <th>7</th>\n",
       "      <td>popularity</td>\n",
       "      <td>year</td>\n",
       "      <td>0.105202</td>\n",
       "    </tr>\n",
       "    <tr>\n",
       "      <th>8</th>\n",
       "      <td>vote_count</td>\n",
       "      <td>year</td>\n",
       "      <td>0.103058</td>\n",
       "    </tr>\n",
       "    <tr>\n",
       "      <th>9</th>\n",
       "      <td>budget</td>\n",
       "      <td>year</td>\n",
       "      <td>0.055884</td>\n",
       "    </tr>\n",
       "    <tr>\n",
       "      <th>10</th>\n",
       "      <td>revenue</td>\n",
       "      <td>year</td>\n",
       "      <td>0.011056</td>\n",
       "    </tr>\n",
       "    <tr>\n",
       "      <th>11</th>\n",
       "      <td>runtime</td>\n",
       "      <td>year</td>\n",
       "      <td>-0.113383</td>\n",
       "    </tr>\n",
       "  </tbody>\n",
       "</table>\n",
       "</div>"
      ],
      "text/plain": [
       "             X           Y    values\n",
       "0   popularity  vote_count  0.959807\n",
       "1      revenue  vote_count  0.804056\n",
       "2   popularity     revenue  0.776679\n",
       "3       budget     revenue  0.756841\n",
       "4       budget  vote_count  0.663368\n",
       "5       budget  popularity  0.649466\n",
       "6       budget     runtime  0.326120\n",
       "7   popularity        year  0.105202\n",
       "8   vote_count        year  0.103058\n",
       "9       budget        year  0.055884\n",
       "10     revenue        year  0.011056\n",
       "11     runtime        year -0.113383"
      ]
     },
     "metadata": {},
     "output_type": "display_data"
    }
   ],
   "source": [
    "df_pear.dropna(how=\"any\", axis=0, inplace=True)\n",
    "\n",
    "# Creating numercial subset\n",
    "Xnum = df_pear.drop([\"vote_average\"], axis= \"columns\")\n",
    "ynum = df_pear.vote_average\n",
    "\n",
    "# Monotic relationships (SPEARMAN)\n",
    "\n",
    "data_spear = df_num.copy()\n",
    "data_spear.drop([\"vote_average\"], axis=1, inplace=True)\n",
    "\n",
    "print(\"\")\n",
    "print(\"Monotic relationships (SPEARMAN)\")\n",
    "\n",
    "spearman_rank = pg.pairwise_corr(data_spear, method='spearman').loc[:,['X','Y','r']]\n",
    "pos2 = spearman_rank.sort_values(kind=\"quicksort\", by=['r'], ascending=False).iloc[:7,:]\n",
    "neg2 = spearman_rank.sort_values(kind=\"quicksort\", by=['r'], ascending=False).iloc[-5:,:]\n",
    "con2 = pd.concat([pos2,neg2], axis=0).rename(columns={\"r\":\"values\"})\n",
    "display(con2.reset_index(drop=True))"
   ]
  },
  {
   "cell_type": "markdown",
   "metadata": {
    "colab_type": "text",
    "id": "gQH5QARwR6ec"
   },
   "source": [
    "There are variables with a strong correlation between them, in particular: [\"revenue, vote_count\"], [\"popularity\", \"vote_count\"] and [\"budget\", \"revenue\"]."
   ]
  },
  {
   "cell_type": "markdown",
   "metadata": {
    "colab_type": "text",
    "id": "N-jQChbYSHpe"
   },
   "source": [
    "## **Outliers and Missing Values - Numeric variables**"
   ]
  },
  {
   "cell_type": "code",
   "execution_count": 21,
   "metadata": {
    "colab": {
     "base_uri": "https://localhost:8080/",
     "height": 34
    },
    "colab_type": "code",
    "executionInfo": {
     "elapsed": 27097,
     "status": "ok",
     "timestamp": 1593274492422,
     "user": {
      "displayName": "Mariana Moura",
      "photoUrl": "",
      "userId": "09921903782139644629"
     },
     "user_tz": -60
    },
    "id": "ALGLS6JYRkiP",
    "outputId": "74a6ed25-c193-42dc-a863-8b3c82ef58fa"
   },
   "outputs": [
    {
     "data": {
      "text/plain": [
       "(4803, 7)"
      ]
     },
     "execution_count": 21,
     "metadata": {},
     "output_type": "execute_result"
    }
   ],
   "source": [
    "df_num.shape"
   ]
  },
  {
   "cell_type": "code",
   "execution_count": 22,
   "metadata": {
    "colab": {},
    "colab_type": "code",
    "executionInfo": {
     "elapsed": 27076,
     "status": "ok",
     "timestamp": 1593274492424,
     "user": {
      "displayName": "Mariana Moura",
      "photoUrl": "",
      "userId": "09921903782139644629"
     },
     "user_tz": -60
    },
    "id": "LGTqk3j0SKyl"
   },
   "outputs": [],
   "source": [
    "df_drop = df_num.drop([\"vote_average\"],axis=1).copy()"
   ]
  },
  {
   "cell_type": "code",
   "execution_count": 23,
   "metadata": {
    "colab": {
     "base_uri": "https://localhost:8080/",
     "height": 599
    },
    "colab_type": "code",
    "executionInfo": {
     "elapsed": 27979,
     "status": "ok",
     "timestamp": 1593274493387,
     "user": {
      "displayName": "Mariana Moura",
      "photoUrl": "",
      "userId": "09921903782139644629"
     },
     "user_tz": -60
    },
    "id": "KKIpLzqTSK3h",
    "outputId": "75ed21aa-0bcf-4d19-a724-d04a31fe66ac"
   },
   "outputs": [
    {
     "data": {
      "image/png": "[encoded data removed]",
      "text/plain": [
       "<Figure size 1152x576 with 6 Axes>"
      ]
     },
     "metadata": {
      "needs_background": "light"
     },
     "output_type": "display_data"
    }
   ],
   "source": [
    "# Bloxplots\n",
    "# Displaying spread data\n",
    "\n",
    "fig, axs = plt.subplots(ncols=2, nrows=3, figsize=(16, 8))\n",
    "index = 0\n",
    "axs = axs.flatten()\n",
    "for k,v in df_drop.items():\n",
    "    sns.boxplot(y=k, data=df_num, ax=axs[index], orient=\"h\")\n",
    "    index += 1\n",
    "plt.tight_layout(pad=0.4, w_pad=0.5, h_pad=5.0)"
   ]
  },
  {
   "cell_type": "markdown",
   "metadata": {
    "colab_type": "text",
    "id": "cnU74DmqSSxj"
   },
   "source": [
    "After analyzing the data's dispersion, it appears to be some outliers in all variables. Let's zoom in and use some techniques to resolve outliers."
   ]
  },
  {
   "cell_type": "markdown",
   "metadata": {
    "colab_type": "text",
    "id": "IFZ7iF3NSXDD"
   },
   "source": [
    "### 'budget'"
   ]
  },
  {
   "cell_type": "code",
   "execution_count": 24,
   "metadata": {
    "colab": {
     "base_uri": "https://localhost:8080/",
     "height": 449
    },
    "colab_type": "code",
    "executionInfo": {
     "elapsed": 28443,
     "status": "ok",
     "timestamp": 1593274493891,
     "user": {
      "displayName": "Mariana Moura",
      "photoUrl": "",
      "userId": "09921903782139644629"
     },
     "user_tz": -60
    },
    "id": "L42aRRKXSK18",
    "outputId": "e7b084b7-356d-4154-c994-34326c1e6e02"
   },
   "outputs": [
    {
     "name": "stdout",
     "output_type": "stream",
     "text": [
      "count    4.803000e+03\n",
      "mean     2.904504e+07\n",
      "std      4.072239e+07\n",
      "min      0.000000e+00\n",
      "25%      7.900000e+05\n",
      "50%      1.500000e+07\n",
      "75%      4.000000e+07\n",
      "max      3.800000e+08\n",
      "Name: budget, dtype: float64\n",
      "\n"
     ]
    },
    {
     "data": {
      "image/png": "[encoded data removed]",
      "text/plain": [
       "<Figure size 432x288 with 2 Axes>"
      ]
     },
     "metadata": {
      "needs_background": "light"
     },
     "output_type": "display_data"
    }
   ],
   "source": [
    "# Budget variable's dispersion data\n",
    "\n",
    "print(df.budget.describe())\n",
    "print(\"\")\n",
    "\n",
    "budget = df.budget\n",
    "\n",
    "np.array(budget).mean()\n",
    "np.median(budget)\n",
    "\n",
    "f, (ax_box, ax_hist) = plt.subplots(2, sharex=True, gridspec_kw= {\"height_ratios\": (0.8, 1.2)})\n",
    "\n",
    "mean=np.array(budget).mean()\n",
    "median=np.median(budget)\n",
    "\n",
    "sns.boxplot(budget, ax=ax_box)\n",
    "ax_box.axvline(mean, color='r', linestyle='--')\n",
    "ax_box.axvline(median, color='g', linestyle='-')\n",
    "\n",
    "sns.distplot(budget, ax=ax_hist)\n",
    "ax_hist.axvline(mean, color='r', linestyle='--')\n",
    "ax_hist.axvline(median, color='g', linestyle='-')\n",
    "\n",
    "plt.legend({'Mean':mean,'Median':median})\n",
    "\n",
    "ax_box.set(xlabel='')\n",
    "plt.show()"
   ]
  },
  {
   "cell_type": "code",
   "execution_count": 25,
   "metadata": {
    "colab": {},
    "colab_type": "code",
    "executionInfo": {
     "elapsed": 28430,
     "status": "ok",
     "timestamp": 1593274493895,
     "user": {
      "displayName": "Mariana Moura",
      "photoUrl": "",
      "userId": "09921903782139644629"
     },
     "user_tz": -60
    },
    "id": "Eva2xGQRScn0"
   },
   "outputs": [],
   "source": [
    "# Determine the outliers through the IQR method\n",
    "\n",
    "Q1 = df['budget'].quantile(0.25)\n",
    "Q3 = df['budget'].quantile(0.75)\n",
    "IQR = Q3 - Q1\n",
    "\n",
    "df_num['budget'] = df.budget[~((df.budget < (Q1 - 1.5 * IQR)) |(df.budget > (Q3 + 1.5 * IQR)))]"
   ]
  },
  {
   "cell_type": "code",
   "execution_count": 26,
   "metadata": {
    "colab": {
     "base_uri": "https://localhost:8080/",
     "height": 465
    },
    "colab_type": "code",
    "executionInfo": {
     "elapsed": 28397,
     "status": "ok",
     "timestamp": 1593274493896,
     "user": {
      "displayName": "Mariana Moura",
      "photoUrl": "",
      "userId": "09921903782139644629"
     },
     "user_tz": -60
    },
    "id": "9BmRO5YbScvT",
    "outputId": "83aac567-b2ca-4b5a-a4d7-a4310f4ae2b5"
   },
   "outputs": [
    {
     "name": "stdout",
     "output_type": "stream",
     "text": [
      "count    4.482000e+03\n",
      "mean     2.053410e+07\n",
      "std      2.369763e+07\n",
      "min      0.000000e+00\n",
      "25%      2.262500e+05\n",
      "50%      1.200000e+07\n",
      "75%      3.200000e+07\n",
      "max      9.800000e+07\n",
      "Name: budget, dtype: float64\n",
      "\n",
      "321 outliers were identified with this operation\n"
     ]
    },
    {
     "data": {
      "image/png": "[encoded data removed]",
      "text/plain": [
       "<Figure size 432x288 with 1 Axes>"
      ]
     },
     "metadata": {
      "needs_background": "light"
     },
     "output_type": "display_data"
    }
   ],
   "source": [
    "# Analysing the dispersion excluding outliers\n",
    "\n",
    "print(df_num.budget.describe())\n",
    "print(\"\")\n",
    "\n",
    "print(int(df.budget.describe()[0]) - int(df_num.budget.describe()[0]),\"outliers were identified with this operation\")\n",
    "sns.boxplot(data=df_num[\"budget\"], width=0.3, orient=\"h\");"
   ]
  },
  {
   "cell_type": "code",
   "execution_count": 27,
   "metadata": {
    "colab": {
     "base_uri": "https://localhost:8080/",
     "height": 221
    },
    "colab_type": "code",
    "executionInfo": {
     "elapsed": 28364,
     "status": "ok",
     "timestamp": 1593274493898,
     "user": {
      "displayName": "Mariana Moura",
      "photoUrl": "",
      "userId": "09921903782139644629"
     },
     "user_tz": -60
    },
    "id": "es_9rP1dSct4",
    "outputId": "c437b3f7-d5cf-4b62-d857-adc3b7844b1a"
   },
   "outputs": [
    {
     "data": {
      "text/plain": [
       "0.0           1037\n",
       "NaN            321\n",
       "20000000.0     144\n",
       "30000000.0     128\n",
       "25000000.0     126\n",
       "              ... \n",
       "14200000.0       1\n",
       "15000.0          1\n",
       "13200000.0       1\n",
       "9250000.0        1\n",
       "13300000.0       1\n",
       "Name: budget, Length: 379, dtype: int64"
      ]
     },
     "execution_count": 27,
     "metadata": {},
     "output_type": "execute_result"
    }
   ],
   "source": [
    "df_num.budget.value_counts(dropna=False)"
   ]
  },
  {
   "cell_type": "code",
   "execution_count": 28,
   "metadata": {
    "colab": {},
    "colab_type": "code",
    "executionInfo": {
     "elapsed": 28359,
     "status": "ok",
     "timestamp": 1593274493900,
     "user": {
      "displayName": "Mariana Moura",
      "photoUrl": "",
      "userId": "09921903782139644629"
     },
     "user_tz": -60
    },
    "id": "2GU7J5tcScr-"
   },
   "outputs": [],
   "source": [
    "# Assuming the 0.0 as NaN\n",
    "\n",
    "df_num.budget.replace(to_replace=0.0, value=np.nan, inplace=True)"
   ]
  },
  {
   "cell_type": "code",
   "execution_count": 29,
   "metadata": {
    "colab": {},
    "colab_type": "code",
    "executionInfo": {
     "elapsed": 28355,
     "status": "ok",
     "timestamp": 1593274493902,
     "user": {
      "displayName": "Mariana Moura",
      "photoUrl": "",
      "userId": "09921903782139644629"
     },
     "user_tz": -60
    },
    "id": "or54hUs-Smsv"
   },
   "outputs": [],
   "source": [
    "# Replace outliers with the median\n",
    "\n",
    "df_num[\"budget\"] = df_num[\"budget\"].fillna(df_num.budget.median())"
   ]
  },
  {
   "cell_type": "code",
   "execution_count": 30,
   "metadata": {
    "colab": {
     "base_uri": "https://localhost:8080/",
     "height": 311
    },
    "colab_type": "code",
    "executionInfo": {
     "elapsed": 29026,
     "status": "ok",
     "timestamp": 1593274494603,
     "user": {
      "displayName": "Mariana Moura",
      "photoUrl": "",
      "userId": "09921903782139644629"
     },
     "user_tz": -60
    },
    "id": "dJgWdjigSmv1",
    "outputId": "e32024f7-1ff4-42c0-b6f0-c906e462a58b"
   },
   "outputs": [
    {
     "data": {
      "image/png": "[encoded data removed]",
      "text/plain": [
       "<Figure size 432x288 with 1 Axes>"
      ]
     },
     "metadata": {
      "needs_background": "light"
     },
     "output_type": "display_data"
    },
    {
     "name": "stdout",
     "output_type": "stream",
     "text": [
      "\n"
     ]
    }
   ],
   "source": [
    "# Results without the outliers\n",
    "\n",
    "plt.hist(df_num.budget, bins=50)\n",
    "plt.title('Numeric variable \\'budget\\'', fontsize=12)\n",
    "plt.ylabel('Absolute Frequency')\n",
    "plt.show()\n",
    "print(\"\")"
   ]
  },
  {
   "cell_type": "code",
   "execution_count": 31,
   "metadata": {
    "colab": {
     "base_uri": "https://localhost:8080/",
     "height": 34
    },
    "colab_type": "code",
    "executionInfo": {
     "elapsed": 29001,
     "status": "ok",
     "timestamp": 1593274494604,
     "user": {
      "displayName": "Mariana Moura",
      "photoUrl": "",
      "userId": "09921903782139644629"
     },
     "user_tz": -60
    },
    "id": "7g4itbFwr0c_",
    "outputId": "9e082ae2-0a79-4f6b-e26f-d9e287633cb0"
   },
   "outputs": [
    {
     "data": {
      "text/plain": [
       "False"
      ]
     },
     "execution_count": 31,
     "metadata": {},
     "output_type": "execute_result"
    }
   ],
   "source": [
    "df_num.budget.isnull().values.any()"
   ]
  },
  {
   "cell_type": "markdown",
   "metadata": {
    "colab_type": "text",
    "id": "sVdCq5ZqSycr"
   },
   "source": [
    "### 'popularity'"
   ]
  },
  {
   "cell_type": "code",
   "execution_count": 32,
   "metadata": {
    "colab": {
     "base_uri": "https://localhost:8080/",
     "height": 449
    },
    "colab_type": "code",
    "executionInfo": {
     "elapsed": 28973,
     "status": "ok",
     "timestamp": 1593274494606,
     "user": {
      "displayName": "Mariana Moura",
      "photoUrl": "",
      "userId": "09921903782139644629"
     },
     "user_tz": -60
    },
    "id": "yXgYGly6Sm0_",
    "outputId": "689d9341-a69b-47b2-b1eb-30fdcb644087"
   },
   "outputs": [
    {
     "name": "stdout",
     "output_type": "stream",
     "text": [
      "count    4803.000000\n",
      "mean       21.492301\n",
      "std        31.816650\n",
      "min         0.000000\n",
      "25%         4.668070\n",
      "50%        12.921594\n",
      "75%        28.313505\n",
      "max       875.581305\n",
      "Name: popularity, dtype: float64\n",
      "\n"
     ]
    },
    {
     "data": {
      "image/png": "[encoded data removed]",
      "text/plain": [
       "<Figure size 432x288 with 2 Axes>"
      ]
     },
     "metadata": {
      "needs_background": "light"
     },
     "output_type": "display_data"
    }
   ],
   "source": [
    "# Popularity variable's dispersion data\n",
    "\n",
    "print(df.popularity.describe())\n",
    "print(\"\")\n",
    "\n",
    "popularity = df.popularity\n",
    "\n",
    "np.array(popularity).mean()\n",
    "np.median(popularity)\n",
    "\n",
    "f, (ax_box, ax_hist) = plt.subplots(2, sharex=True, gridspec_kw= {\"height_ratios\": (0.8, 1.2)})\n",
    "\n",
    "mean=np.array(popularity).mean()\n",
    "median=np.median(popularity)\n",
    "\n",
    "sns.boxplot(popularity, ax=ax_box)\n",
    "ax_box.axvline(mean, color='r', linestyle='--')\n",
    "ax_box.axvline(median, color='g', linestyle='-')\n",
    "\n",
    "sns.distplot(popularity, ax=ax_hist)\n",
    "ax_hist.axvline(mean, color='r', linestyle='--')\n",
    "ax_hist.axvline(median, color='g', linestyle='-')\n",
    "\n",
    "plt.legend({'Mean':mean,'Median':median})\n",
    "\n",
    "ax_box.set(xlabel='')\n",
    "plt.show()"
   ]
  },
  {
   "cell_type": "code",
   "execution_count": 33,
   "metadata": {
    "colab": {},
    "colab_type": "code",
    "executionInfo": {
     "elapsed": 28967,
     "status": "ok",
     "timestamp": 1593274494607,
     "user": {
      "displayName": "Mariana Moura",
      "photoUrl": "",
      "userId": "09921903782139644629"
     },
     "user_tz": -60
    },
    "id": "7pwgzFtsS4i7"
   },
   "outputs": [],
   "source": [
    "# Determine the outliers through the IQR method\n",
    "\n",
    "Q1 = df['popularity'].quantile(0.25)\n",
    "Q3 = df['popularity'].quantile(0.75)\n",
    "IQR = Q3 - Q1\n",
    "\n",
    "df_num['popularity'] = df.popularity[~((df.popularity < (Q1 - 1.5 * IQR)) |(df.popularity > (Q3 + 1.5 * IQR)))]"
   ]
  },
  {
   "cell_type": "code",
   "execution_count": 34,
   "metadata": {
    "colab": {
     "base_uri": "https://localhost:8080/",
     "height": 466
    },
    "colab_type": "code",
    "executionInfo": {
     "elapsed": 29615,
     "status": "ok",
     "timestamp": 1593274495283,
     "user": {
      "displayName": "Mariana Moura",
      "photoUrl": "",
      "userId": "09921903782139644629"
     },
     "user_tz": -60
    },
    "id": "PvK6KA-yS4ow",
    "outputId": "116fe165-1a8b-4404-e531-e916eec83f6b"
   },
   "outputs": [
    {
     "name": "stdout",
     "output_type": "stream",
     "text": [
      "count    4528.000000\n",
      "mean       16.424951\n",
      "std        15.115538\n",
      "min         0.000000\n",
      "25%         4.270569\n",
      "50%        11.770272\n",
      "75%        24.613611\n",
      "max        63.655973\n",
      "Name: popularity, dtype: float64\n",
      "\n"
     ]
    },
    {
     "data": {
      "image/png": "[encoded data removed]",
      "text/plain": [
       "<Figure size 432x288 with 2 Axes>"
      ]
     },
     "metadata": {
      "needs_background": "light"
     },
     "output_type": "display_data"
    },
    {
     "name": "stdout",
     "output_type": "stream",
     "text": [
      "275 outliers were identified with this operation.\n"
     ]
    }
   ],
   "source": [
    "# Analysing the dispersion excluding outliers\n",
    "\n",
    "print(df_num.popularity.describe())\n",
    "print(\"\")\n",
    "\n",
    "popularity = df_num.popularity\n",
    "\n",
    "f, (ax_box, ax_hist) = plt.subplots(2, sharex=True, gridspec_kw= {\"height_ratios\": (0.8, 1.2)})\n",
    "\n",
    "mean=np.array(popularity).mean()\n",
    "median=np.median(popularity)\n",
    "\n",
    "sns.boxplot(popularity, ax=ax_box)\n",
    "ax_box.axvline(mean, color='r', linestyle='--')\n",
    "ax_box.axvline(median, color='g', linestyle='-')\n",
    "\n",
    "sns.distplot(popularity, ax=ax_hist)\n",
    "ax_hist.axvline(mean, color='r', linestyle='--')\n",
    "ax_hist.axvline(median, color='g', linestyle='-')\n",
    "\n",
    "plt.legend({'Mean':mean,'Median':median})\n",
    "\n",
    "ax_box.set(xlabel='')\n",
    "plt.show()\n",
    "\n",
    "print(int(df.popularity.describe()[0]) - int(df_num.popularity.describe()[0]),\"outliers were identified with this operation.\")"
   ]
  },
  {
   "cell_type": "code",
   "execution_count": 35,
   "metadata": {
    "colab": {
     "base_uri": "https://localhost:8080/",
     "height": 221
    },
    "colab_type": "code",
    "executionInfo": {
     "elapsed": 29593,
     "status": "ok",
     "timestamp": 1593274495286,
     "user": {
      "displayName": "Mariana Moura",
      "photoUrl": "",
      "userId": "09921903782139644629"
     },
     "user_tz": -60
    },
    "id": "Fh-Lu8nyS4mV",
    "outputId": "4e754e68-39f2-459d-ca08-4e9f1a11b3dd"
   },
   "outputs": [
    {
     "data": {
      "text/plain": [
       "NaN          275\n",
       "8.902102       2\n",
       "31.719463      1\n",
       "7.288352       1\n",
       "1.972668       1\n",
       "            ... \n",
       "19.195399      1\n",
       "15.505137      1\n",
       "7.964451       1\n",
       "8.190888       1\n",
       "17.672021      1\n",
       "Name: popularity, Length: 4528, dtype: int64"
      ]
     },
     "execution_count": 35,
     "metadata": {},
     "output_type": "execute_result"
    }
   ],
   "source": [
    "df_num.popularity.value_counts(dropna=False)"
   ]
  },
  {
   "cell_type": "code",
   "execution_count": 36,
   "metadata": {
    "colab": {},
    "colab_type": "code",
    "executionInfo": {
     "elapsed": 29585,
     "status": "ok",
     "timestamp": 1593274495288,
     "user": {
      "displayName": "Mariana Moura",
      "photoUrl": "",
      "userId": "09921903782139644629"
     },
     "user_tz": -60
    },
    "id": "d5xb7a6-S-my"
   },
   "outputs": [],
   "source": [
    "# Replace outliers with the median\n",
    "\n",
    "df_num[\"popularity\"] = df_num[\"popularity\"].fillna(df_num.popularity.median())"
   ]
  },
  {
   "cell_type": "code",
   "execution_count": 37,
   "metadata": {
    "colab": {
     "base_uri": "https://localhost:8080/",
     "height": 34
    },
    "colab_type": "code",
    "executionInfo": {
     "elapsed": 29556,
     "status": "ok",
     "timestamp": 1593274495290,
     "user": {
      "displayName": "Mariana Moura",
      "photoUrl": "",
      "userId": "09921903782139644629"
     },
     "user_tz": -60
    },
    "id": "qC2y9I8sS-sK",
    "outputId": "a435b19a-ddae-4946-b1d2-332e0c5c3e53"
   },
   "outputs": [
    {
     "data": {
      "text/plain": [
       "False"
      ]
     },
     "execution_count": 37,
     "metadata": {},
     "output_type": "execute_result"
    }
   ],
   "source": [
    "df_num.popularity.isnull().values.any()"
   ]
  },
  {
   "cell_type": "markdown",
   "metadata": {
    "colab_type": "text",
    "id": "c2AdXQhFTEQa"
   },
   "source": [
    "### 'revenue'"
   ]
  },
  {
   "cell_type": "code",
   "execution_count": 38,
   "metadata": {
    "colab": {
     "base_uri": "https://localhost:8080/",
     "height": 449
    },
    "colab_type": "code",
    "executionInfo": {
     "elapsed": 30037,
     "status": "ok",
     "timestamp": 1593274495804,
     "user": {
      "displayName": "Mariana Moura",
      "photoUrl": "",
      "userId": "09921903782139644629"
     },
     "user_tz": -60
    },
    "id": "Uue0sVF3S-py",
    "outputId": "35ee83fa-da59-4062-9cf1-9476e60f730e"
   },
   "outputs": [
    {
     "name": "stdout",
     "output_type": "stream",
     "text": [
      "count    4.803000e+03\n",
      "mean     8.226064e+07\n",
      "std      1.628571e+08\n",
      "min      0.000000e+00\n",
      "25%      0.000000e+00\n",
      "50%      1.917000e+07\n",
      "75%      9.291719e+07\n",
      "max      2.787965e+09\n",
      "Name: revenue, dtype: float64\n",
      "\n"
     ]
    },
    {
     "data": {
      "image/png": "[encoded data removed]",
      "text/plain": [
       "<Figure size 432x288 with 2 Axes>"
      ]
     },
     "metadata": {
      "needs_background": "light"
     },
     "output_type": "display_data"
    }
   ],
   "source": [
    "# Revenue variable's dispersion data\n",
    "\n",
    "print(df.revenue.describe())\n",
    "print(\"\")\n",
    "\n",
    "revenue = df.revenue\n",
    "\n",
    "np.array(revenue).mean()\n",
    "np.median(revenue)\n",
    "\n",
    "f, (ax_box, ax_hist) = plt.subplots(2, sharex=True, gridspec_kw= {\"height_ratios\": (0.8, 1.2)})\n",
    "\n",
    "mean=np.array(revenue).mean()\n",
    "median=np.median(revenue)\n",
    "\n",
    "sns.boxplot(revenue, ax=ax_box)\n",
    "ax_box.axvline(mean, color='r', linestyle='--')\n",
    "ax_box.axvline(median, color='g', linestyle='-')\n",
    "\n",
    "sns.distplot(revenue, ax=ax_hist)\n",
    "ax_hist.axvline(mean, color='r', linestyle='--')\n",
    "ax_hist.axvline(median, color='g', linestyle='-')\n",
    "\n",
    "plt.legend({'Mean':mean,'Median':median})\n",
    "\n",
    "ax_box.set(xlabel='')\n",
    "plt.show()"
   ]
  },
  {
   "cell_type": "code",
   "execution_count": 39,
   "metadata": {
    "colab": {},
    "colab_type": "code",
    "executionInfo": {
     "elapsed": 30028,
     "status": "ok",
     "timestamp": 1593274495806,
     "user": {
      "displayName": "Mariana Moura",
      "photoUrl": "",
      "userId": "09921903782139644629"
     },
     "user_tz": -60
    },
    "id": "zH37-U4JTSsL"
   },
   "outputs": [],
   "source": [
    "# Determine the outliers through the IQR method\n",
    "\n",
    "Q1 = df['revenue'].quantile(0.25)\n",
    "Q3 = df['revenue'].quantile(0.75)\n",
    "IQR = Q3 - Q1\n",
    "\n",
    "df_num['revenue'] = df.revenue[~((df.revenue < (Q1 - 1.5 * IQR)) |(df.revenue > (Q3 + 1.5 * IQR)))]"
   ]
  },
  {
   "cell_type": "code",
   "execution_count": 40,
   "metadata": {
    "colab": {
     "base_uri": "https://localhost:8080/",
     "height": 466
    },
    "colab_type": "code",
    "executionInfo": {
     "elapsed": 30258,
     "status": "ok",
     "timestamp": 1593274496074,
     "user": {
      "displayName": "Mariana Moura",
      "photoUrl": "",
      "userId": "09921903782139644629"
     },
     "user_tz": -60
    },
    "id": "GQtXpSg4TSqT",
    "outputId": "6cf21b2a-e447-4823-e260-01caf5f4c0b5"
   },
   "outputs": [
    {
     "name": "stdout",
     "output_type": "stream",
     "text": [
      "count    4.331000e+03\n",
      "mean     3.972521e+07\n",
      "std      5.539494e+07\n",
      "min      0.000000e+00\n",
      "25%      0.000000e+00\n",
      "50%      1.234263e+07\n",
      "75%      6.073178e+07\n",
      "max      2.319764e+08\n",
      "Name: revenue, dtype: float64\n",
      "\n"
     ]
    },
    {
     "data": {
      "image/png": "[encoded data removed]",
      "text/plain": [
       "<Figure size 432x288 with 2 Axes>"
      ]
     },
     "metadata": {
      "needs_background": "light"
     },
     "output_type": "display_data"
    },
    {
     "name": "stdout",
     "output_type": "stream",
     "text": [
      "472 outliers were identified with this operation.\n"
     ]
    }
   ],
   "source": [
    "# Analyzing the dispersion excluding outliers\n",
    "\n",
    "print(df_num.revenue.describe())\n",
    "print(\"\")\n",
    "\n",
    "revenue = df_num.revenue\n",
    "\n",
    "f, (ax_box, ax_hist) = plt.subplots(2, sharex=True, gridspec_kw= {\"height_ratios\": (0.8, 1.2)})\n",
    "\n",
    "mean=np.array(revenue).mean()\n",
    "median=np.median(revenue)\n",
    "\n",
    "sns.boxplot(revenue, ax=ax_box)\n",
    "ax_box.axvline(mean, color='r', linestyle='--')\n",
    "ax_box.axvline(median, color='g', linestyle='-')\n",
    "\n",
    "sns.distplot(revenue, ax=ax_hist)\n",
    "ax_hist.axvline(mean, color='r', linestyle='--')\n",
    "ax_hist.axvline(median, color='g', linestyle='-')\n",
    "\n",
    "plt.legend({'Mean':mean,'Median':median})\n",
    "\n",
    "ax_box.set(xlabel='')\n",
    "plt.show()\n",
    "\n",
    "print(int(df.revenue.describe()[0]) - int(df_num.revenue.describe()[0]),\"outliers were identified with this operation.\")"
   ]
  },
  {
   "cell_type": "code",
   "execution_count": 41,
   "metadata": {
    "colab": {
     "base_uri": "https://localhost:8080/",
     "height": 221
    },
    "colab_type": "code",
    "executionInfo": {
     "elapsed": 30203,
     "status": "ok",
     "timestamp": 1593274496075,
     "user": {
      "displayName": "Mariana Moura",
      "photoUrl": "",
      "userId": "09921903782139644629"
     },
     "user_tz": -60
    },
    "id": "k-uxq1tRjZpw",
    "outputId": "efee19ce-099a-4510-ba80-e5fb87d8993e"
   },
   "outputs": [
    {
     "data": {
      "text/plain": [
       "0.0            1427\n",
       "NaN             472\n",
       "8000000.0         6\n",
       "7000000.0         6\n",
       "12000000.0        5\n",
       "               ... \n",
       "50159144.0        1\n",
       "110803676.0       1\n",
       "10835752.0        1\n",
       "47536959.0        1\n",
       "23.0              1\n",
       "Name: revenue, Length: 2826, dtype: int64"
      ]
     },
     "execution_count": 41,
     "metadata": {},
     "output_type": "execute_result"
    }
   ],
   "source": [
    "df_num.revenue.value_counts(dropna=False)"
   ]
  },
  {
   "cell_type": "code",
   "execution_count": 42,
   "metadata": {
    "colab": {},
    "colab_type": "code",
    "executionInfo": {
     "elapsed": 30188,
     "status": "ok",
     "timestamp": 1593274496077,
     "user": {
      "displayName": "Mariana Moura",
      "photoUrl": "",
      "userId": "09921903782139644629"
     },
     "user_tz": -60
    },
    "id": "_mZOOg58TSoC"
   },
   "outputs": [],
   "source": [
    "# Assuming the 0.0 as NaN\n",
    "\n",
    "df_num.revenue.replace(to_replace=0.0, value=np.nan, inplace=True)"
   ]
  },
  {
   "cell_type": "code",
   "execution_count": 43,
   "metadata": {
    "colab": {},
    "colab_type": "code",
    "executionInfo": {
     "elapsed": 30173,
     "status": "ok",
     "timestamp": 1593274496079,
     "user": {
      "displayName": "Mariana Moura",
      "photoUrl": "",
      "userId": "09921903782139644629"
     },
     "user_tz": -60
    },
    "id": "h0VAcqD-TbjZ"
   },
   "outputs": [],
   "source": [
    "# Replace outliers with the median\n",
    "\n",
    "df_num[\"revenue\"] = df_num[\"revenue\"].fillna(df_num.revenue.median())"
   ]
  },
  {
   "cell_type": "code",
   "execution_count": 44,
   "metadata": {
    "colab": {
     "base_uri": "https://localhost:8080/",
     "height": 34
    },
    "colab_type": "code",
    "executionInfo": {
     "elapsed": 30126,
     "status": "ok",
     "timestamp": 1593274496081,
     "user": {
      "displayName": "Mariana Moura",
      "photoUrl": "",
      "userId": "09921903782139644629"
     },
     "user_tz": -60
    },
    "id": "I49QAR-yTbgL",
    "outputId": "eaedccba-a77a-47b9-b159-3769eba18bb6"
   },
   "outputs": [
    {
     "data": {
      "text/plain": [
       "False"
      ]
     },
     "execution_count": 44,
     "metadata": {},
     "output_type": "execute_result"
    }
   ],
   "source": [
    "df_num.revenue.isnull().values.any()"
   ]
  },
  {
   "cell_type": "markdown",
   "metadata": {
    "colab_type": "text",
    "id": "-B58UyE0ThmN"
   },
   "source": [
    "### 'runtime'"
   ]
  },
  {
   "cell_type": "code",
   "execution_count": 45,
   "metadata": {
    "colab": {
     "base_uri": "https://localhost:8080/",
     "height": 449
    },
    "colab_type": "code",
    "executionInfo": {
     "elapsed": 30769,
     "status": "ok",
     "timestamp": 1593274496776,
     "user": {
      "displayName": "Mariana Moura",
      "photoUrl": "",
      "userId": "09921903782139644629"
     },
     "user_tz": -60
    },
    "id": "afqoO7X6Tkhb",
    "outputId": "30cca1f0-72f4-4263-8818-1fe08452699f"
   },
   "outputs": [
    {
     "name": "stdout",
     "output_type": "stream",
     "text": [
      "count    4801.000000\n",
      "mean      106.875859\n",
      "std        22.611935\n",
      "min         0.000000\n",
      "25%        94.000000\n",
      "50%       103.000000\n",
      "75%       118.000000\n",
      "max       338.000000\n",
      "Name: runtime, dtype: float64\n",
      "\n"
     ]
    },
    {
     "data": {
      "image/png": "[encoded data removed]",
      "text/plain": [
       "<Figure size 432x288 with 2 Axes>"
      ]
     },
     "metadata": {
      "needs_background": "light"
     },
     "output_type": "display_data"
    }
   ],
   "source": [
    "# Runtime variable's dispersion data\n",
    "\n",
    "print(df.runtime.describe())\n",
    "print(\"\")\n",
    "\n",
    "runtime = df.runtime\n",
    "\n",
    "np.array(runtime).mean()\n",
    "np.median(runtime)\n",
    "\n",
    "f, (ax_box, ax_hist) = plt.subplots(2, sharex=True, gridspec_kw= {\"height_ratios\": (0.8, 1.2)})\n",
    "\n",
    "mean=np.array(runtime).mean()\n",
    "median=np.median(runtime)\n",
    "\n",
    "sns.boxplot(runtime, ax=ax_box)\n",
    "ax_box.axvline(mean, color='r', linestyle='--')\n",
    "ax_box.axvline(median, color='g', linestyle='-')\n",
    "\n",
    "sns.distplot(runtime, ax=ax_hist)\n",
    "ax_hist.axvline(mean, color='r', linestyle='--')\n",
    "ax_hist.axvline(median, color='g', linestyle='-')\n",
    "\n",
    "plt.legend({'Mean':mean,'Median':median})\n",
    "\n",
    "ax_box.set(xlabel='')\n",
    "plt.show()"
   ]
  },
  {
   "cell_type": "code",
   "execution_count": 46,
   "metadata": {
    "colab": {},
    "colab_type": "code",
    "executionInfo": {
     "elapsed": 30755,
     "status": "ok",
     "timestamp": 1593274496781,
     "user": {
      "displayName": "Mariana Moura",
      "photoUrl": "",
      "userId": "09921903782139644629"
     },
     "user_tz": -60
    },
    "id": "utu7BKLyTkfP"
   },
   "outputs": [],
   "source": [
    "# Determine the outliers through the 2*std method\n",
    "\n",
    "mean = df_num.runtime.mean()\n",
    "std = df_num.runtime.std()\n",
    "\n",
    "df_num['runtime'] = df_num.runtime[~((df_num.runtime > mean + 2 * std) | (df_num.runtime < mean - 2 * std))]"
   ]
  },
  {
   "cell_type": "code",
   "execution_count": 47,
   "metadata": {
    "colab": {
     "base_uri": "https://localhost:8080/",
     "height": 466
    },
    "colab_type": "code",
    "executionInfo": {
     "elapsed": 31078,
     "status": "ok",
     "timestamp": 1593274497220,
     "user": {
      "displayName": "Mariana Moura",
      "photoUrl": "",
      "userId": "09921903782139644629"
     },
     "user_tz": -60
    },
    "id": "Zvjis-WiTkc7",
    "outputId": "4a6737d9-a608-4608-9ad2-480b520b0169"
   },
   "outputs": [
    {
     "name": "stdout",
     "output_type": "stream",
     "text": [
      "count    4598.000000\n",
      "mean      105.446933\n",
      "std        15.855110\n",
      "min        63.000000\n",
      "25%        93.250000\n",
      "50%       103.000000\n",
      "75%       116.000000\n",
      "max       152.000000\n",
      "Name: runtime, dtype: float64\n",
      "\n"
     ]
    },
    {
     "data": {
      "image/png": "[encoded data removed]",
      "text/plain": [
       "<Figure size 432x288 with 2 Axes>"
      ]
     },
     "metadata": {
      "needs_background": "light"
     },
     "output_type": "display_data"
    },
    {
     "name": "stdout",
     "output_type": "stream",
     "text": [
      "203 outliers were identified with this operation.\n"
     ]
    }
   ],
   "source": [
    "# Analyzing the dispersion excluding outliers\n",
    "\n",
    "print(df_num.runtime.describe())\n",
    "print(\"\")\n",
    "\n",
    "runtime = df_num.runtime\n",
    "\n",
    "np.array(runtime).mean()\n",
    "np.median(runtime)\n",
    "\n",
    "f, (ax_box, ax_hist) = plt.subplots(2, sharex=True, gridspec_kw= {\"height_ratios\": (0.8, 1.2)})\n",
    "\n",
    "mean=np.array(runtime).mean()\n",
    "median=np.median(runtime)\n",
    "\n",
    "sns.boxplot(runtime, ax=ax_box)\n",
    "ax_box.axvline(mean, color='r', linestyle='--')\n",
    "ax_box.axvline(median, color='g', linestyle='-')\n",
    "\n",
    "sns.distplot(runtime, ax=ax_hist)\n",
    "ax_hist.axvline(mean, color='r', linestyle='--')\n",
    "ax_hist.axvline(median, color='g', linestyle='-')\n",
    "\n",
    "plt.legend({'Mean':mean,'Median':median})\n",
    "\n",
    "ax_box.set(xlabel='')\n",
    "plt.show()\n",
    "\n",
    "print(int(df.runtime.describe()[0]) - int(df_num.runtime.describe()[0]),\"outliers were identified with this operation.\")"
   ]
  },
  {
   "cell_type": "code",
   "execution_count": 48,
   "metadata": {
    "colab": {},
    "colab_type": "code",
    "executionInfo": {
     "elapsed": 31068,
     "status": "ok",
     "timestamp": 1593274497222,
     "user": {
      "displayName": "Mariana Moura",
      "photoUrl": "",
      "userId": "09921903782139644629"
     },
     "user_tz": -60
    },
    "id": "uyR-2jIVTuZW"
   },
   "outputs": [],
   "source": [
    "# Replace outliers with the median\n",
    "\n",
    "df_num[\"runtime\"] = df_num[\"runtime\"].fillna(df_num.runtime.median())"
   ]
  },
  {
   "cell_type": "code",
   "execution_count": 49,
   "metadata": {
    "colab": {
     "base_uri": "https://localhost:8080/",
     "height": 34
    },
    "colab_type": "code",
    "executionInfo": {
     "elapsed": 31037,
     "status": "ok",
     "timestamp": 1593274497224,
     "user": {
      "displayName": "Mariana Moura",
      "photoUrl": "",
      "userId": "09921903782139644629"
     },
     "user_tz": -60
    },
    "id": "ceeSEeBSTuW_",
    "outputId": "29b88b67-a51a-4b62-e4c2-cc51e6de192e"
   },
   "outputs": [
    {
     "data": {
      "text/plain": [
       "False"
      ]
     },
     "execution_count": 49,
     "metadata": {},
     "output_type": "execute_result"
    }
   ],
   "source": [
    "df_num.runtime.isnull().values.any()"
   ]
  },
  {
   "cell_type": "markdown",
   "metadata": {
    "colab_type": "text",
    "id": "3vfZVoK0T0Gc"
   },
   "source": [
    "### 'vote_count'"
   ]
  },
  {
   "cell_type": "code",
   "execution_count": 50,
   "metadata": {
    "colab": {
     "base_uri": "https://localhost:8080/",
     "height": 450
    },
    "colab_type": "code",
    "executionInfo": {
     "elapsed": 31405,
     "status": "ok",
     "timestamp": 1593274497646,
     "user": {
      "displayName": "Mariana Moura",
      "photoUrl": "",
      "userId": "09921903782139644629"
     },
     "user_tz": -60
    },
    "id": "ig9SOO6jT3v2",
    "outputId": "fa810ac3-e26c-41af-e63f-34b344ee7ee3"
   },
   "outputs": [
    {
     "name": "stdout",
     "output_type": "stream",
     "text": [
      "count     4803.000000\n",
      "mean       690.217989\n",
      "std       1234.585891\n",
      "min          0.000000\n",
      "25%         54.000000\n",
      "50%        235.000000\n",
      "75%        737.000000\n",
      "max      13752.000000\n",
      "Name: vote_count, dtype: float64\n",
      "\n"
     ]
    },
    {
     "data": {
      "image/png": "[encoded data removed]",
      "text/plain": [
       "<Figure size 432x288 with 2 Axes>"
      ]
     },
     "metadata": {
      "needs_background": "light"
     },
     "output_type": "display_data"
    }
   ],
   "source": [
    "# Vote_count variable's dispersion data\n",
    "\n",
    "print(df.vote_count.describe())\n",
    "print(\"\")\n",
    "\n",
    "vote_count = df.vote_count\n",
    "\n",
    "np.array(vote_count).mean()\n",
    "np.median(vote_count)\n",
    "\n",
    "f, (ax_box, ax_hist) = plt.subplots(2, sharex=True, gridspec_kw= {\"height_ratios\": (0.8, 1.2)})\n",
    "\n",
    "mean=np.array(vote_count).mean()\n",
    "median=np.median(vote_count)\n",
    "\n",
    "sns.boxplot(vote_count, ax=ax_box)\n",
    "ax_box.axvline(mean, color='r', linestyle='--')\n",
    "ax_box.axvline(median, color='g', linestyle='-')\n",
    "\n",
    "sns.distplot(vote_count, ax=ax_hist)\n",
    "ax_hist.axvline(mean, color='r', linestyle='--')\n",
    "ax_hist.axvline(median, color='g', linestyle='-')\n",
    "\n",
    "plt.legend({'Mean':mean,'Median':median})\n",
    "\n",
    "ax_box.set(xlabel='')\n",
    "plt.show()"
   ]
  },
  {
   "cell_type": "code",
   "execution_count": 51,
   "metadata": {
    "colab": {},
    "colab_type": "code",
    "executionInfo": {
     "elapsed": 31397,
     "status": "ok",
     "timestamp": 1593274497648,
     "user": {
      "displayName": "Mariana Moura",
      "photoUrl": "",
      "userId": "09921903782139644629"
     },
     "user_tz": -60
    },
    "id": "b9t2YDquT3tV"
   },
   "outputs": [],
   "source": [
    "# Determine the outliers through the IQR method\n",
    "\n",
    "Q1 = df['vote_count'].quantile(0.25)\n",
    "Q3 = df['vote_count'].quantile(0.75)\n",
    "IQR = Q3 - Q1\n",
    "\n",
    "df_num['vote_count'] = df.vote_count[~((df.vote_count < (Q1 - 1.5 * IQR)) |(df.vote_count > (Q3 + 1.5 * IQR)))]"
   ]
  },
  {
   "cell_type": "code",
   "execution_count": 52,
   "metadata": {
    "colab": {
     "base_uri": "https://localhost:8080/",
     "height": 467
    },
    "colab_type": "code",
    "executionInfo": {
     "elapsed": 31734,
     "status": "ok",
     "timestamp": 1593274498041,
     "user": {
      "displayName": "Mariana Moura",
      "photoUrl": "",
      "userId": "09921903782139644629"
     },
     "user_tz": -60
    },
    "id": "E6VKXi8kT3q6",
    "outputId": "a2ad5f38-b7d9-4817-9f3f-97ffaf7b67f3"
   },
   "outputs": [
    {
     "name": "stdout",
     "output_type": "stream",
     "text": [
      "count    4299.000000\n",
      "mean      349.331240\n",
      "std       410.053234\n",
      "min         0.000000\n",
      "25%        44.000000\n",
      "50%       181.000000\n",
      "75%       510.500000\n",
      "max      1750.000000\n",
      "Name: vote_count, dtype: float64\n",
      "\n"
     ]
    },
    {
     "data": {
      "image/png": "[encoded data removed]",
      "text/plain": [
       "<Figure size 432x288 with 2 Axes>"
      ]
     },
     "metadata": {
      "needs_background": "light"
     },
     "output_type": "display_data"
    },
    {
     "name": "stdout",
     "output_type": "stream",
     "text": [
      "504 outliers were identified with this operation.\n"
     ]
    }
   ],
   "source": [
    "# Analyzing the dispersion excluding outliers\n",
    "\n",
    "print(df_num.vote_count.describe())\n",
    "print(\"\")\n",
    "\n",
    "vote_count = df_num.vote_count\n",
    "\n",
    "np.array(vote_count).mean()\n",
    "np.median(vote_count)\n",
    "\n",
    "f, (ax_box, ax_hist) = plt.subplots(2, sharex=True, gridspec_kw= {\"height_ratios\": (0.8, 1.2)})\n",
    "\n",
    "mean=np.array(vote_count).mean()\n",
    "median=np.median(vote_count)\n",
    "\n",
    "sns.boxplot(vote_count, ax=ax_box)\n",
    "ax_box.axvline(mean, color='r', linestyle='--')\n",
    "ax_box.axvline(median, color='g', linestyle='-')\n",
    "\n",
    "sns.distplot(vote_count, ax=ax_hist)\n",
    "ax_hist.axvline(mean, color='r', linestyle='--')\n",
    "ax_hist.axvline(median, color='g', linestyle='-')\n",
    "\n",
    "plt.legend({'Mean':mean,'Median':median})\n",
    "\n",
    "ax_box.set(xlabel='')\n",
    "plt.show()\n",
    "\n",
    "print(int(df.vote_count.describe()[0]) - int(df_num.vote_count.describe()[0]),\"outliers were identified with this operation.\")"
   ]
  },
  {
   "cell_type": "code",
   "execution_count": 53,
   "metadata": {
    "colab": {},
    "colab_type": "code",
    "executionInfo": {
     "elapsed": 31722,
     "status": "ok",
     "timestamp": 1593274498045,
     "user": {
      "displayName": "Mariana Moura",
      "photoUrl": "",
      "userId": "09921903782139644629"
     },
     "user_tz": -60
    },
    "id": "NeoeMDvvT-x4"
   },
   "outputs": [],
   "source": [
    "# Replace outliers with the median\n",
    "\n",
    "df_num[\"vote_count\"] = df_num[\"vote_count\"].fillna(df_num.vote_count.median())"
   ]
  },
  {
   "cell_type": "code",
   "execution_count": 54,
   "metadata": {
    "colab": {
     "base_uri": "https://localhost:8080/",
     "height": 34
    },
    "colab_type": "code",
    "executionInfo": {
     "elapsed": 31670,
     "status": "ok",
     "timestamp": 1593274498048,
     "user": {
      "displayName": "Mariana Moura",
      "photoUrl": "",
      "userId": "09921903782139644629"
     },
     "user_tz": -60
    },
    "id": "LMxaxo0hUBGv",
    "outputId": "172a4774-1ee0-4fef-e413-b67db3ddf057"
   },
   "outputs": [
    {
     "data": {
      "text/plain": [
       "False"
      ]
     },
     "execution_count": 54,
     "metadata": {},
     "output_type": "execute_result"
    }
   ],
   "source": [
    "df_num.vote_count.isnull().values.any()"
   ]
  },
  {
   "cell_type": "markdown",
   "metadata": {
    "colab_type": "text",
    "id": "vHqrx2-MUGcJ"
   },
   "source": [
    "### 'year'"
   ]
  },
  {
   "cell_type": "code",
   "execution_count": 55,
   "metadata": {
    "colab": {
     "base_uri": "https://localhost:8080/",
     "height": 449
    },
    "colab_type": "code",
    "executionInfo": {
     "elapsed": 32361,
     "status": "ok",
     "timestamp": 1593274498784,
     "user": {
      "displayName": "Mariana Moura",
      "photoUrl": "",
      "userId": "09921903782139644629"
     },
     "user_tz": -60
    },
    "id": "xWPSTMFeUIPa",
    "outputId": "ed8af43d-83d5-4a76-ba46-74e1c5260ddf"
   },
   "outputs": [
    {
     "name": "stdout",
     "output_type": "stream",
     "text": [
      "count    4802.000000\n",
      "mean     2002.468763\n",
      "std        12.414354\n",
      "min      1916.000000\n",
      "25%      1999.000000\n",
      "50%      2005.000000\n",
      "75%      2011.000000\n",
      "max      2017.000000\n",
      "Name: year, dtype: float64\n",
      "\n"
     ]
    },
    {
     "data": {
      "image/png": "[encoded data removed]",
      "text/plain": [
       "<Figure size 432x288 with 2 Axes>"
      ]
     },
     "metadata": {
      "needs_background": "light"
     },
     "output_type": "display_data"
    }
   ],
   "source": [
    "# Year variable's dispersion data\n",
    "\n",
    "print(df_drop.year.describe())\n",
    "print(\"\")\n",
    "\n",
    "year = df_drop.year\n",
    "\n",
    "np.array(year).mean()\n",
    "np.median(year)\n",
    "\n",
    "f, (ax_box, ax_hist) = plt.subplots(2, sharex=True, gridspec_kw= {\"height_ratios\": (0.8, 1.2)})\n",
    "\n",
    "mean=np.array(year).mean()\n",
    "median=np.median(year)\n",
    "\n",
    "sns.boxplot(year, ax=ax_box)\n",
    "ax_box.axvline(mean, color='r', linestyle='--')\n",
    "ax_box.axvline(median, color='g', linestyle='-')\n",
    "\n",
    "sns.distplot(year, ax=ax_hist)\n",
    "ax_hist.axvline(mean, color='r', linestyle='--')\n",
    "ax_hist.axvline(median, color='g', linestyle='-')\n",
    "\n",
    "plt.legend({'Mean':mean,'Median':median})\n",
    "\n",
    "ax_box.set(xlabel='')\n",
    "plt.show()"
   ]
  },
  {
   "cell_type": "code",
   "execution_count": 56,
   "metadata": {
    "colab": {},
    "colab_type": "code",
    "executionInfo": {
     "elapsed": 32361,
     "status": "ok",
     "timestamp": 1593274498793,
     "user": {
      "displayName": "Mariana Moura",
      "photoUrl": "",
      "userId": "09921903782139644629"
     },
     "user_tz": -60
    },
    "id": "QzkNdFk3UIM9"
   },
   "outputs": [],
   "source": [
    "# Determine the outliers through the IQR method\n",
    "\n",
    "Q1 = df_drop['year'].quantile(0.25)\n",
    "Q3 = df_drop['year'].quantile(0.75)\n",
    "IQR = Q3 - Q1\n",
    "\n",
    "df_num['year'] = df_drop.year[~((df_drop.year < (Q1 - 1.5 * IQR)) |(df_drop.year > (Q3 + 1.5 * IQR)))]"
   ]
  },
  {
   "cell_type": "code",
   "execution_count": 57,
   "metadata": {
    "colab": {
     "base_uri": "https://localhost:8080/",
     "height": 466
    },
    "colab_type": "code",
    "executionInfo": {
     "elapsed": 32899,
     "status": "ok",
     "timestamp": 1593274499376,
     "user": {
      "displayName": "Mariana Moura",
      "photoUrl": "",
      "userId": "09921903782139644629"
     },
     "user_tz": -60
    },
    "id": "io1b8xrbUIKr",
    "outputId": "7e8ba150-05d9-44f9-ecb0-a8a6b8023452"
   },
   "outputs": [
    {
     "name": "stdout",
     "output_type": "stream",
     "text": [
      "count    4528.000000\n",
      "mean     2004.740945\n",
      "std         7.835919\n",
      "min      1981.000000\n",
      "25%      2000.000000\n",
      "50%      2006.000000\n",
      "75%      2011.000000\n",
      "max      2017.000000\n",
      "Name: year, dtype: float64\n",
      "\n"
     ]
    },
    {
     "data": {
      "image/png": "[encoded data removed]",
      "text/plain": [
       "<Figure size 432x288 with 2 Axes>"
      ]
     },
     "metadata": {
      "needs_background": "light"
     },
     "output_type": "display_data"
    },
    {
     "name": "stdout",
     "output_type": "stream",
     "text": [
      "274 outliers were identified with this operation.\n"
     ]
    }
   ],
   "source": [
    "# Analyzing the dispersion excluding outliers\n",
    "\n",
    "print(df_num.year.describe())\n",
    "print(\"\")\n",
    "\n",
    "year = df_num.year\n",
    "\n",
    "np.array(year).mean()\n",
    "np.median(year)\n",
    "\n",
    "f, (ax_box, ax_hist) = plt.subplots(2, sharex=True, gridspec_kw= {\"height_ratios\": (0.8, 1.2)})\n",
    "\n",
    "mean=np.array(year).mean()\n",
    "median=np.median(year)\n",
    "\n",
    "sns.boxplot(year, ax=ax_box)\n",
    "ax_box.axvline(mean, color='r', linestyle='--')\n",
    "ax_box.axvline(median, color='g', linestyle='-')\n",
    "\n",
    "sns.distplot(year, ax=ax_hist)\n",
    "ax_hist.axvline(mean, color='r', linestyle='--')\n",
    "ax_hist.axvline(median, color='g', linestyle='-')\n",
    "\n",
    "plt.legend({'Mean':mean,'Median':median})\n",
    "\n",
    "ax_box.set(xlabel='')\n",
    "plt.show()\n",
    "\n",
    "print(int(df_drop.year.describe()[0]) - int(df_num.year.describe()[0]),\"outliers were identified with this operation.\")"
   ]
  },
  {
   "cell_type": "code",
   "execution_count": 58,
   "metadata": {
    "colab": {},
    "colab_type": "code",
    "executionInfo": {
     "elapsed": 32883,
     "status": "ok",
     "timestamp": 1593274499378,
     "user": {
      "displayName": "Mariana Moura",
      "photoUrl": "",
      "userId": "09921903782139644629"
     },
     "user_tz": -60
    },
    "id": "dI0wKVT-URSR"
   },
   "outputs": [],
   "source": [
    "# Replace outliers with the median\n",
    "\n",
    "df_num[\"year\"] = df_num[\"year\"].fillna(df_num.year.median())"
   ]
  },
  {
   "cell_type": "code",
   "execution_count": 59,
   "metadata": {
    "colab": {
     "base_uri": "https://localhost:8080/",
     "height": 34
    },
    "colab_type": "code",
    "executionInfo": {
     "elapsed": 32832,
     "status": "ok",
     "timestamp": 1593274499380,
     "user": {
      "displayName": "Mariana Moura",
      "photoUrl": "",
      "userId": "09921903782139644629"
     },
     "user_tz": -60
    },
    "id": "JTqGTwLfUUML",
    "outputId": "82478ad2-ad14-4b84-803f-97c99be04256"
   },
   "outputs": [
    {
     "data": {
      "text/plain": [
       "False"
      ]
     },
     "execution_count": 59,
     "metadata": {},
     "output_type": "execute_result"
    }
   ],
   "source": [
    "df_num.year.isnull().values.any()"
   ]
  },
  {
   "cell_type": "markdown",
   "metadata": {
    "colab_type": "text",
    "id": "sYAFFxTqUDaM"
   },
   "source": [
    "---"
   ]
  },
  {
   "cell_type": "code",
   "execution_count": 60,
   "metadata": {
    "colab": {},
    "colab_type": "code",
    "executionInfo": {
     "elapsed": 32819,
     "status": "ok",
     "timestamp": 1593274499382,
     "user": {
      "displayName": "Mariana Moura",
      "photoUrl": "",
      "userId": "09921903782139644629"
     },
     "user_tz": -60
    },
    "id": "4KGB2c3pUXbB"
   },
   "outputs": [],
   "source": [
    "# Droping any remaining NaN values in the dataset\n",
    "\n",
    "df_num.dropna(axis=0, inplace=True)"
   ]
  },
  {
   "cell_type": "code",
   "execution_count": 61,
   "metadata": {
    "colab": {
     "base_uri": "https://localhost:8080/",
     "height": 34
    },
    "colab_type": "code",
    "executionInfo": {
     "elapsed": 32775,
     "status": "ok",
     "timestamp": 1593274499384,
     "user": {
      "displayName": "Mariana Moura",
      "photoUrl": "",
      "userId": "09921903782139644629"
     },
     "user_tz": -60
    },
    "id": "rO476tg-UBET",
    "outputId": "6ed2a583-0f56-480f-ff59-10da3c89d4a1"
   },
   "outputs": [
    {
     "data": {
      "text/plain": [
       "(4803, 7)"
      ]
     },
     "execution_count": 61,
     "metadata": {},
     "output_type": "execute_result"
    }
   ],
   "source": [
    "df_num.shape"
   ]
  },
  {
   "cell_type": "code",
   "execution_count": 62,
   "metadata": {
    "colab": {
     "base_uri": "https://localhost:8080/",
     "height": 204
    },
    "colab_type": "code",
    "executionInfo": {
     "elapsed": 32730,
     "status": "ok",
     "timestamp": 1593274499385,
     "user": {
      "displayName": "Mariana Moura",
      "photoUrl": "",
      "userId": "09921903782139644629"
     },
     "user_tz": -60
    },
    "id": "2T76sg2SUZm0",
    "outputId": "87a8f7bc-6ce4-49d0-9c6d-bd9e952339e2"
   },
   "outputs": [
    {
     "data": {
      "text/html": [
       "<div>\n",
       "<style scoped>\n",
       "    .dataframe tbody tr th:only-of-type {\n",
       "        vertical-align: middle;\n",
       "    }\n",
       "\n",
       "    .dataframe tbody tr th {\n",
       "        vertical-align: top;\n",
       "    }\n",
       "\n",
       "    .dataframe thead th {\n",
       "        text-align: right;\n",
       "    }\n",
       "</style>\n",
       "<table border=\"1\" class=\"dataframe\">\n",
       "  <thead>\n",
       "    <tr style=\"text-align: right;\">\n",
       "      <th></th>\n",
       "      <th>budget</th>\n",
       "      <th>popularity</th>\n",
       "      <th>revenue</th>\n",
       "      <th>runtime</th>\n",
       "      <th>vote_average</th>\n",
       "      <th>vote_count</th>\n",
       "      <th>year</th>\n",
       "    </tr>\n",
       "  </thead>\n",
       "  <tbody>\n",
       "    <tr>\n",
       "      <th>0</th>\n",
       "      <td>20000000.0</td>\n",
       "      <td>11.770272</td>\n",
       "      <td>38211962.5</td>\n",
       "      <td>103.0</td>\n",
       "      <td>7.2</td>\n",
       "      <td>181.0</td>\n",
       "      <td>2009.0</td>\n",
       "    </tr>\n",
       "    <tr>\n",
       "      <th>1</th>\n",
       "      <td>20000000.0</td>\n",
       "      <td>11.770272</td>\n",
       "      <td>38211962.5</td>\n",
       "      <td>103.0</td>\n",
       "      <td>6.9</td>\n",
       "      <td>181.0</td>\n",
       "      <td>2007.0</td>\n",
       "    </tr>\n",
       "    <tr>\n",
       "      <th>2</th>\n",
       "      <td>20000000.0</td>\n",
       "      <td>11.770272</td>\n",
       "      <td>38211962.5</td>\n",
       "      <td>148.0</td>\n",
       "      <td>6.3</td>\n",
       "      <td>181.0</td>\n",
       "      <td>2015.0</td>\n",
       "    </tr>\n",
       "    <tr>\n",
       "      <th>3</th>\n",
       "      <td>20000000.0</td>\n",
       "      <td>11.770272</td>\n",
       "      <td>38211962.5</td>\n",
       "      <td>103.0</td>\n",
       "      <td>7.6</td>\n",
       "      <td>181.0</td>\n",
       "      <td>2012.0</td>\n",
       "    </tr>\n",
       "    <tr>\n",
       "      <th>4</th>\n",
       "      <td>20000000.0</td>\n",
       "      <td>43.926995</td>\n",
       "      <td>38211962.5</td>\n",
       "      <td>132.0</td>\n",
       "      <td>6.1</td>\n",
       "      <td>181.0</td>\n",
       "      <td>2012.0</td>\n",
       "    </tr>\n",
       "  </tbody>\n",
       "</table>\n",
       "</div>"
      ],
      "text/plain": [
       "       budget  popularity     revenue  runtime  vote_average  vote_count  \\\n",
       "0  20000000.0   11.770272  38211962.5    103.0           7.2       181.0   \n",
       "1  20000000.0   11.770272  38211962.5    103.0           6.9       181.0   \n",
       "2  20000000.0   11.770272  38211962.5    148.0           6.3       181.0   \n",
       "3  20000000.0   11.770272  38211962.5    103.0           7.6       181.0   \n",
       "4  20000000.0   43.926995  38211962.5    132.0           6.1       181.0   \n",
       "\n",
       "     year  \n",
       "0  2009.0  \n",
       "1  2007.0  \n",
       "2  2015.0  \n",
       "3  2012.0  \n",
       "4  2012.0  "
      ]
     },
     "execution_count": 62,
     "metadata": {},
     "output_type": "execute_result"
    }
   ],
   "source": [
    "df_num.head()"
   ]
  },
  {
   "cell_type": "markdown",
   "metadata": {
    "colab_type": "text",
    "id": "FQnnUtboUbPl"
   },
   "source": [
    "---"
   ]
  },
  {
   "cell_type": "markdown",
   "metadata": {
    "colab_type": "text",
    "id": "lYZU9s4iUfLr"
   },
   "source": [
    "# **# 1** - First modeling"
   ]
  },
  {
   "cell_type": "markdown",
   "metadata": {
    "colab_type": "text",
    "id": "DrLT4VxtUwxl"
   },
   "source": [
    "In the case of a regression problem, the following models are to apply: \n",
    "- Multiple Linear Regression (MLR)\n",
    "- Non-Linear Multiple Regression (NLR)\n",
    "- KNearest Neighbor (KNN)\n",
    "- Support Vector Regression (SVR)\n",
    "- Random Forest Regressor ( RF)\n",
    "- Neural Networks (NN)\n",
    "\n",
    "Procedure:\n",
    "\n",
    "1) Divide the data into training data (80%) and test data (20%)\n",
    "\n",
    "2) Normalize/standardize according to each model's needs.\n",
    "\n",
    "In this 1st iteration, computing only the numerical variables and verify the results."
   ]
  },
  {
   "cell_type": "code",
   "execution_count": 63,
   "metadata": {
    "colab": {},
    "colab_type": "code",
    "executionInfo": {
     "elapsed": 32715,
     "status": "ok",
     "timestamp": 1593274499387,
     "user": {
      "displayName": "Mariana Moura",
      "photoUrl": "",
      "userId": "09921903782139644629"
     },
     "user_tz": -60
    },
    "id": "TE9XepZ4Ui4k"
   },
   "outputs": [],
   "source": [
    "# Split the data into training data (80%) and test data (20%)\n",
    "\n",
    "train_set, test_set = train_test_split(df_num, test_size = 0.2, random_state = seed)\n",
    "\n",
    "X_train = train_set.drop(['vote_average'], axis = 1)\n",
    "y_train = train_set['vote_average']\n",
    "\n",
    "X_test = test_set.drop(['vote_average'], axis = 1)\n",
    "y_test = test_set['vote_average']"
   ]
  },
  {
   "cell_type": "markdown",
   "metadata": {
    "colab_type": "text",
    "id": "plHXK2PVVc8E"
   },
   "source": [
    "## Multiple Linear Regression (MLR)"
   ]
  },
  {
   "cell_type": "code",
   "execution_count": 64,
   "metadata": {
    "colab": {
     "base_uri": "https://localhost:8080/",
     "height": 51
    },
    "colab_type": "code",
    "executionInfo": {
     "elapsed": 32664,
     "status": "ok",
     "timestamp": 1593274499388,
     "user": {
      "displayName": "Mariana Moura",
      "photoUrl": "",
      "userId": "09921903782139644629"
     },
     "user_tz": -60
    },
    "id": "jf-DhB15VYA-",
    "outputId": "d0bfd8c5-4b04-436c-a652-7d56b6bdf4ff"
   },
   "outputs": [
    {
     "name": "stdout",
     "output_type": "stream",
     "text": [
      "CPU times: user 24.8 ms, sys: 3.87 ms, total: 28.6 ms\n",
      "Wall time: 11.4 ms\n"
     ]
    }
   ],
   "source": [
    "%%time\n",
    "# Fit the data\n",
    "mlr1 = LinearRegression().fit(X_train, y_train)\n",
    "\n",
    "# Predict the target based on test data\n",
    "y_preds1 = mlr1.predict(X_test) \n",
    "\n",
    "# Estimate R2 \n",
    "r2_mlr1 = r2_score(y_test, y_preds1)"
   ]
  },
  {
   "cell_type": "code",
   "execution_count": 65,
   "metadata": {
    "colab": {
     "base_uri": "https://localhost:8080/",
     "height": 34
    },
    "colab_type": "code",
    "executionInfo": {
     "elapsed": 32624,
     "status": "ok",
     "timestamp": 1593274499390,
     "user": {
      "displayName": "Mariana Moura",
      "photoUrl": "",
      "userId": "09921903782139644629"
     },
     "user_tz": -60
    },
    "id": "CGSM82HeslD0",
    "outputId": "388f7029-a45a-414b-b470-97b8c3f18987"
   },
   "outputs": [
    {
     "data": {
      "text/plain": [
       "0.2043725154487941"
      ]
     },
     "execution_count": 65,
     "metadata": {},
     "output_type": "execute_result"
    }
   ],
   "source": [
    "r2_mlr1"
   ]
  },
  {
   "cell_type": "code",
   "execution_count": 66,
   "metadata": {
    "colab": {},
    "colab_type": "code",
    "executionInfo": {
     "elapsed": 32613,
     "status": "ok",
     "timestamp": 1593274499392,
     "user": {
      "displayName": "Mariana Moura",
      "photoUrl": "",
      "userId": "09921903782139644629"
     },
     "user_tz": -60
    },
    "id": "QsrWW6Yafyo_"
   },
   "outputs": [],
   "source": [
    "# Determine Adjusted R2\n",
    "def adjusted_r2(r2, X_train):\n",
    "    return (1 - ((1 - r2)*(X_train.shape[0] - 1)/(X_train.shape[0] - X_train.shape[1] - 1)))"
   ]
  },
  {
   "cell_type": "code",
   "execution_count": 67,
   "metadata": {
    "colab": {
     "base_uri": "https://localhost:8080/",
     "height": 34
    },
    "colab_type": "code",
    "executionInfo": {
     "elapsed": 32529,
     "status": "ok",
     "timestamp": 1593274499393,
     "user": {
      "displayName": "Mariana Moura",
      "photoUrl": "",
      "userId": "09921903782139644629"
     },
     "user_tz": -60
    },
    "id": "0OCJ2kkZfynX",
    "outputId": "6e48bf28-9aae-40f1-d2a7-c96119d706e4"
   },
   "outputs": [
    {
     "data": {
      "text/plain": [
       "0.20312772668548063"
      ]
     },
     "execution_count": 67,
     "metadata": {},
     "output_type": "execute_result"
    }
   ],
   "source": [
    "# Estimate adjusted R2\n",
    "\n",
    "adj_r2_mlr1 = adjusted_r2(r2_mlr1, X_train)\n",
    "firstMLR = (adj_r2_mlr1*100).round(decimals=2)\n",
    "\n",
    "adj_r2_mlr1"
   ]
  },
  {
   "cell_type": "code",
   "execution_count": 68,
   "metadata": {
    "colab": {
     "base_uri": "https://localhost:8080/",
     "height": 659
    },
    "colab_type": "code",
    "executionInfo": {
     "elapsed": 33423,
     "status": "ok",
     "timestamp": 1593274500328,
     "user": {
      "displayName": "Mariana Moura",
      "photoUrl": "",
      "userId": "09921903782139644629"
     },
     "user_tz": -60
    },
    "id": "MzLku-WmgB9z",
    "outputId": "770c86e7-60f7-443b-80e6-c021155884a7"
   },
   "outputs": [
    {
     "data": {
      "text/html": [
       "<div>\n",
       "<style scoped>\n",
       "    .dataframe tbody tr th:only-of-type {\n",
       "        vertical-align: middle;\n",
       "    }\n",
       "\n",
       "    .dataframe tbody tr th {\n",
       "        vertical-align: top;\n",
       "    }\n",
       "\n",
       "    .dataframe thead th {\n",
       "        text-align: right;\n",
       "    }\n",
       "</style>\n",
       "<table border=\"1\" class=\"dataframe\">\n",
       "  <thead>\n",
       "    <tr style=\"text-align: right;\">\n",
       "      <th></th>\n",
       "      <th>0</th>\n",
       "    </tr>\n",
       "    <tr>\n",
       "      <th>vote_average</th>\n",
       "      <th></th>\n",
       "    </tr>\n",
       "  </thead>\n",
       "  <tbody>\n",
       "    <tr>\n",
       "      <th>5.2</th>\n",
       "      <td>5.570625</td>\n",
       "    </tr>\n",
       "    <tr>\n",
       "      <th>5.7</th>\n",
       "      <td>5.976850</td>\n",
       "    </tr>\n",
       "    <tr>\n",
       "      <th>5.5</th>\n",
       "      <td>5.731876</td>\n",
       "    </tr>\n",
       "    <tr>\n",
       "      <th>6.7</th>\n",
       "      <td>6.320217</td>\n",
       "    </tr>\n",
       "    <tr>\n",
       "      <th>7.4</th>\n",
       "      <td>5.899020</td>\n",
       "    </tr>\n",
       "  </tbody>\n",
       "</table>\n",
       "</div>"
      ],
      "text/plain": [
       "                     0\n",
       "vote_average          \n",
       "5.2           5.570625\n",
       "5.7           5.976850\n",
       "5.5           5.731876\n",
       "6.7           6.320217\n",
       "7.4           5.899020"
      ]
     },
     "metadata": {},
     "output_type": "display_data"
    },
    {
     "data": {
      "image/png": "[encoded data removed]",
      "text/plain": [
       "<Figure size 432x432 with 3 Axes>"
      ]
     },
     "metadata": {
      "needs_background": "light"
     },
     "output_type": "display_data"
    }
   ],
   "source": [
    "# Create a data frame and graphic\n",
    "# for visualization of residual errors\n",
    "\n",
    "residualsMLR1 = y_preds1 - y_test\n",
    "sns.jointplot(y_preds1, residualsMLR1);\n",
    "display(pd.DataFrame(y_preds1, y_test).head(5))"
   ]
  },
  {
   "cell_type": "markdown",
   "metadata": {
    "colab_type": "text",
    "id": "dkbULdjNgNU3"
   },
   "source": [
    "## Non Linear Multiple Regression (NLMR)"
   ]
  },
  {
   "cell_type": "code",
   "execution_count": 69,
   "metadata": {
    "colab": {},
    "colab_type": "code",
    "executionInfo": {
     "elapsed": 33417,
     "status": "ok",
     "timestamp": 1593274500333,
     "user": {
      "displayName": "Mariana Moura",
      "photoUrl": "",
      "userId": "09921903782139644629"
     },
     "user_tz": -60
    },
    "id": "4uUbAn6hgcFZ"
   },
   "outputs": [],
   "source": [
    "# Create a pipeline for polynomial feature transformation and linear regression algorithm\n",
    "nonlinear_model1 = Pipeline( steps = [('poly', PolynomialFeatures(degree = 2)),\n",
    "                                     ('linear', LinearRegression())])"
   ]
  },
  {
   "cell_type": "code",
   "execution_count": 70,
   "metadata": {
    "colab": {
     "base_uri": "https://localhost:8080/",
     "height": 51
    },
    "colab_type": "code",
    "executionInfo": {
     "elapsed": 33380,
     "status": "ok",
     "timestamp": 1593274500335,
     "user": {
      "displayName": "Mariana Moura",
      "photoUrl": "",
      "userId": "09921903782139644629"
     },
     "user_tz": -60
    },
    "id": "e6YeOQk-gcDV",
    "outputId": "f6ae011e-7e5f-40f5-fbdd-690ddce709cd"
   },
   "outputs": [
    {
     "name": "stdout",
     "output_type": "stream",
     "text": [
      "CPU times: user 24.5 ms, sys: 3.92 ms, total: 28.4 ms\n",
      "Wall time: 14.2 ms\n"
     ]
    }
   ],
   "source": [
    "%%time\n",
    "# Fit the data\n",
    "nlmr1 = nonlinear_model1.fit(X_train, y_train)\n",
    "\n",
    "# Predict the target\n",
    "preds_multiple_poly1 = nlmr1.predict(X_test)\n",
    "\n",
    "# Estimate R2\n",
    "r2_multiple_poly1 = r2_score(y_test, preds_multiple_poly1)"
   ]
  },
  {
   "cell_type": "code",
   "execution_count": 71,
   "metadata": {
    "colab": {
     "base_uri": "https://localhost:8080/",
     "height": 34
    },
    "colab_type": "code",
    "executionInfo": {
     "elapsed": 33345,
     "status": "ok",
     "timestamp": 1593274500337,
     "user": {
      "displayName": "Mariana Moura",
      "photoUrl": "",
      "userId": "09921903782139644629"
     },
     "user_tz": -60
    },
    "id": "Fu1ejazGs1AL",
    "outputId": "e6da9d73-ebdf-4db8-e2c8-bbf21ea4ea9d"
   },
   "outputs": [
    {
     "data": {
      "text/plain": [
       "0.24903296468877834"
      ]
     },
     "execution_count": 71,
     "metadata": {},
     "output_type": "execute_result"
    }
   ],
   "source": [
    "r2_multiple_poly1"
   ]
  },
  {
   "cell_type": "code",
   "execution_count": 72,
   "metadata": {
    "colab": {
     "base_uri": "https://localhost:8080/",
     "height": 34
    },
    "colab_type": "code",
    "executionInfo": {
     "elapsed": 33304,
     "status": "ok",
     "timestamp": 1593274500338,
     "user": {
      "displayName": "Mariana Moura",
      "photoUrl": "",
      "userId": "09921903782139644629"
     },
     "user_tz": -60
    },
    "id": "1sXBBjptgcA1",
    "outputId": "c46d4e64-9c6b-4c54-bdfb-4a980b2616c1"
   },
   "outputs": [
    {
     "data": {
      "text/plain": [
       "0.24785804885778295"
      ]
     },
     "execution_count": 72,
     "metadata": {},
     "output_type": "execute_result"
    }
   ],
   "source": [
    "# Estimate Adjusted R2\n",
    "adj_r2_multiple_poly1 = adjusted_r2(r2_multiple_poly1, X_train)\n",
    "firstNLR = (adj_r2_multiple_poly1*100).round(decimals=2)\n",
    "\n",
    "adj_r2_multiple_poly1"
   ]
  },
  {
   "cell_type": "code",
   "execution_count": 73,
   "metadata": {
    "colab": {
     "base_uri": "https://localhost:8080/",
     "height": 659
    },
    "colab_type": "code",
    "executionInfo": {
     "elapsed": 34242,
     "status": "ok",
     "timestamp": 1593274501309,
     "user": {
      "displayName": "Mariana Moura",
      "photoUrl": "",
      "userId": "09921903782139644629"
     },
     "user_tz": -60
    },
    "id": "0oOfe99ZgvJs",
    "outputId": "a36f1362-6314-42f3-92ab-3309c42b4de0"
   },
   "outputs": [
    {
     "data": {
      "text/html": [
       "<div>\n",
       "<style scoped>\n",
       "    .dataframe tbody tr th:only-of-type {\n",
       "        vertical-align: middle;\n",
       "    }\n",
       "\n",
       "    .dataframe tbody tr th {\n",
       "        vertical-align: top;\n",
       "    }\n",
       "\n",
       "    .dataframe thead th {\n",
       "        text-align: right;\n",
       "    }\n",
       "</style>\n",
       "<table border=\"1\" class=\"dataframe\">\n",
       "  <thead>\n",
       "    <tr style=\"text-align: right;\">\n",
       "      <th></th>\n",
       "      <th>0</th>\n",
       "    </tr>\n",
       "    <tr>\n",
       "      <th>vote_average</th>\n",
       "      <th></th>\n",
       "    </tr>\n",
       "  </thead>\n",
       "  <tbody>\n",
       "    <tr>\n",
       "      <th>5.2</th>\n",
       "      <td>5.741148</td>\n",
       "    </tr>\n",
       "    <tr>\n",
       "      <th>5.7</th>\n",
       "      <td>6.178285</td>\n",
       "    </tr>\n",
       "    <tr>\n",
       "      <th>5.5</th>\n",
       "      <td>5.715010</td>\n",
       "    </tr>\n",
       "    <tr>\n",
       "      <th>6.7</th>\n",
       "      <td>6.408235</td>\n",
       "    </tr>\n",
       "    <tr>\n",
       "      <th>7.4</th>\n",
       "      <td>5.936324</td>\n",
       "    </tr>\n",
       "  </tbody>\n",
       "</table>\n",
       "</div>"
      ],
      "text/plain": [
       "                     0\n",
       "vote_average          \n",
       "5.2           5.741148\n",
       "5.7           6.178285\n",
       "5.5           5.715010\n",
       "6.7           6.408235\n",
       "7.4           5.936324"
      ]
     },
     "metadata": {},
     "output_type": "display_data"
    },
    {
     "data": {
      "image/png": "[encoded data removed]",
      "text/plain": [
       "<Figure size 432x432 with 3 Axes>"
      ]
     },
     "metadata": {
      "needs_background": "light"
     },
     "output_type": "display_data"
    }
   ],
   "source": [
    "# Create a data frame and graphic\n",
    "# for visualization of residual errors\n",
    "\n",
    "residualsNLMR1 = preds_multiple_poly1 - y_test\n",
    "sns.jointplot(preds_multiple_poly1, residualsNLMR1);\n",
    "display(pd.DataFrame(preds_multiple_poly1, y_test).head(5))"
   ]
  },
  {
   "cell_type": "markdown",
   "metadata": {
    "colab_type": "text",
    "id": "-ONDwVnNhVaC"
   },
   "source": [
    "## KNN"
   ]
  },
  {
   "cell_type": "code",
   "execution_count": 74,
   "metadata": {
    "colab": {},
    "colab_type": "code",
    "executionInfo": {
     "elapsed": 34238,
     "status": "ok",
     "timestamp": 1593274501312,
     "user": {
      "displayName": "Mariana Moura",
      "photoUrl": "",
      "userId": "09921903782139644629"
     },
     "user_tz": -60
    },
    "id": "PYPPHO-3hbLy"
   },
   "outputs": [],
   "source": [
    "# Create a copy of the dataset\n",
    "df_knn1 = df_num.copy()"
   ]
  },
  {
   "cell_type": "code",
   "execution_count": 75,
   "metadata": {
    "colab": {},
    "colab_type": "code",
    "executionInfo": {
     "elapsed": 34230,
     "status": "ok",
     "timestamp": 1593274501315,
     "user": {
      "displayName": "Mariana Moura",
      "photoUrl": "",
      "userId": "09921903782139644629"
     },
     "user_tz": -60
    },
    "id": "KnYuxAznh5BQ"
   },
   "outputs": [],
   "source": [
    "# Split the data into training data (80%) and test data (20%)\n",
    "train_set, test_set = train_test_split(df_knn1, test_size = 0.2, random_state = seed)\n",
    "\n",
    "X_train = train_set.drop(['vote_average'], axis = 1)\n",
    "y_train = train_set['vote_average']\n",
    "\n",
    "X_test = test_set.drop(['vote_average'], axis = 1)\n",
    "y_test = test_set['vote_average']"
   ]
  },
  {
   "cell_type": "code",
   "execution_count": 76,
   "metadata": {
    "colab": {},
    "colab_type": "code",
    "executionInfo": {
     "elapsed": 34217,
     "status": "ok",
     "timestamp": 1593274501317,
     "user": {
      "displayName": "Mariana Moura",
      "photoUrl": "",
      "userId": "09921903782139644629"
     },
     "user_tz": -60
    },
    "id": "Y6IKCG1uh-oL"
   },
   "outputs": [],
   "source": [
    "# Normalization of the data\n",
    "scaler = MinMaxScaler()\n",
    "features_names = X_train.columns\n",
    "\n",
    "X_train = scaler.fit_transform(X_train)\n",
    "X_train = pd.DataFrame(X_train, columns = features_names)\n",
    "\n",
    "X_test = scaler.transform(X_test)\n",
    "X_test = pd.DataFrame(X_test, columns = features_names)"
   ]
  },
  {
   "cell_type": "code",
   "execution_count": 77,
   "metadata": {
    "colab": {
     "base_uri": "https://localhost:8080/",
     "height": 51
    },
    "colab_type": "code",
    "executionInfo": {
     "elapsed": 34187,
     "status": "ok",
     "timestamp": 1593274501318,
     "user": {
      "displayName": "Mariana Moura",
      "photoUrl": "",
      "userId": "09921903782139644629"
     },
     "user_tz": -60
    },
    "id": "RuP14zwZiggI",
    "outputId": "bad89983-4755-4937-bdeb-e1602e3fddba"
   },
   "outputs": [
    {
     "name": "stdout",
     "output_type": "stream",
     "text": [
      "CPU times: user 32.2 ms, sys: 4 ms, total: 36.2 ms\n",
      "Wall time: 38.7 ms\n"
     ]
    }
   ],
   "source": [
    "%%time\n",
    "\n",
    "# Fit the data\n",
    "knn1 = KNeighborsRegressor(n_neighbors = 21).fit(X_train, y_train)\n",
    "\n",
    "# Predict the target\n",
    "y_preds_knn1 = knn1.predict(X_test)\n",
    "\n",
    "# Estimate regression score\n",
    "r2_score_knn1 = r2_score(y_test, y_preds_knn1)\n",
    "firstKNN = (r2_score_knn1*100).round(decimals=2)"
   ]
  },
  {
   "cell_type": "code",
   "execution_count": 78,
   "metadata": {
    "colab": {
     "base_uri": "https://localhost:8080/",
     "height": 34
    },
    "colab_type": "code",
    "executionInfo": {
     "elapsed": 34157,
     "status": "ok",
     "timestamp": 1593274501320,
     "user": {
      "displayName": "Mariana Moura",
      "photoUrl": "",
      "userId": "09921903782139644629"
     },
     "user_tz": -60
    },
    "id": "jy7aLCYOtC93",
    "outputId": "428c23b2-b98f-4a47-ddcd-1b2efbb80faa"
   },
   "outputs": [
    {
     "data": {
      "text/plain": [
       "0.27781470677858644"
      ]
     },
     "execution_count": 78,
     "metadata": {},
     "output_type": "execute_result"
    }
   ],
   "source": [
    "r2_score_knn1"
   ]
  },
  {
   "cell_type": "code",
   "execution_count": 79,
   "metadata": {
    "colab": {
     "base_uri": "https://localhost:8080/",
     "height": 659
    },
    "colab_type": "code",
    "executionInfo": {
     "elapsed": 34932,
     "status": "ok",
     "timestamp": 1593274502124,
     "user": {
      "displayName": "Mariana Moura",
      "photoUrl": "",
      "userId": "09921903782139644629"
     },
     "user_tz": -60
    },
    "id": "LQ0V8zPSmI89",
    "outputId": "b59b67eb-43d4-4a57-c275-247f3adfad37"
   },
   "outputs": [
    {
     "data": {
      "text/html": [
       "<div>\n",
       "<style scoped>\n",
       "    .dataframe tbody tr th:only-of-type {\n",
       "        vertical-align: middle;\n",
       "    }\n",
       "\n",
       "    .dataframe tbody tr th {\n",
       "        vertical-align: top;\n",
       "    }\n",
       "\n",
       "    .dataframe thead th {\n",
       "        text-align: right;\n",
       "    }\n",
       "</style>\n",
       "<table border=\"1\" class=\"dataframe\">\n",
       "  <thead>\n",
       "    <tr style=\"text-align: right;\">\n",
       "      <th></th>\n",
       "      <th>0</th>\n",
       "    </tr>\n",
       "    <tr>\n",
       "      <th>vote_average</th>\n",
       "      <th></th>\n",
       "    </tr>\n",
       "  </thead>\n",
       "  <tbody>\n",
       "    <tr>\n",
       "      <th>5.2</th>\n",
       "      <td>6.100000</td>\n",
       "    </tr>\n",
       "    <tr>\n",
       "      <th>5.7</th>\n",
       "      <td>6.047619</td>\n",
       "    </tr>\n",
       "    <tr>\n",
       "      <th>5.5</th>\n",
       "      <td>5.533333</td>\n",
       "    </tr>\n",
       "    <tr>\n",
       "      <th>6.7</th>\n",
       "      <td>6.409524</td>\n",
       "    </tr>\n",
       "    <tr>\n",
       "      <th>7.4</th>\n",
       "      <td>6.480952</td>\n",
       "    </tr>\n",
       "  </tbody>\n",
       "</table>\n",
       "</div>"
      ],
      "text/plain": [
       "                     0\n",
       "vote_average          \n",
       "5.2           6.100000\n",
       "5.7           6.047619\n",
       "5.5           5.533333\n",
       "6.7           6.409524\n",
       "7.4           6.480952"
      ]
     },
     "metadata": {},
     "output_type": "display_data"
    },
    {
     "data": {
      "image/png": "[encoded data removed]",
      "text/plain": [
       "<Figure size 432x432 with 3 Axes>"
      ]
     },
     "metadata": {
      "needs_background": "light"
     },
     "output_type": "display_data"
    }
   ],
   "source": [
    "# Create a data frame and graphic\n",
    "# for visualization of residual errors\n",
    "residualsKNN1 = y_preds_knn1 - y_test\n",
    "sns.jointplot(y_preds_knn1, residualsKNN1);\n",
    "display(pd.DataFrame(y_preds_knn1,y_test).head(5))"
   ]
  },
  {
   "cell_type": "markdown",
   "metadata": {
    "colab_type": "text",
    "id": "S5uuvjfzmQ6g"
   },
   "source": [
    "## SVR"
   ]
  },
  {
   "cell_type": "code",
   "execution_count": 80,
   "metadata": {
    "colab": {},
    "colab_type": "code",
    "executionInfo": {
     "elapsed": 34925,
     "status": "ok",
     "timestamp": 1593274502126,
     "user": {
      "displayName": "Mariana Moura",
      "photoUrl": "",
      "userId": "09921903782139644629"
     },
     "user_tz": -60
    },
    "id": "w9KkY_RfmSJQ"
   },
   "outputs": [],
   "source": [
    "# Create a copy of the dataset\n",
    "df_svr1 = df_num.copy()"
   ]
  },
  {
   "cell_type": "code",
   "execution_count": 81,
   "metadata": {
    "colab": {},
    "colab_type": "code",
    "executionInfo": {
     "elapsed": 34917,
     "status": "ok",
     "timestamp": 1593274502128,
     "user": {
      "displayName": "Mariana Moura",
      "photoUrl": "",
      "userId": "09921903782139644629"
     },
     "user_tz": -60
    },
    "id": "tTBvciECmU2u"
   },
   "outputs": [],
   "source": [
    "# Split the data into training data (80%) and test data (20%)\n",
    "train_set, test_set = train_test_split(df_svr1, test_size = 0.2, random_state = seed)\n",
    "\n",
    "X_train = train_set.drop(['vote_average'], axis = 1)\n",
    "y_train = train_set['vote_average']\n",
    "\n",
    "X_test = test_set.drop(['vote_average'], axis = 1)\n",
    "y_test = test_set['vote_average']"
   ]
  },
  {
   "cell_type": "code",
   "execution_count": 82,
   "metadata": {
    "colab": {},
    "colab_type": "code",
    "executionInfo": {
     "elapsed": 34908,
     "status": "ok",
     "timestamp": 1593274502129,
     "user": {
      "displayName": "Mariana Moura",
      "photoUrl": "",
      "userId": "09921903782139644629"
     },
     "user_tz": -60
    },
    "id": "C5TdYahGmadI"
   },
   "outputs": [],
   "source": [
    "# Normalization of the data\n",
    "zscore = StandardScaler()\n",
    "features_names = X_train.columns\n",
    "\n",
    "X_train = zscore.fit_transform(X_train)\n",
    "X_train = pd.DataFrame(X_train, columns = features_names)\n",
    "\n",
    "X_test = zscore.transform(X_test)\n",
    "X_test = pd.DataFrame(X_test, columns = features_names)"
   ]
  },
  {
   "cell_type": "code",
   "execution_count": 83,
   "metadata": {
    "colab": {
     "base_uri": "https://localhost:8080/",
     "height": 51
    },
    "colab_type": "code",
    "executionInfo": {
     "elapsed": 36106,
     "status": "ok",
     "timestamp": 1593274503365,
     "user": {
      "displayName": "Mariana Moura",
      "photoUrl": "",
      "userId": "09921903782139644629"
     },
     "user_tz": -60
    },
    "id": "v8y1_rVTmlML",
    "outputId": "80bcc56f-603e-4e77-e720-76ef08711d47"
   },
   "outputs": [
    {
     "name": "stdout",
     "output_type": "stream",
     "text": [
      "CPU times: user 694 ms, sys: 35.2 ms, total: 729 ms\n",
      "Wall time: 739 ms\n"
     ]
    }
   ],
   "source": [
    "%%time\n",
    "# Fit the data\n",
    "svr1 = SVR().fit(X_train, y_train)\n",
    "\n",
    "# Predict the target\n",
    "y_preds_svr1 = svr1.predict(X_test)\n",
    "\n",
    "# Estimate regression score\n",
    "r2_score_svr1 = r2_score(y_test, y_preds_svr1)\n",
    "firstSVR = ((r2_score_svr1)*100).round(decimals=2)"
   ]
  },
  {
   "cell_type": "code",
   "execution_count": 84,
   "metadata": {
    "colab": {
     "base_uri": "https://localhost:8080/",
     "height": 34
    },
    "colab_type": "code",
    "executionInfo": {
     "elapsed": 36074,
     "status": "ok",
     "timestamp": 1593274503367,
     "user": {
      "displayName": "Mariana Moura",
      "photoUrl": "",
      "userId": "09921903782139644629"
     },
     "user_tz": -60
    },
    "id": "B-OJdQA9vToG",
    "outputId": "bba238cd-5d90-40d3-b5e5-d9fc33f13a87"
   },
   "outputs": [
    {
     "data": {
      "text/plain": [
       "0.2545627875391657"
      ]
     },
     "execution_count": 84,
     "metadata": {},
     "output_type": "execute_result"
    }
   ],
   "source": [
    "r2_score_svr1"
   ]
  },
  {
   "cell_type": "code",
   "execution_count": 85,
   "metadata": {
    "colab": {
     "base_uri": "https://localhost:8080/",
     "height": 721
    },
    "colab_type": "code",
    "executionInfo": {
     "elapsed": 36897,
     "status": "ok",
     "timestamp": 1593274504230,
     "user": {
      "displayName": "Mariana Moura",
      "photoUrl": "",
      "userId": "09921903782139644629"
     },
     "user_tz": -60
    },
    "id": "r2GDasVfoCSy",
    "outputId": "b370ba09-5f20-4c4c-c2ce-5424d708edad"
   },
   "outputs": [
    {
     "data": {
      "text/html": [
       "<div>\n",
       "<style scoped>\n",
       "    .dataframe tbody tr th:only-of-type {\n",
       "        vertical-align: middle;\n",
       "    }\n",
       "\n",
       "    .dataframe tbody tr th {\n",
       "        vertical-align: top;\n",
       "    }\n",
       "\n",
       "    .dataframe thead th {\n",
       "        text-align: right;\n",
       "    }\n",
       "</style>\n",
       "<table border=\"1\" class=\"dataframe\">\n",
       "  <thead>\n",
       "    <tr style=\"text-align: right;\">\n",
       "      <th></th>\n",
       "      <th>0</th>\n",
       "    </tr>\n",
       "    <tr>\n",
       "      <th>vote_average</th>\n",
       "      <th></th>\n",
       "    </tr>\n",
       "  </thead>\n",
       "  <tbody>\n",
       "    <tr>\n",
       "      <th>5.2</th>\n",
       "      <td>5.722584</td>\n",
       "    </tr>\n",
       "    <tr>\n",
       "      <th>5.7</th>\n",
       "      <td>5.871925</td>\n",
       "    </tr>\n",
       "    <tr>\n",
       "      <th>5.5</th>\n",
       "      <td>5.830108</td>\n",
       "    </tr>\n",
       "    <tr>\n",
       "      <th>6.7</th>\n",
       "      <td>6.346542</td>\n",
       "    </tr>\n",
       "    <tr>\n",
       "      <th>7.4</th>\n",
       "      <td>6.143357</td>\n",
       "    </tr>\n",
       "    <tr>\n",
       "      <th>5.5</th>\n",
       "      <td>6.494644</td>\n",
       "    </tr>\n",
       "    <tr>\n",
       "      <th>6.7</th>\n",
       "      <td>6.899022</td>\n",
       "    </tr>\n",
       "  </tbody>\n",
       "</table>\n",
       "</div>"
      ],
      "text/plain": [
       "                     0\n",
       "vote_average          \n",
       "5.2           5.722584\n",
       "5.7           5.871925\n",
       "5.5           5.830108\n",
       "6.7           6.346542\n",
       "7.4           6.143357\n",
       "5.5           6.494644\n",
       "6.7           6.899022"
      ]
     },
     "execution_count": 85,
     "metadata": {},
     "output_type": "execute_result"
    },
    {
     "data": {
      "image/png": "[encoded data removed]",
      "text/plain": [
       "<Figure size 432x432 with 3 Axes>"
      ]
     },
     "metadata": {
      "needs_background": "light"
     },
     "output_type": "display_data"
    }
   ],
   "source": [
    "# Create a data frame and graphic\n",
    "# for visualization of residual errors\n",
    "residualsSVR1 = y_preds_svr1 - y_test\n",
    "sns.jointplot(y_preds_svr1, residualsSVR1);\n",
    "showSVR = pd.DataFrame(y_preds_svr1,y_test)\n",
    "showSVR.head(7)"
   ]
  },
  {
   "cell_type": "markdown",
   "metadata": {
    "colab_type": "text",
    "id": "Rd12Y1kuoIf8"
   },
   "source": [
    "## Random Forest Regressor"
   ]
  },
  {
   "cell_type": "code",
   "execution_count": 86,
   "metadata": {
    "colab": {},
    "colab_type": "code",
    "executionInfo": {
     "elapsed": 36890,
     "status": "ok",
     "timestamp": 1593274504234,
     "user": {
      "displayName": "Mariana Moura",
      "photoUrl": "",
      "userId": "09921903782139644629"
     },
     "user_tz": -60
    },
    "id": "ptY4wShLoJN7"
   },
   "outputs": [],
   "source": [
    "# Create a copy of the dataset\n",
    "df_rfr1 = df_num.copy()"
   ]
  },
  {
   "cell_type": "code",
   "execution_count": 87,
   "metadata": {
    "colab": {},
    "colab_type": "code",
    "executionInfo": {
     "elapsed": 36884,
     "status": "ok",
     "timestamp": 1593274504238,
     "user": {
      "displayName": "Mariana Moura",
      "photoUrl": "",
      "userId": "09921903782139644629"
     },
     "user_tz": -60
    },
    "id": "bL3n4xhuoLgu"
   },
   "outputs": [],
   "source": [
    "# Split the data into training data (80%) and test data (20%)\n",
    "train_set, test_set = train_test_split(df_rfr1, test_size = 0.2, random_state = seed)\n",
    "\n",
    "X_train = train_set.drop(['vote_average'], axis = 1)\n",
    "y_train = train_set['vote_average']\n",
    "\n",
    "X_test = test_set.drop(['vote_average'], axis = 1)\n",
    "y_test = test_set['vote_average']"
   ]
  },
  {
   "cell_type": "code",
   "execution_count": 88,
   "metadata": {
    "colab": {
     "base_uri": "https://localhost:8080/",
     "height": 51
    },
    "colab_type": "code",
    "executionInfo": {
     "elapsed": 38401,
     "status": "ok",
     "timestamp": 1593274505793,
     "user": {
      "displayName": "Mariana Moura",
      "photoUrl": "",
      "userId": "09921903782139644629"
     },
     "user_tz": -60
    },
    "id": "nZEdLrKcotOM",
    "outputId": "5c0733f4-2fe3-4f14-aba9-99c2e5c25106"
   },
   "outputs": [
    {
     "name": "stdout",
     "output_type": "stream",
     "text": [
      "CPU times: user 1.34 s, sys: 18.9 ms, total: 1.36 s\n",
      "Wall time: 1.36 s\n"
     ]
    }
   ],
   "source": [
    "%%time\n",
    "# Fit the data\n",
    "rfr1 = RandomForestRegressor(random_state = seed).fit(X_train, y_train)\n",
    "\n",
    "# Estimate regression score\n",
    "score_rfr1 = rfr1.score(X_test, y_test)\n",
    "firstRFR = ((score_rfr1)*100).round(decimals=2)"
   ]
  },
  {
   "cell_type": "code",
   "execution_count": 89,
   "metadata": {
    "colab": {
     "base_uri": "https://localhost:8080/",
     "height": 34
    },
    "colab_type": "code",
    "executionInfo": {
     "elapsed": 38369,
     "status": "ok",
     "timestamp": 1593274505797,
     "user": {
      "displayName": "Mariana Moura",
      "photoUrl": "",
      "userId": "09921903782139644629"
     },
     "user_tz": -60
    },
    "id": "opG_56xfv_2A",
    "outputId": "3091b71b-2dc2-4292-b71c-64b17156811e"
   },
   "outputs": [
    {
     "data": {
      "text/plain": [
       "0.5664491132242971"
      ]
     },
     "execution_count": 89,
     "metadata": {},
     "output_type": "execute_result"
    }
   ],
   "source": [
    "score_rfr1"
   ]
  },
  {
   "cell_type": "code",
   "execution_count": 90,
   "metadata": {
    "colab": {
     "base_uri": "https://localhost:8080/",
     "height": 136
    },
    "colab_type": "code",
    "executionInfo": {
     "elapsed": 38312,
     "status": "ok",
     "timestamp": 1593274505800,
     "user": {
      "displayName": "Mariana Moura",
      "photoUrl": "",
      "userId": "09921903782139644629"
     },
     "user_tz": -60
    },
    "id": "puPV-RNgpcUw",
    "outputId": "1ef87b2f-c363-48a9-947c-b75a00b7a4c7"
   },
   "outputs": [
    {
     "data": {
      "text/plain": [
       "vote_count    0.476623\n",
       "runtime       0.158530\n",
       "popularity    0.129420\n",
       "budget        0.091809\n",
       "year          0.089908\n",
       "revenue       0.053709\n",
       "dtype: float64"
      ]
     },
     "execution_count": 90,
     "metadata": {},
     "output_type": "execute_result"
    }
   ],
   "source": [
    "# Determine feature importance\n",
    "feature_imp_rfr1 = pd.Series(rfr1.feature_importances_,index = X_train.columns).sort_values(ascending=False)\n",
    "feature_imp_rfr1"
   ]
  },
  {
   "cell_type": "markdown",
   "metadata": {
    "colab_type": "text",
    "id": "jGot6riOpjkA"
   },
   "source": [
    "## Neural Networks"
   ]
  },
  {
   "cell_type": "code",
   "execution_count": 91,
   "metadata": {
    "colab": {},
    "colab_type": "code",
    "executionInfo": {
     "elapsed": 38306,
     "status": "ok",
     "timestamp": 1593274505802,
     "user": {
      "displayName": "Mariana Moura",
      "photoUrl": "",
      "userId": "09921903782139644629"
     },
     "user_tz": -60
    },
    "id": "nQUmoA0CpkDH"
   },
   "outputs": [],
   "source": [
    "# Create a copy\n",
    "df_nn1 = df_num.copy()"
   ]
  },
  {
   "cell_type": "code",
   "execution_count": 92,
   "metadata": {
    "colab": {},
    "colab_type": "code",
    "executionInfo": {
     "elapsed": 38296,
     "status": "ok",
     "timestamp": 1593274505804,
     "user": {
      "displayName": "Mariana Moura",
      "photoUrl": "",
      "userId": "09921903782139644629"
     },
     "user_tz": -60
    },
    "id": "CtzFc6G-ppeP"
   },
   "outputs": [],
   "source": [
    "# Split the data into training data (80%) and test data (20%)\n",
    "train_set, test_set = train_test_split(df_nn1, test_size = 0.2, random_state = seed)\n",
    "\n",
    "X_train = train_set.drop(['vote_average'], axis = 1)\n",
    "y_train = train_set['vote_average']\n",
    "\n",
    "X_test = test_set.drop(['vote_average'], axis = 1)\n",
    "y_test = test_set['vote_average']"
   ]
  },
  {
   "cell_type": "code",
   "execution_count": 93,
   "metadata": {
    "colab": {},
    "colab_type": "code",
    "executionInfo": {
     "elapsed": 38265,
     "status": "ok",
     "timestamp": 1593274505806,
     "user": {
      "displayName": "Mariana Moura",
      "photoUrl": "",
      "userId": "09921903782139644629"
     },
     "user_tz": -60
    },
    "id": "oqSRdInEpryp"
   },
   "outputs": [],
   "source": [
    "# Normalization of the data\n",
    "zscore = StandardScaler()\n",
    "features_names = X_train.columns\n",
    "\n",
    "X_train = zscore.fit_transform(X_train)\n",
    "X_train = pd.DataFrame(X_train, columns = features_names)\n",
    "\n",
    "X_test = zscore.transform(X_test)\n",
    "X_test = pd.DataFrame(X_test, columns = features_names)"
   ]
  },
  {
   "cell_type": "code",
   "execution_count": 94,
   "metadata": {
    "colab": {
     "base_uri": "https://localhost:8080/",
     "height": 51
    },
    "colab_type": "code",
    "executionInfo": {
     "elapsed": 47120,
     "status": "ok",
     "timestamp": 1593274514699,
     "user": {
      "displayName": "Mariana Moura",
      "photoUrl": "",
      "userId": "09921903782139644629"
     },
     "user_tz": -60
    },
    "id": "NS_etclJp0Cw",
    "outputId": "f38c4c66-b561-4f06-b310-1e1c55aa15e9"
   },
   "outputs": [
    {
     "name": "stdout",
     "output_type": "stream",
     "text": [
      "CPU times: user 29.3 s, sys: 487 ms, total: 29.8 s\n",
      "Wall time: 7.52 s\n"
     ]
    }
   ],
   "source": [
    "%%time\n",
    "# Fit the data\n",
    "nn1 = MLPRegressor(random_state = seed, \n",
    "                   max_iter = 1000).fit(X_train, y_train)\n",
    "# Estimate regression score\n",
    "score_nn1 = nn1.score(X_test, y_test)\n",
    "firstNN = (score_nn1*100).round(decimals=2)               "
   ]
  },
  {
   "cell_type": "code",
   "execution_count": 95,
   "metadata": {
    "colab": {
     "base_uri": "https://localhost:8080/",
     "height": 34
    },
    "colab_type": "code",
    "executionInfo": {
     "elapsed": 47085,
     "status": "ok",
     "timestamp": 1593274514702,
     "user": {
      "displayName": "Mariana Moura",
      "photoUrl": "",
      "userId": "09921903782139644629"
     },
     "user_tz": -60
    },
    "id": "DbWKJX1swmJD",
    "outputId": "6c2615a5-3a80-46dc-fb7f-fbe9ea01f3f3"
   },
   "outputs": [
    {
     "data": {
      "text/plain": [
       "0.3053893489403644"
      ]
     },
     "execution_count": 95,
     "metadata": {},
     "output_type": "execute_result"
    }
   ],
   "source": [
    "score_nn1"
   ]
  },
  {
   "cell_type": "markdown",
   "metadata": {
    "colab_type": "text",
    "id": "Yopi_4cQqvtl"
   },
   "source": [
    "---"
   ]
  },
  {
   "cell_type": "markdown",
   "metadata": {
    "colab_type": "text",
    "id": "bNs4wyOmqwqg"
   },
   "source": [
    "## Results comparison"
   ]
  },
  {
   "cell_type": "code",
   "execution_count": 96,
   "metadata": {
    "colab": {
     "base_uri": "https://localhost:8080/",
     "height": 746
    },
    "colab_type": "code",
    "executionInfo": {
     "elapsed": 784,
     "status": "ok",
     "timestamp": 1593275398131,
     "user": {
      "displayName": "Mariana Moura",
      "photoUrl": "",
      "userId": "09921903782139644629"
     },
     "user_tz": -60
    },
    "id": "RUqA7vC5q1O4",
    "outputId": "cf637a5c-fe4f-4ab0-cc81-f14391cecce6"
   },
   "outputs": [
    {
     "data": {
      "text/html": [
       "<div>\n",
       "<style scoped>\n",
       "    .dataframe tbody tr th:only-of-type {\n",
       "        vertical-align: middle;\n",
       "    }\n",
       "\n",
       "    .dataframe tbody tr th {\n",
       "        vertical-align: top;\n",
       "    }\n",
       "\n",
       "    .dataframe thead th {\n",
       "        text-align: right;\n",
       "    }\n",
       "</style>\n",
       "<table border=\"1\" class=\"dataframe\">\n",
       "  <thead>\n",
       "    <tr style=\"text-align: right;\">\n",
       "      <th>Algorithm</th>\n",
       "      <th>#1</th>\n",
       "    </tr>\n",
       "  </thead>\n",
       "  <tbody>\n",
       "    <tr>\n",
       "      <th>Linear Multiple Regression (LR)</th>\n",
       "      <td>20.31</td>\n",
       "    </tr>\n",
       "    <tr>\n",
       "      <th>Non Linear Multiple Regression (NLR)</th>\n",
       "      <td>24.79</td>\n",
       "    </tr>\n",
       "    <tr>\n",
       "      <th>KNearest Neighbour (KNN)</th>\n",
       "      <td>27.78</td>\n",
       "    </tr>\n",
       "    <tr>\n",
       "      <th>Support Vector Regression (SVR)</th>\n",
       "      <td>25.46</td>\n",
       "    </tr>\n",
       "    <tr>\n",
       "      <th>Random Forest (RF)</th>\n",
       "      <td>56.64</td>\n",
       "    </tr>\n",
       "    <tr>\n",
       "      <th>Neural Networks (NN)</th>\n",
       "      <td>30.54</td>\n",
       "    </tr>\n",
       "  </tbody>\n",
       "</table>\n",
       "</div>"
      ],
      "text/plain": [
       "Algorithm                                #1\n",
       "Linear Multiple Regression (LR)       20.31\n",
       "Non Linear Multiple Regression (NLR)  24.79\n",
       "KNearest Neighbour (KNN)              27.78\n",
       "Support Vector Regression (SVR)       25.46\n",
       "Random Forest (RF)                    56.64\n",
       "Neural Networks (NN)                  30.54"
      ]
     },
     "metadata": {},
     "output_type": "display_data"
    },
    {
     "data": {
      "image/png": "[encoded data removed]",
      "text/plain": [
       "<Figure size 864x576 with 1 Axes>"
      ]
     },
     "metadata": {
      "needs_background": "light"
     },
     "output_type": "display_data"
    }
   ],
   "source": [
    "# Create dataframe\n",
    "results = {'Algorithm': ['#1'],\n",
    "            'Linear Multiple Regression (LR)': [firstMLR],\n",
    "            'Non Linear Multiple Regression (NLR)': [firstNLR],\n",
    "            'KNearest Neighbour (KNN)': [firstKNN],\n",
    "            'Support Vector Regression (SVR)': [firstSVR],\n",
    "            'Random Forest (RF)': [firstRFR],\n",
    "            'Neural Networks (NN)': [firstNN]\n",
    "           }\n",
    "\n",
    "dfr = pd.DataFrame(results, columns = ['Algorithm', \n",
    "                                     'Linear Multiple Regression (LR)',\n",
    "                                     'Non Linear Multiple Regression (NLR)',\n",
    "                                     'KNearest Neighbour (KNN)',\n",
    "                                     'Support Vector Regression (SVR)',\n",
    "                                     'Random Forest (RF)',\n",
    "                                     'Neural Networks (NN)'\n",
    "                                        ])\n",
    "dfr.set_index(\"Algorithm\", inplace=True)\n",
    "\n",
    "# Display table\n",
    "results = dfr.T\n",
    "resultsT = dfr\n",
    "display(results)\n",
    "\n",
    "# Generate graph\n",
    "resultsT.plot(kind=\"bar\", title=(\"Score evolution\"), figsize=(12,8) ,fontsize = 17, grid=True)\n",
    "plt.xlabel('Number of attempts')\n",
    "plt.ylabel('Relative frequency (%)')\n",
    "plt.show();"
   ]
  },
  {
   "cell_type": "markdown",
   "metadata": {
    "colab_type": "text",
    "id": "skHYC8yCw-1F"
   },
   "source": [
    "---"
   ]
  },
  {
   "cell_type": "markdown",
   "metadata": {
    "colab_type": "text",
    "id": "Jo2k69fGxP60"
   },
   "source": [
    "# **Categoric variables**"
   ]
  },
  {
   "cell_type": "code",
   "execution_count": 97,
   "metadata": {
    "colab": {},
    "colab_type": "code",
    "executionInfo": {
     "elapsed": 47674,
     "status": "ok",
     "timestamp": 1593274515340,
     "user": {
      "displayName": "Mariana Moura",
      "photoUrl": "",
      "userId": "09921903782139644629"
     },
     "user_tz": -60
    },
    "id": "uc9zTHMuxRlP"
   },
   "outputs": [],
   "source": [
    "# Load the dataset\n",
    "df = pd.read_csv('tmdb_5000_movies.csv')"
   ]
  },
  {
   "cell_type": "code",
   "execution_count": 98,
   "metadata": {
    "colab": {},
    "colab_type": "code",
    "executionInfo": {
     "elapsed": 47668,
     "status": "ok",
     "timestamp": 1593274515342,
     "user": {
      "displayName": "Mariana Moura",
      "photoUrl": "",
      "userId": "09921903782139644629"
     },
     "user_tz": -60
    },
    "id": "oci5KNSoxZRc"
   },
   "outputs": [],
   "source": [
    "# Split into categorica features\n",
    "dfc = df.select_dtypes(include=['object','category']).copy()"
   ]
  },
  {
   "cell_type": "code",
   "execution_count": 99,
   "metadata": {
    "colab": {
     "base_uri": "https://localhost:8080/",
     "height": 318
    },
    "colab_type": "code",
    "executionInfo": {
     "elapsed": 47628,
     "status": "ok",
     "timestamp": 1593274515345,
     "user": {
      "displayName": "Mariana Moura",
      "photoUrl": "",
      "userId": "09921903782139644629"
     },
     "user_tz": -60
    },
    "id": "62S0jEBuxawF",
    "outputId": "1f53847d-b318-4b65-de85-eaca451510d1"
   },
   "outputs": [
    {
     "data": {
      "text/html": [
       "<div>\n",
       "<style scoped>\n",
       "    .dataframe tbody tr th:only-of-type {\n",
       "        vertical-align: middle;\n",
       "    }\n",
       "\n",
       "    .dataframe tbody tr th {\n",
       "        vertical-align: top;\n",
       "    }\n",
       "\n",
       "    .dataframe thead th {\n",
       "        text-align: right;\n",
       "    }\n",
       "</style>\n",
       "<table border=\"1\" class=\"dataframe\">\n",
       "  <thead>\n",
       "    <tr style=\"text-align: right;\">\n",
       "      <th></th>\n",
       "      <th>genres</th>\n",
       "      <th>homepage</th>\n",
       "      <th>keywords</th>\n",
       "      <th>original_language</th>\n",
       "      <th>original_title</th>\n",
       "      <th>overview</th>\n",
       "      <th>production_companies</th>\n",
       "      <th>production_countries</th>\n",
       "      <th>release_date</th>\n",
       "      <th>spoken_languages</th>\n",
       "      <th>status</th>\n",
       "      <th>tagline</th>\n",
       "      <th>title</th>\n",
       "    </tr>\n",
       "  </thead>\n",
       "  <tbody>\n",
       "    <tr>\n",
       "      <th>0</th>\n",
       "      <td>[{\"id\": 28, \"name\": \"Action\"}, {\"id\": 12, \"nam...</td>\n",
       "      <td>http://www.avatarmovie.com/</td>\n",
       "      <td>[{\"id\": 1463, \"name\": \"culture clash\"}, {\"id\":...</td>\n",
       "      <td>en</td>\n",
       "      <td>Avatar</td>\n",
       "      <td>In the 22nd century, a paraplegic Marine is di...</td>\n",
       "      <td>[{\"name\": \"Ingenious Film Partners\", \"id\": 289...</td>\n",
       "      <td>[{\"iso_3166_1\": \"US\", \"name\": \"United States o...</td>\n",
       "      <td>2009-12-10</td>\n",
       "      <td>[{\"iso_639_1\": \"en\", \"name\": \"English\"}, {\"iso...</td>\n",
       "      <td>Released</td>\n",
       "      <td>Enter the World of Pandora.</td>\n",
       "      <td>Avatar</td>\n",
       "    </tr>\n",
       "    <tr>\n",
       "      <th>1</th>\n",
       "      <td>[{\"id\": 12, \"name\": \"Adventure\"}, {\"id\": 14, \"...</td>\n",
       "      <td>http://disney.go.com/disneypictures/pirates/</td>\n",
       "      <td>[{\"id\": 270, \"name\": \"ocean\"}, {\"id\": 726, \"na...</td>\n",
       "      <td>en</td>\n",
       "      <td>Pirates of the Caribbean: At World's End</td>\n",
       "      <td>Captain Barbossa, long believed to be dead, ha...</td>\n",
       "      <td>[{\"name\": \"Walt Disney Pictures\", \"id\": 2}, {\"...</td>\n",
       "      <td>[{\"iso_3166_1\": \"US\", \"name\": \"United States o...</td>\n",
       "      <td>2007-05-19</td>\n",
       "      <td>[{\"iso_639_1\": \"en\", \"name\": \"English\"}]</td>\n",
       "      <td>Released</td>\n",
       "      <td>At the end of the world, the adventure begins.</td>\n",
       "      <td>Pirates of the Caribbean: At World's End</td>\n",
       "    </tr>\n",
       "  </tbody>\n",
       "</table>\n",
       "</div>"
      ],
      "text/plain": [
       "                                              genres  \\\n",
       "0  [{\"id\": 28, \"name\": \"Action\"}, {\"id\": 12, \"nam...   \n",
       "1  [{\"id\": 12, \"name\": \"Adventure\"}, {\"id\": 14, \"...   \n",
       "\n",
       "                                       homepage  \\\n",
       "0                   http://www.avatarmovie.com/   \n",
       "1  http://disney.go.com/disneypictures/pirates/   \n",
       "\n",
       "                                            keywords original_language  \\\n",
       "0  [{\"id\": 1463, \"name\": \"culture clash\"}, {\"id\":...                en   \n",
       "1  [{\"id\": 270, \"name\": \"ocean\"}, {\"id\": 726, \"na...                en   \n",
       "\n",
       "                             original_title  \\\n",
       "0                                    Avatar   \n",
       "1  Pirates of the Caribbean: At World's End   \n",
       "\n",
       "                                            overview  \\\n",
       "0  In the 22nd century, a paraplegic Marine is di...   \n",
       "1  Captain Barbossa, long believed to be dead, ha...   \n",
       "\n",
       "                                production_companies  \\\n",
       "0  [{\"name\": \"Ingenious Film Partners\", \"id\": 289...   \n",
       "1  [{\"name\": \"Walt Disney Pictures\", \"id\": 2}, {\"...   \n",
       "\n",
       "                                production_countries release_date  \\\n",
       "0  [{\"iso_3166_1\": \"US\", \"name\": \"United States o...   2009-12-10   \n",
       "1  [{\"iso_3166_1\": \"US\", \"name\": \"United States o...   2007-05-19   \n",
       "\n",
       "                                    spoken_languages    status  \\\n",
       "0  [{\"iso_639_1\": \"en\", \"name\": \"English\"}, {\"iso...  Released   \n",
       "1           [{\"iso_639_1\": \"en\", \"name\": \"English\"}]  Released   \n",
       "\n",
       "                                          tagline  \\\n",
       "0                     Enter the World of Pandora.   \n",
       "1  At the end of the world, the adventure begins.   \n",
       "\n",
       "                                      title  \n",
       "0                                    Avatar  \n",
       "1  Pirates of the Caribbean: At World's End  "
      ]
     },
     "execution_count": 99,
     "metadata": {},
     "output_type": "execute_result"
    }
   ],
   "source": [
    "# Print the data\n",
    "dfc.head(2)"
   ]
  },
  {
   "cell_type": "markdown",
   "metadata": {
    "colab_type": "text",
    "id": "nyNpDVDNxf-c"
   },
   "source": [
    "The detection of JSON files in some columns implies the necessity of transformations and preparation of the data."
   ]
  },
  {
   "cell_type": "markdown",
   "metadata": {
    "colab_type": "text",
    "id": "ezn-muq8xyIW"
   },
   "source": [
    "## 'genres'"
   ]
  },
  {
   "cell_type": "code",
   "execution_count": 100,
   "metadata": {
    "colab": {},
    "colab_type": "code",
    "executionInfo": {
     "elapsed": 47836,
     "status": "ok",
     "timestamp": 1593274515562,
     "user": {
      "displayName": "Mariana Moura",
      "photoUrl": "",
      "userId": "09921903782139644629"
     },
     "user_tz": -60
    },
    "id": "h3aK3X0qxd_k"
   },
   "outputs": [],
   "source": [
    "dfc['genres'] = dfc['genres'].apply(json.loads)\n",
    "\n",
    "for index,i in zip(dfc.index, dfc['genres']):\n",
    "    list1=[]\n",
    "    for j in range(len(i)):\n",
    "        list1.append((i[j]['name'])) # the key 'name' contains the name of the genre\n",
    "    dfc.loc[index,'genres']=str(list1)\n",
    "\n",
    "dfc['genres'] = dfc['genres'].str.strip('[]').str.replace(' ','').str.replace(\"'\",'')\n",
    "\n",
    "genres_new = pd.DataFrame(dfc.genres.str.split(',',6).tolist()).add_prefix('genre_')\n",
    "\n",
    "genres_new.fillna(value= 'None', inplace=True)\n",
    "genres_new.replace('', 'None', inplace=True)"
   ]
  },
  {
   "cell_type": "code",
   "execution_count": 101,
   "metadata": {
    "colab": {
     "base_uri": "https://localhost:8080/",
     "height": 111
    },
    "colab_type": "code",
    "executionInfo": {
     "elapsed": 48317,
     "status": "ok",
     "timestamp": 1593274516084,
     "user": {
      "displayName": "Mariana Moura",
      "photoUrl": "",
      "userId": "09921903782139644629"
     },
     "user_tz": -60
    },
    "id": "Zc6cPQ5Gx1F0",
    "outputId": "505384e8-5ef3-4cbe-d60a-4f46406f5429"
   },
   "outputs": [
    {
     "data": {
      "text/html": [
       "<div>\n",
       "<style scoped>\n",
       "    .dataframe tbody tr th:only-of-type {\n",
       "        vertical-align: middle;\n",
       "    }\n",
       "\n",
       "    .dataframe tbody tr th {\n",
       "        vertical-align: top;\n",
       "    }\n",
       "\n",
       "    .dataframe thead th {\n",
       "        text-align: right;\n",
       "    }\n",
       "</style>\n",
       "<table border=\"1\" class=\"dataframe\">\n",
       "  <thead>\n",
       "    <tr style=\"text-align: right;\">\n",
       "      <th></th>\n",
       "      <th>genre_0</th>\n",
       "      <th>genre_1</th>\n",
       "      <th>genre_2</th>\n",
       "      <th>genre_3</th>\n",
       "      <th>genre_4</th>\n",
       "      <th>genre_5</th>\n",
       "      <th>genre_6</th>\n",
       "    </tr>\n",
       "  </thead>\n",
       "  <tbody>\n",
       "    <tr>\n",
       "      <th>0</th>\n",
       "      <td>Action</td>\n",
       "      <td>Adventure</td>\n",
       "      <td>Fantasy</td>\n",
       "      <td>ScienceFiction</td>\n",
       "      <td>None</td>\n",
       "      <td>None</td>\n",
       "      <td>None</td>\n",
       "    </tr>\n",
       "    <tr>\n",
       "      <th>1</th>\n",
       "      <td>Adventure</td>\n",
       "      <td>Fantasy</td>\n",
       "      <td>Action</td>\n",
       "      <td>None</td>\n",
       "      <td>None</td>\n",
       "      <td>None</td>\n",
       "      <td>None</td>\n",
       "    </tr>\n",
       "  </tbody>\n",
       "</table>\n",
       "</div>"
      ],
      "text/plain": [
       "     genre_0    genre_1  genre_2         genre_3 genre_4 genre_5 genre_6\n",
       "0     Action  Adventure  Fantasy  ScienceFiction    None    None    None\n",
       "1  Adventure    Fantasy   Action            None    None    None    None"
      ]
     },
     "execution_count": 101,
     "metadata": {},
     "output_type": "execute_result"
    }
   ],
   "source": [
    "genres_new.head(2)"
   ]
  },
  {
   "cell_type": "code",
   "execution_count": 102,
   "metadata": {
    "colab": {
     "base_uri": "https://localhost:8080/",
     "height": 255
    },
    "colab_type": "code",
    "executionInfo": {
     "elapsed": 759,
     "status": "ok",
     "timestamp": 1593276500563,
     "user": {
      "displayName": "Mariana Moura",
      "photoUrl": "",
      "userId": "09921903782139644629"
     },
     "user_tz": -60
    },
    "id": "mKf0wipMx5Rj",
    "outputId": "bf590ce5-ff22-4051-c466-e1fa3dd325f4"
   },
   "outputs": [
    {
     "name": "stdout",
     "output_type": "stream",
     "text": [
      "genre_0\n",
      "Genre most common: Drama - Percentage: 25.13012700395586\n",
      "genre_1\n",
      "Genre most common: None - Percentage: 19.32125754736623\n",
      "genre_2\n",
      "Genre most common: None - Percentage: 50.34353529044348\n",
      "genre_3\n",
      "Genre most common: None - Percentage: 82.09452425567353\n",
      "genre_4\n",
      "Genre most common: None - Percentage: 95.33624817822195\n",
      "genre_5\n",
      "Genre most common: None - Percentage: 99.2296481365813\n",
      "genre_6\n",
      "Genre most common: None - Percentage: 99.91671871746824\n"
     ]
    }
   ],
   "source": [
    "# Display the percentage of the most common values by esch new column\n",
    "for column in genres_new.columns:\n",
    "  print(column)\n",
    "  count = (genres_new[column].value_counts()/len(genres_new[column]))*100\n",
    "  print(\"Genre most common: {} - Percentage: {}\".format(count.index[0], count.iloc[0]))"
   ]
  },
  {
   "cell_type": "markdown",
   "metadata": {
    "colab_type": "text",
    "id": "zqVaswKOx8P0"
   },
   "source": [
    "Let's consider only the first two columns. From the third column on, the percentage rises above 50%."
   ]
  },
  {
   "cell_type": "code",
   "execution_count": 103,
   "metadata": {
    "colab": {},
    "colab_type": "code",
    "executionInfo": {
     "elapsed": 48280,
     "status": "ok",
     "timestamp": 1593274516088,
     "user": {
      "displayName": "Mariana Moura",
      "photoUrl": "",
      "userId": "09921903782139644629"
     },
     "user_tz": -60
    },
    "id": "Xo0jGvC2x9mH"
   },
   "outputs": [],
   "source": [
    "df_genres = genres_new.drop([\"genre_2\",\"genre_3\",\"genre_4\",\"genre_5\",\"genre_6\"], axis=1)"
   ]
  },
  {
   "cell_type": "code",
   "execution_count": 104,
   "metadata": {
    "colab": {
     "base_uri": "https://localhost:8080/",
     "height": 111
    },
    "colab_type": "code",
    "executionInfo": {
     "elapsed": 48258,
     "status": "ok",
     "timestamp": 1593274516099,
     "user": {
      "displayName": "Mariana Moura",
      "photoUrl": "",
      "userId": "09921903782139644629"
     },
     "user_tz": -60
    },
    "id": "XSVdckaKyJ8y",
    "outputId": "8db89193-be9f-49ec-9efc-7047d27c45d9"
   },
   "outputs": [
    {
     "data": {
      "text/html": [
       "<div>\n",
       "<style scoped>\n",
       "    .dataframe tbody tr th:only-of-type {\n",
       "        vertical-align: middle;\n",
       "    }\n",
       "\n",
       "    .dataframe tbody tr th {\n",
       "        vertical-align: top;\n",
       "    }\n",
       "\n",
       "    .dataframe thead th {\n",
       "        text-align: right;\n",
       "    }\n",
       "</style>\n",
       "<table border=\"1\" class=\"dataframe\">\n",
       "  <thead>\n",
       "    <tr style=\"text-align: right;\">\n",
       "      <th></th>\n",
       "      <th>genre_0</th>\n",
       "      <th>genre_1</th>\n",
       "    </tr>\n",
       "  </thead>\n",
       "  <tbody>\n",
       "    <tr>\n",
       "      <th>0</th>\n",
       "      <td>Action</td>\n",
       "      <td>Adventure</td>\n",
       "    </tr>\n",
       "    <tr>\n",
       "      <th>1</th>\n",
       "      <td>Adventure</td>\n",
       "      <td>Fantasy</td>\n",
       "    </tr>\n",
       "  </tbody>\n",
       "</table>\n",
       "</div>"
      ],
      "text/plain": [
       "     genre_0    genre_1\n",
       "0     Action  Adventure\n",
       "1  Adventure    Fantasy"
      ]
     },
     "execution_count": 104,
     "metadata": {},
     "output_type": "execute_result"
    }
   ],
   "source": [
    "df_genres.head(2)"
   ]
  },
  {
   "cell_type": "markdown",
   "metadata": {
    "colab_type": "text",
    "id": "9oH5uRgNyCc8"
   },
   "source": [
    "## 'keywords'"
   ]
  },
  {
   "cell_type": "code",
   "execution_count": 105,
   "metadata": {
    "colab": {},
    "colab_type": "code",
    "executionInfo": {
     "elapsed": 48977,
     "status": "ok",
     "timestamp": 1593274516828,
     "user": {
      "displayName": "Mariana Moura",
      "photoUrl": "",
      "userId": "09921903782139644629"
     },
     "user_tz": -60
    },
    "id": "c4UEzs1ryBW3"
   },
   "outputs": [],
   "source": [
    "dfc['keywords'] = dfc['keywords'].apply(json.loads)\n",
    "\n",
    "for index,i in zip(dfc.index, dfc['keywords']):\n",
    "    list1=[]\n",
    "    for j in range(len(i)):\n",
    "        list1.append((i[j]['name'])) # the key 'name' contains the name of the genre\n",
    "    dfc.loc[index,'keywords']=str(list1)\n",
    "\n",
    "dfc['keywords'] = dfc['keywords'].str.strip('[]').str.replace(' ','').str.replace(\"'\",'')\n",
    "\n",
    "keywords_new = pd.DataFrame(dfc.keywords.str.split(',',6).tolist()).add_prefix('keywords_')\n",
    "\n",
    "keywords_new.fillna(value= 'None', inplace=True)\n",
    "keywords_new.replace('', 'None', inplace=True)"
   ]
  },
  {
   "cell_type": "code",
   "execution_count": 106,
   "metadata": {
    "colab": {
     "base_uri": "https://localhost:8080/",
     "height": 111
    },
    "colab_type": "code",
    "executionInfo": {
     "elapsed": 48961,
     "status": "ok",
     "timestamp": 1593274516842,
     "user": {
      "displayName": "Mariana Moura",
      "photoUrl": "",
      "userId": "09921903782139644629"
     },
     "user_tz": -60
    },
    "id": "5GV71V9cyOvi",
    "outputId": "386b4140-bd1a-412b-f7b2-b2ff842abcd6"
   },
   "outputs": [
    {
     "data": {
      "text/html": [
       "<div>\n",
       "<style scoped>\n",
       "    .dataframe tbody tr th:only-of-type {\n",
       "        vertical-align: middle;\n",
       "    }\n",
       "\n",
       "    .dataframe tbody tr th {\n",
       "        vertical-align: top;\n",
       "    }\n",
       "\n",
       "    .dataframe thead th {\n",
       "        text-align: right;\n",
       "    }\n",
       "</style>\n",
       "<table border=\"1\" class=\"dataframe\">\n",
       "  <thead>\n",
       "    <tr style=\"text-align: right;\">\n",
       "      <th></th>\n",
       "      <th>keywords_0</th>\n",
       "      <th>keywords_1</th>\n",
       "      <th>keywords_2</th>\n",
       "      <th>keywords_3</th>\n",
       "      <th>keywords_4</th>\n",
       "      <th>keywords_5</th>\n",
       "      <th>keywords_6</th>\n",
       "    </tr>\n",
       "  </thead>\n",
       "  <tbody>\n",
       "    <tr>\n",
       "      <th>0</th>\n",
       "      <td>cultureclash</td>\n",
       "      <td>future</td>\n",
       "      <td>spacewar</td>\n",
       "      <td>spacecolony</td>\n",
       "      <td>society</td>\n",
       "      <td>spacetravel</td>\n",
       "      <td>futuristic,romance,space,alien,tribe,alienplan...</td>\n",
       "    </tr>\n",
       "    <tr>\n",
       "      <th>1</th>\n",
       "      <td>ocean</td>\n",
       "      <td>drugabuse</td>\n",
       "      <td>exoticisland</td>\n",
       "      <td>eastindiatradingcompany</td>\n",
       "      <td>\"loveofoneslife\"</td>\n",
       "      <td>traitor</td>\n",
       "      <td>shipwreck,strongwoman,ship,alliance,calypso,af...</td>\n",
       "    </tr>\n",
       "  </tbody>\n",
       "</table>\n",
       "</div>"
      ],
      "text/plain": [
       "     keywords_0 keywords_1    keywords_2               keywords_3  \\\n",
       "0  cultureclash     future      spacewar              spacecolony   \n",
       "1         ocean  drugabuse  exoticisland  eastindiatradingcompany   \n",
       "\n",
       "         keywords_4   keywords_5  \\\n",
       "0           society  spacetravel   \n",
       "1  \"loveofoneslife\"      traitor   \n",
       "\n",
       "                                          keywords_6  \n",
       "0  futuristic,romance,space,alien,tribe,alienplan...  \n",
       "1  shipwreck,strongwoman,ship,alliance,calypso,af...  "
      ]
     },
     "execution_count": 106,
     "metadata": {},
     "output_type": "execute_result"
    }
   ],
   "source": [
    "keywords_new.head(2)"
   ]
  },
  {
   "cell_type": "code",
   "execution_count": 107,
   "metadata": {
    "colab": {
     "base_uri": "https://localhost:8080/",
     "height": 255
    },
    "colab_type": "code",
    "executionInfo": {
     "elapsed": 961,
     "status": "ok",
     "timestamp": 1593276526567,
     "user": {
      "displayName": "Mariana Moura",
      "photoUrl": "",
      "userId": "09921903782139644629"
     },
     "user_tz": -60
    },
    "id": "a8gWHckdyR_z",
    "outputId": "fa3d2e93-6d98-41f8-adf2-4230bc419e1f"
   },
   "outputs": [
    {
     "name": "stdout",
     "output_type": "stream",
     "text": [
      "keywords_0\n",
      "Keyword mais comum: None - Percentagem: 8.577972100770353\n",
      "keywords_1\n",
      "Keyword mais comum: None - Percentagem: 14.574224443056425\n",
      "keywords_2\n",
      "Keyword mais comum: None - Percentagem: 20.466375182177806\n",
      "keywords_3\n",
      "Keyword mais comum: None - Percentagem: 27.62856547990839\n",
      "keywords_4\n",
      "Keyword mais comum: None - Percentagem: 35.64438892358942\n",
      "keywords_5\n",
      "Keyword mais comum: None - Percentagem: 45.20091609410785\n",
      "keywords_6\n",
      "Keyword mais comum: None - Percentagem: 53.19591921715594\n"
     ]
    }
   ],
   "source": [
    "for column in keywords_new.columns:\n",
    "  print(column)\n",
    "  count = (keywords_new[column].value_counts()/len(keywords_new[column]))*100\n",
    "  print(\"Keyword mais comum: {} - Percentagem: {}\".format(count.index[0], count.iloc[0]))"
   ]
  },
  {
   "cell_type": "code",
   "execution_count": 108,
   "metadata": {
    "colab": {
     "base_uri": "https://localhost:8080/",
     "height": 34
    },
    "colab_type": "code",
    "executionInfo": {
     "elapsed": 48903,
     "status": "ok",
     "timestamp": 1593274516846,
     "user": {
      "displayName": "Mariana Moura",
      "photoUrl": "",
      "userId": "09921903782139644629"
     },
     "user_tz": -60
    },
    "id": "UDod2Gx5yUiM",
    "outputId": "6493afbe-d3dd-4ab9-c881-6485fb093fd1"
   },
   "outputs": [
    {
     "data": {
      "text/plain": [
       "1352"
      ]
     },
     "execution_count": 108,
     "metadata": {},
     "output_type": "execute_result"
    }
   ],
   "source": [
    "keywords_new.keywords_0.nunique()"
   ]
  },
  {
   "cell_type": "markdown",
   "metadata": {
    "colab_type": "text",
    "id": "zacKi-kfyWQU"
   },
   "source": [
    "Given the nature of the variable in which we find 1352 different and unique words, we will not consider it."
   ]
  },
  {
   "cell_type": "markdown",
   "metadata": {
    "colab_type": "text",
    "id": "99d9P0huyaeU"
   },
   "source": [
    "## 'production_companies'"
   ]
  },
  {
   "cell_type": "code",
   "execution_count": 109,
   "metadata": {
    "colab": {},
    "colab_type": "code",
    "executionInfo": {
     "elapsed": 49924,
     "status": "ok",
     "timestamp": 1593274517878,
     "user": {
      "displayName": "Mariana Moura",
      "photoUrl": "",
      "userId": "09921903782139644629"
     },
     "user_tz": -60
    },
    "id": "w8BJA62lyYfi"
   },
   "outputs": [],
   "source": [
    "dfc['production_companies'] = dfc['production_companies'].apply(json.loads)\n",
    "\n",
    "for index,i in zip(dfc.index, dfc['production_companies']):\n",
    "    list1=[]\n",
    "    for j in range(len(i)):\n",
    "        list1.append((i[j]['name'])) # the key 'name' contains the name of the genre\n",
    "    dfc.loc[index,'production_companies']=str(list1)\n",
    "\n",
    "dfc['production_companies'] = dfc['production_companies'].str.strip('[]').str.replace(' ','').str.replace(\"'\",'')\n",
    "\n",
    "production_companies_new = pd.DataFrame(dfc.production_companies.str.split(',',6).tolist()).add_prefix('production_companies_')\n",
    "\n",
    "production_companies_new.fillna(value= 'None', inplace=True)\n",
    "production_companies_new.replace('', 'None', inplace=True)"
   ]
  },
  {
   "cell_type": "code",
   "execution_count": 110,
   "metadata": {
    "colab": {
     "base_uri": "https://localhost:8080/",
     "height": 131
    },
    "colab_type": "code",
    "executionInfo": {
     "elapsed": 49896,
     "status": "ok",
     "timestamp": 1593274517882,
     "user": {
      "displayName": "Mariana Moura",
      "photoUrl": "",
      "userId": "09921903782139644629"
     },
     "user_tz": -60
    },
    "id": "BJpN3xv6yfTn",
    "outputId": "b269fc38-c5cf-43e8-b5fa-848595306d7f"
   },
   "outputs": [
    {
     "data": {
      "text/html": [
       "<div>\n",
       "<style scoped>\n",
       "    .dataframe tbody tr th:only-of-type {\n",
       "        vertical-align: middle;\n",
       "    }\n",
       "\n",
       "    .dataframe tbody tr th {\n",
       "        vertical-align: top;\n",
       "    }\n",
       "\n",
       "    .dataframe thead th {\n",
       "        text-align: right;\n",
       "    }\n",
       "</style>\n",
       "<table border=\"1\" class=\"dataframe\">\n",
       "  <thead>\n",
       "    <tr style=\"text-align: right;\">\n",
       "      <th></th>\n",
       "      <th>production_companies_0</th>\n",
       "      <th>production_companies_1</th>\n",
       "      <th>production_companies_2</th>\n",
       "      <th>production_companies_3</th>\n",
       "      <th>production_companies_4</th>\n",
       "      <th>production_companies_5</th>\n",
       "      <th>production_companies_6</th>\n",
       "    </tr>\n",
       "  </thead>\n",
       "  <tbody>\n",
       "    <tr>\n",
       "      <th>0</th>\n",
       "      <td>IngeniousFilmPartners</td>\n",
       "      <td>TwentiethCenturyFoxFilmCorporation</td>\n",
       "      <td>DuneEntertainment</td>\n",
       "      <td>LightstormEntertainment</td>\n",
       "      <td>None</td>\n",
       "      <td>None</td>\n",
       "      <td>None</td>\n",
       "    </tr>\n",
       "    <tr>\n",
       "      <th>1</th>\n",
       "      <td>WaltDisneyPictures</td>\n",
       "      <td>JerryBruckheimerFilms</td>\n",
       "      <td>SecondMateProductions</td>\n",
       "      <td>None</td>\n",
       "      <td>None</td>\n",
       "      <td>None</td>\n",
       "      <td>None</td>\n",
       "    </tr>\n",
       "  </tbody>\n",
       "</table>\n",
       "</div>"
      ],
      "text/plain": [
       "  production_companies_0              production_companies_1  \\\n",
       "0  IngeniousFilmPartners  TwentiethCenturyFoxFilmCorporation   \n",
       "1     WaltDisneyPictures               JerryBruckheimerFilms   \n",
       "\n",
       "  production_companies_2   production_companies_3 production_companies_4  \\\n",
       "0      DuneEntertainment  LightstormEntertainment                   None   \n",
       "1  SecondMateProductions                     None                   None   \n",
       "\n",
       "  production_companies_5 production_companies_6  \n",
       "0                   None                   None  \n",
       "1                   None                   None  "
      ]
     },
     "execution_count": 110,
     "metadata": {},
     "output_type": "execute_result"
    }
   ],
   "source": [
    "production_companies_new.head(2)"
   ]
  },
  {
   "cell_type": "code",
   "execution_count": 111,
   "metadata": {
    "colab": {
     "base_uri": "https://localhost:8080/",
     "height": 255
    },
    "colab_type": "code",
    "executionInfo": {
     "elapsed": 1148,
     "status": "ok",
     "timestamp": 1593276555355,
     "user": {
      "displayName": "Mariana Moura",
      "photoUrl": "",
      "userId": "09921903782139644629"
     },
     "user_tz": -60
    },
    "id": "IxJysDLLyh-L",
    "outputId": "1f100f84-5bab-489c-d21e-620df42aa3d6"
   },
   "outputs": [
    {
     "name": "stdout",
     "output_type": "stream",
     "text": [
      "production_companies_0\n",
      "Production_Company mais comum: None - Percentagem: 7.30793254216115\n",
      "production_companies_1\n",
      "Production_Company mais comum: None - Percentagem: 29.37747241307516\n",
      "production_companies_2\n",
      "Production_Company mais comum: None - Percentagem: 51.42619196335624\n",
      "production_companies_3\n",
      "Production_Company mais comum: None - Percentagem: 70.35186341869665\n",
      "production_companies_4\n",
      "Production_Company mais comum: None - Percentagem: 82.7399541952946\n",
      "production_companies_5\n",
      "Production_Company mais comum: None - Percentagem: 89.29835519467\n",
      "production_companies_6\n",
      "Production_Company mais comum: None - Percentagem: 94.02456797834687\n"
     ]
    }
   ],
   "source": [
    "for column in production_companies_new.columns:\n",
    "  print(column)\n",
    "  count = (production_companies_new[column].value_counts()/len(production_companies_new[column]))*100\n",
    "  print(\"Production_Company mais comum: {} - Percentagem: {}\".format(count.index[0], count.iloc[0]))"
   ]
  },
  {
   "cell_type": "markdown",
   "metadata": {
    "colab_type": "text",
    "id": "CLhcvtuUylIr"
   },
   "source": [
    "Let's consider only the first two columns. From the third column on, the percentage rises above 50%."
   ]
  },
  {
   "cell_type": "code",
   "execution_count": 112,
   "metadata": {
    "colab": {},
    "colab_type": "code",
    "executionInfo": {
     "elapsed": 49860,
     "status": "ok",
     "timestamp": 1593274517891,
     "user": {
      "displayName": "Mariana Moura",
      "photoUrl": "",
      "userId": "09921903782139644629"
     },
     "user_tz": -60
    },
    "id": "03LeF2p1yjqt"
   },
   "outputs": [],
   "source": [
    "df_companies = production_companies_new.drop([\"production_companies_2\",\"production_companies_3\",\"production_companies_4\",\"production_companies_5\",\"production_companies_6\"], axis=1)"
   ]
  },
  {
   "cell_type": "code",
   "execution_count": 113,
   "metadata": {
    "colab": {
     "base_uri": "https://localhost:8080/",
     "height": 111
    },
    "colab_type": "code",
    "executionInfo": {
     "elapsed": 49826,
     "status": "ok",
     "timestamp": 1593274517893,
     "user": {
      "displayName": "Mariana Moura",
      "photoUrl": "",
      "userId": "09921903782139644629"
     },
     "user_tz": -60
    },
    "id": "L5bvcXFuyu5r",
    "outputId": "10b3b92b-7186-4a77-f81a-53b1c1f29310"
   },
   "outputs": [
    {
     "data": {
      "text/html": [
       "<div>\n",
       "<style scoped>\n",
       "    .dataframe tbody tr th:only-of-type {\n",
       "        vertical-align: middle;\n",
       "    }\n",
       "\n",
       "    .dataframe tbody tr th {\n",
       "        vertical-align: top;\n",
       "    }\n",
       "\n",
       "    .dataframe thead th {\n",
       "        text-align: right;\n",
       "    }\n",
       "</style>\n",
       "<table border=\"1\" class=\"dataframe\">\n",
       "  <thead>\n",
       "    <tr style=\"text-align: right;\">\n",
       "      <th></th>\n",
       "      <th>production_companies_0</th>\n",
       "      <th>production_companies_1</th>\n",
       "    </tr>\n",
       "  </thead>\n",
       "  <tbody>\n",
       "    <tr>\n",
       "      <th>0</th>\n",
       "      <td>IngeniousFilmPartners</td>\n",
       "      <td>TwentiethCenturyFoxFilmCorporation</td>\n",
       "    </tr>\n",
       "    <tr>\n",
       "      <th>1</th>\n",
       "      <td>WaltDisneyPictures</td>\n",
       "      <td>JerryBruckheimerFilms</td>\n",
       "    </tr>\n",
       "  </tbody>\n",
       "</table>\n",
       "</div>"
      ],
      "text/plain": [
       "  production_companies_0              production_companies_1\n",
       "0  IngeniousFilmPartners  TwentiethCenturyFoxFilmCorporation\n",
       "1     WaltDisneyPictures               JerryBruckheimerFilms"
      ]
     },
     "execution_count": 113,
     "metadata": {},
     "output_type": "execute_result"
    }
   ],
   "source": [
    "df_companies.head(2)"
   ]
  },
  {
   "cell_type": "markdown",
   "metadata": {
    "colab_type": "text",
    "id": "jTzeepzEyw0O"
   },
   "source": [
    "## 'production_countries'"
   ]
  },
  {
   "cell_type": "code",
   "execution_count": 114,
   "metadata": {
    "colab": {},
    "colab_type": "code",
    "executionInfo": {
     "elapsed": 50846,
     "status": "ok",
     "timestamp": 1593274518921,
     "user": {
      "displayName": "Mariana Moura",
      "photoUrl": "",
      "userId": "09921903782139644629"
     },
     "user_tz": -60
    },
    "id": "na-VskP7yq9k"
   },
   "outputs": [],
   "source": [
    "dfc['production_countries'] = dfc['production_countries'].apply(json.loads)\n",
    "\n",
    "for index,i in zip(dfc.index, dfc['production_countries']):\n",
    "    list1=[]\n",
    "    for j in range(len(i)):\n",
    "        list1.append((i[j]['name'])) # the key 'name' contains the name of the genre\n",
    "    dfc.loc[index,'production_countries']=str(list1)\n",
    "\n",
    "dfc['production_countries'] = dfc['production_countries'].str.strip('[]').str.replace(' ','').str.replace(\"'\",'')\n",
    "\n",
    "production_countries_new = pd.DataFrame(dfc.production_countries.str.split(',',6).tolist()).add_prefix('production_countries_')\n",
    "\n",
    "production_countries_new.fillna(value= 'None', inplace=True)\n",
    "production_countries_new.replace('', 'None', inplace=True)"
   ]
  },
  {
   "cell_type": "code",
   "execution_count": 115,
   "metadata": {
    "colab": {
     "base_uri": "https://localhost:8080/",
     "height": 131
    },
    "colab_type": "code",
    "executionInfo": {
     "elapsed": 50818,
     "status": "ok",
     "timestamp": 1593274518923,
     "user": {
      "displayName": "Mariana Moura",
      "photoUrl": "",
      "userId": "09921903782139644629"
     },
     "user_tz": -60
    },
    "id": "EWOmmr5ry3Aa",
    "outputId": "4796bb03-a5af-4958-dd5d-81c6b24e25f9"
   },
   "outputs": [
    {
     "data": {
      "text/html": [
       "<div>\n",
       "<style scoped>\n",
       "    .dataframe tbody tr th:only-of-type {\n",
       "        vertical-align: middle;\n",
       "    }\n",
       "\n",
       "    .dataframe tbody tr th {\n",
       "        vertical-align: top;\n",
       "    }\n",
       "\n",
       "    .dataframe thead th {\n",
       "        text-align: right;\n",
       "    }\n",
       "</style>\n",
       "<table border=\"1\" class=\"dataframe\">\n",
       "  <thead>\n",
       "    <tr style=\"text-align: right;\">\n",
       "      <th></th>\n",
       "      <th>production_countries_0</th>\n",
       "      <th>production_countries_1</th>\n",
       "      <th>production_countries_2</th>\n",
       "      <th>production_countries_3</th>\n",
       "      <th>production_countries_4</th>\n",
       "      <th>production_countries_5</th>\n",
       "      <th>production_countries_6</th>\n",
       "    </tr>\n",
       "  </thead>\n",
       "  <tbody>\n",
       "    <tr>\n",
       "      <th>0</th>\n",
       "      <td>UnitedStatesofAmerica</td>\n",
       "      <td>UnitedKingdom</td>\n",
       "      <td>None</td>\n",
       "      <td>None</td>\n",
       "      <td>None</td>\n",
       "      <td>None</td>\n",
       "      <td>None</td>\n",
       "    </tr>\n",
       "    <tr>\n",
       "      <th>1</th>\n",
       "      <td>UnitedStatesofAmerica</td>\n",
       "      <td>None</td>\n",
       "      <td>None</td>\n",
       "      <td>None</td>\n",
       "      <td>None</td>\n",
       "      <td>None</td>\n",
       "      <td>None</td>\n",
       "    </tr>\n",
       "  </tbody>\n",
       "</table>\n",
       "</div>"
      ],
      "text/plain": [
       "  production_countries_0 production_countries_1 production_countries_2  \\\n",
       "0  UnitedStatesofAmerica          UnitedKingdom                   None   \n",
       "1  UnitedStatesofAmerica                   None                   None   \n",
       "\n",
       "  production_countries_3 production_countries_4 production_countries_5  \\\n",
       "0                   None                   None                   None   \n",
       "1                   None                   None                   None   \n",
       "\n",
       "  production_countries_6  \n",
       "0                   None  \n",
       "1                   None  "
      ]
     },
     "execution_count": 115,
     "metadata": {},
     "output_type": "execute_result"
    }
   ],
   "source": [
    "production_countries_new.head(2)"
   ]
  },
  {
   "cell_type": "code",
   "execution_count": 116,
   "metadata": {
    "colab": {
     "base_uri": "https://localhost:8080/",
     "height": 255
    },
    "colab_type": "code",
    "executionInfo": {
     "elapsed": 635,
     "status": "ok",
     "timestamp": 1593276568111,
     "user": {
      "displayName": "Mariana Moura",
      "photoUrl": "",
      "userId": "09921903782139644629"
     },
     "user_tz": -60
    },
    "id": "KVIyJ4_1y4ac",
    "outputId": "e8b5a8be-a55c-4674-a030-716d5ce5e9b3"
   },
   "outputs": [
    {
     "name": "stdout",
     "output_type": "stream",
     "text": [
      "production_countries_0\n",
      "Production_Country mais comum: UnitedStatesofAmerica - Percentagem: 64.58463460337289\n",
      "production_countries_1\n",
      "Production_Country mais comum: None - Percentagem: 74.05788049135957\n",
      "production_countries_2\n",
      "Production_Country mais comum: None - Percentagem: 91.7759733499896\n",
      "production_countries_3\n",
      "Production_Country mais comum: None - Percentagem: 97.50156152404747\n",
      "production_countries_4\n",
      "Production_Country mais comum: None - Percentagem: 99.43785134291068\n",
      "production_countries_5\n",
      "Production_Country mais comum: None - Percentagem: 99.85425775556944\n",
      "production_countries_6\n",
      "Production_Country mais comum: None - Percentagem: 99.89589839683532\n"
     ]
    }
   ],
   "source": [
    "for column in production_countries_new.columns:\n",
    "  print(column)\n",
    "  count = (production_countries_new[column].value_counts()/len(production_countries_new[column]))*100\n",
    "  print(\"Production_Country mais comum: {} - Percentagem: {}\".format(count.index[0], count.iloc[0]))"
   ]
  },
  {
   "cell_type": "markdown",
   "metadata": {
    "colab_type": "text",
    "id": "MvrTvx5ry8Hy"
   },
   "source": [
    "Let's consider only the first column. From the second column on, the percentage rises above 74%."
   ]
  },
  {
   "cell_type": "code",
   "execution_count": 117,
   "metadata": {
    "colab": {},
    "colab_type": "code",
    "executionInfo": {
     "elapsed": 50778,
     "status": "ok",
     "timestamp": 1593274518928,
     "user": {
      "displayName": "Mariana Moura",
      "photoUrl": "",
      "userId": "09921903782139644629"
     },
     "user_tz": -60
    },
    "id": "8XryH3bwy526"
   },
   "outputs": [],
   "source": [
    "df_countries = production_countries_new.drop([\"production_countries_1\", \"production_countries_2\",\"production_countries_3\",\"production_countries_4\",\"production_countries_5\",\"production_countries_6\"], axis=1)"
   ]
  },
  {
   "cell_type": "code",
   "execution_count": 118,
   "metadata": {
    "colab": {
     "base_uri": "https://localhost:8080/",
     "height": 111
    },
    "colab_type": "code",
    "executionInfo": {
     "elapsed": 50746,
     "status": "ok",
     "timestamp": 1593274518929,
     "user": {
      "displayName": "Mariana Moura",
      "photoUrl": "",
      "userId": "09921903782139644629"
     },
     "user_tz": -60
    },
    "id": "9R2BvxxGzBGR",
    "outputId": "24f89c8a-9651-4b1b-e05c-7a6a86cc3c9f"
   },
   "outputs": [
    {
     "data": {
      "text/html": [
       "<div>\n",
       "<style scoped>\n",
       "    .dataframe tbody tr th:only-of-type {\n",
       "        vertical-align: middle;\n",
       "    }\n",
       "\n",
       "    .dataframe tbody tr th {\n",
       "        vertical-align: top;\n",
       "    }\n",
       "\n",
       "    .dataframe thead th {\n",
       "        text-align: right;\n",
       "    }\n",
       "</style>\n",
       "<table border=\"1\" class=\"dataframe\">\n",
       "  <thead>\n",
       "    <tr style=\"text-align: right;\">\n",
       "      <th></th>\n",
       "      <th>production_countries_0</th>\n",
       "    </tr>\n",
       "  </thead>\n",
       "  <tbody>\n",
       "    <tr>\n",
       "      <th>0</th>\n",
       "      <td>UnitedStatesofAmerica</td>\n",
       "    </tr>\n",
       "    <tr>\n",
       "      <th>1</th>\n",
       "      <td>UnitedStatesofAmerica</td>\n",
       "    </tr>\n",
       "  </tbody>\n",
       "</table>\n",
       "</div>"
      ],
      "text/plain": [
       "  production_countries_0\n",
       "0  UnitedStatesofAmerica\n",
       "1  UnitedStatesofAmerica"
      ]
     },
     "execution_count": 118,
     "metadata": {},
     "output_type": "execute_result"
    }
   ],
   "source": [
    "df_countries.head(2)"
   ]
  },
  {
   "cell_type": "markdown",
   "metadata": {
    "colab_type": "text",
    "id": "yKNo_MRSzCsl"
   },
   "source": [
    "## 'spoken_language'"
   ]
  },
  {
   "cell_type": "code",
   "execution_count": 119,
   "metadata": {
    "colab": {},
    "colab_type": "code",
    "executionInfo": {
     "elapsed": 51471,
     "status": "ok",
     "timestamp": 1593274519666,
     "user": {
      "displayName": "Mariana Moura",
      "photoUrl": "",
      "userId": "09921903782139644629"
     },
     "user_tz": -60
    },
    "id": "dnTjc3d8zFIm"
   },
   "outputs": [],
   "source": [
    "dfc['spoken_languages'] = dfc['spoken_languages'].apply(json.loads)\n",
    "\n",
    "for index,i in zip(dfc.index, dfc['spoken_languages']):\n",
    "    list1=[]\n",
    "    for j in range(len(i)):\n",
    "        list1.append((i[j]['name'])) # the key 'name' contains the name of the genre\n",
    "    dfc.loc[index,'spoken_languages']=str(list1)\n",
    "\n",
    "dfc['spoken_languages'] = dfc['spoken_languages'].str.strip('[]').str.replace(' ','').str.replace(\"'\",'')\n",
    "\n",
    "spoken_languages_new = pd.DataFrame(dfc.spoken_languages.str.split(',',6).tolist()).add_prefix('spoken_languages_')\n",
    "\n",
    "spoken_languages_new.fillna(value= 'None', inplace=True)\n",
    "spoken_languages_new.replace('', 'None', inplace=True)"
   ]
  },
  {
   "cell_type": "code",
   "execution_count": 120,
   "metadata": {
    "colab": {
     "base_uri": "https://localhost:8080/",
     "height": 111
    },
    "colab_type": "code",
    "executionInfo": {
     "elapsed": 51448,
     "status": "ok",
     "timestamp": 1593274519671,
     "user": {
      "displayName": "Mariana Moura",
      "photoUrl": "",
      "userId": "09921903782139644629"
     },
     "user_tz": -60
    },
    "id": "79Blzw_UzHCF",
    "outputId": "2517f295-cda1-4ec7-8f05-dc0d8f3f0b15"
   },
   "outputs": [
    {
     "data": {
      "text/html": [
       "<div>\n",
       "<style scoped>\n",
       "    .dataframe tbody tr th:only-of-type {\n",
       "        vertical-align: middle;\n",
       "    }\n",
       "\n",
       "    .dataframe tbody tr th {\n",
       "        vertical-align: top;\n",
       "    }\n",
       "\n",
       "    .dataframe thead th {\n",
       "        text-align: right;\n",
       "    }\n",
       "</style>\n",
       "<table border=\"1\" class=\"dataframe\">\n",
       "  <thead>\n",
       "    <tr style=\"text-align: right;\">\n",
       "      <th></th>\n",
       "      <th>spoken_languages_0</th>\n",
       "      <th>spoken_languages_1</th>\n",
       "      <th>spoken_languages_2</th>\n",
       "      <th>spoken_languages_3</th>\n",
       "      <th>spoken_languages_4</th>\n",
       "      <th>spoken_languages_5</th>\n",
       "      <th>spoken_languages_6</th>\n",
       "    </tr>\n",
       "  </thead>\n",
       "  <tbody>\n",
       "    <tr>\n",
       "      <th>0</th>\n",
       "      <td>English</td>\n",
       "      <td>Español</td>\n",
       "      <td>None</td>\n",
       "      <td>None</td>\n",
       "      <td>None</td>\n",
       "      <td>None</td>\n",
       "      <td>None</td>\n",
       "    </tr>\n",
       "    <tr>\n",
       "      <th>1</th>\n",
       "      <td>English</td>\n",
       "      <td>None</td>\n",
       "      <td>None</td>\n",
       "      <td>None</td>\n",
       "      <td>None</td>\n",
       "      <td>None</td>\n",
       "      <td>None</td>\n",
       "    </tr>\n",
       "  </tbody>\n",
       "</table>\n",
       "</div>"
      ],
      "text/plain": [
       "  spoken_languages_0 spoken_languages_1 spoken_languages_2 spoken_languages_3  \\\n",
       "0            English            Español               None               None   \n",
       "1            English               None               None               None   \n",
       "\n",
       "  spoken_languages_4 spoken_languages_5 spoken_languages_6  \n",
       "0               None               None               None  \n",
       "1               None               None               None  "
      ]
     },
     "execution_count": 120,
     "metadata": {},
     "output_type": "execute_result"
    }
   ],
   "source": [
    "spoken_languages_new.head(2)"
   ]
  },
  {
   "cell_type": "code",
   "execution_count": 121,
   "metadata": {
    "colab": {
     "base_uri": "https://localhost:8080/",
     "height": 255
    },
    "colab_type": "code",
    "executionInfo": {
     "elapsed": 648,
     "status": "ok",
     "timestamp": 1593276584970,
     "user": {
      "displayName": "Mariana Moura",
      "photoUrl": "",
      "userId": "09921903782139644629"
     },
     "user_tz": -60
    },
    "id": "3jxV9kq1zSqD",
    "outputId": "87a0595f-0436-472d-a8cb-fbb428cc572d"
   },
   "outputs": [
    {
     "name": "stdout",
     "output_type": "stream",
     "text": [
      "spoken_languages_0\n",
      "Spoken_Language mais comum: English - Percentagem: 85.40495523631064\n",
      "spoken_languages_1\n",
      "Spoken_Language mais comum: None - Percentagem: 71.97584842806579\n",
      "spoken_languages_2\n",
      "Spoken_Language mais comum: None - Percentagem: 89.4649177597335\n",
      "spoken_languages_3\n",
      "Spoken_Language mais comum: None - Percentagem: 95.66937330834895\n",
      "spoken_languages_4\n",
      "Spoken_Language mais comum: None - Percentagem: 98.3968353112638\n",
      "spoken_languages_5\n",
      "Spoken_Language mais comum: None - Percentagem: 99.43785134291068\n",
      "spoken_languages_6\n",
      "Spoken_Language mais comum: None - Percentagem: 99.79179679367061\n"
     ]
    }
   ],
   "source": [
    "for column in spoken_languages_new.columns:\n",
    "  print(column)\n",
    "  count = (spoken_languages_new[column].value_counts()/len(spoken_languages_new[column]))*100\n",
    "  print(\"Spoken_Language mais comum: {} - Percentagem: {}\".format(count.index[0], count.iloc[0]))"
   ]
  },
  {
   "cell_type": "markdown",
   "metadata": {
    "colab_type": "text",
    "id": "gWSm4eVqzLP8"
   },
   "source": [
    "Considering only the first column, we found 'English' in about 85% of the observations. The variable is to be abandoned."
   ]
  },
  {
   "cell_type": "markdown",
   "metadata": {
    "colab_type": "text",
    "id": "y8CkyrlrzXHy"
   },
   "source": [
    "## Verifying the output of the encoding (OHE and Binary) in the variables considered above."
   ]
  },
  {
   "cell_type": "code",
   "execution_count": 122,
   "metadata": {
    "colab": {
     "base_uri": "https://localhost:8080/",
     "height": 170
    },
    "colab_type": "code",
    "executionInfo": {
     "elapsed": 51886,
     "status": "ok",
     "timestamp": 1593274520200,
     "user": {
      "displayName": "Mariana Moura",
      "photoUrl": "",
      "userId": "09921903782139644629"
     },
     "user_tz": -60
    },
    "id": "olx4QCCmzPfO",
    "outputId": "49282141-f156-4160-ac46-61779e8179f8"
   },
   "outputs": [
    {
     "name": "stdout",
     "output_type": "stream",
     "text": [
      "** COLUMNS OHE **\n",
      "genres: 41 <---\n",
      "prod_comp: 2918\n",
      "prod_count: 71 <---\n",
      "\n",
      "** COLUMNS BINARY **\n",
      "genres: 12\n",
      "prod_comp: 24 <---\n",
      "prod_count: 8\n"
     ]
    }
   ],
   "source": [
    "#genres\n",
    "\n",
    "g_ohe = pd.get_dummies(df_genres)\n",
    "binary_encoder_genres = BinaryEncoder()\n",
    "g_bin = binary_encoder_genres.fit_transform(df_genres)\n",
    "\n",
    "#Production Companies\n",
    "\n",
    "comp_ohe = pd.get_dummies(df_companies)\n",
    "binary_encoder_companies = BinaryEncoder()\n",
    "comp_bin = binary_encoder_companies.fit_transform(df_companies)\n",
    "\n",
    "#Production Countries\n",
    "\n",
    "count_ohe = pd.get_dummies(df_countries)\n",
    "binary_encoder_count = BinaryEncoder()\n",
    "count_bin = binary_encoder_count.fit_transform(df_countries)\n",
    "\n",
    "print(f'''** COLUMNS OHE **\n",
    "genres: {g_ohe.shape[1]} <---\n",
    "prod_comp: {comp_ohe.shape[1]}\n",
    "prod_count: {count_ohe.shape[1]} <---''')\n",
    "print(\"\")\n",
    "print(f'''** COLUMNS BINARY **\n",
    "genres: {g_bin.shape[1]}\n",
    "prod_comp: {comp_bin.shape[1]} <---\n",
    "prod_count: {count_bin.shape[1]}''')"
   ]
  },
  {
   "cell_type": "markdown",
   "metadata": {
    "colab_type": "text",
    "id": "nUZFZFkkzipI"
   },
   "source": [
    "## Create concatenated categorical dataframe"
   ]
  },
  {
   "cell_type": "code",
   "execution_count": 123,
   "metadata": {
    "colab": {},
    "colab_type": "code",
    "executionInfo": {
     "elapsed": 51877,
     "status": "ok",
     "timestamp": 1593274520202,
     "user": {
      "displayName": "Mariana Moura",
      "photoUrl": "",
      "userId": "09921903782139644629"
     },
     "user_tz": -60
    },
    "id": "B5jYakmZzsRS"
   },
   "outputs": [],
   "source": [
    "df_cat_concat = pd.concat([g_ohe,comp_bin,count_ohe],axis=1)"
   ]
  },
  {
   "cell_type": "code",
   "execution_count": 124,
   "metadata": {
    "colab": {
     "base_uri": "https://localhost:8080/",
     "height": 253
    },
    "colab_type": "code",
    "executionInfo": {
     "elapsed": 51849,
     "status": "ok",
     "timestamp": 1593274520205,
     "user": {
      "displayName": "Mariana Moura",
      "photoUrl": "",
      "userId": "09921903782139644629"
     },
     "user_tz": -60
    },
    "id": "ljylqPqy0out",
    "outputId": "75c6c26a-3183-4aa4-d02c-ac2d6c501cb2"
   },
   "outputs": [
    {
     "data": {
      "text/html": [
       "<div>\n",
       "<style scoped>\n",
       "    .dataframe tbody tr th:only-of-type {\n",
       "        vertical-align: middle;\n",
       "    }\n",
       "\n",
       "    .dataframe tbody tr th {\n",
       "        vertical-align: top;\n",
       "    }\n",
       "\n",
       "    .dataframe thead th {\n",
       "        text-align: right;\n",
       "    }\n",
       "</style>\n",
       "<table border=\"1\" class=\"dataframe\">\n",
       "  <thead>\n",
       "    <tr style=\"text-align: right;\">\n",
       "      <th></th>\n",
       "      <th>genre_0_Action</th>\n",
       "      <th>genre_0_Adventure</th>\n",
       "      <th>genre_0_Animation</th>\n",
       "      <th>genre_0_Comedy</th>\n",
       "      <th>genre_0_Crime</th>\n",
       "      <th>genre_0_Documentary</th>\n",
       "      <th>genre_0_Drama</th>\n",
       "      <th>genre_0_Family</th>\n",
       "      <th>genre_0_Fantasy</th>\n",
       "      <th>genre_0_Foreign</th>\n",
       "      <th>...</th>\n",
       "      <th>production_countries_0_SouthAfrica</th>\n",
       "      <th>production_countries_0_SouthKorea</th>\n",
       "      <th>production_countries_0_Spain</th>\n",
       "      <th>production_countries_0_Sweden</th>\n",
       "      <th>production_countries_0_Switzerland</th>\n",
       "      <th>production_countries_0_Thailand</th>\n",
       "      <th>production_countries_0_Turkey</th>\n",
       "      <th>production_countries_0_UnitedArabEmirates</th>\n",
       "      <th>production_countries_0_UnitedKingdom</th>\n",
       "      <th>production_countries_0_UnitedStatesofAmerica</th>\n",
       "    </tr>\n",
       "  </thead>\n",
       "  <tbody>\n",
       "    <tr>\n",
       "      <th>0</th>\n",
       "      <td>1</td>\n",
       "      <td>0</td>\n",
       "      <td>0</td>\n",
       "      <td>0</td>\n",
       "      <td>0</td>\n",
       "      <td>0</td>\n",
       "      <td>0</td>\n",
       "      <td>0</td>\n",
       "      <td>0</td>\n",
       "      <td>0</td>\n",
       "      <td>...</td>\n",
       "      <td>0</td>\n",
       "      <td>0</td>\n",
       "      <td>0</td>\n",
       "      <td>0</td>\n",
       "      <td>0</td>\n",
       "      <td>0</td>\n",
       "      <td>0</td>\n",
       "      <td>0</td>\n",
       "      <td>0</td>\n",
       "      <td>1</td>\n",
       "    </tr>\n",
       "    <tr>\n",
       "      <th>1</th>\n",
       "      <td>0</td>\n",
       "      <td>1</td>\n",
       "      <td>0</td>\n",
       "      <td>0</td>\n",
       "      <td>0</td>\n",
       "      <td>0</td>\n",
       "      <td>0</td>\n",
       "      <td>0</td>\n",
       "      <td>0</td>\n",
       "      <td>0</td>\n",
       "      <td>...</td>\n",
       "      <td>0</td>\n",
       "      <td>0</td>\n",
       "      <td>0</td>\n",
       "      <td>0</td>\n",
       "      <td>0</td>\n",
       "      <td>0</td>\n",
       "      <td>0</td>\n",
       "      <td>0</td>\n",
       "      <td>0</td>\n",
       "      <td>1</td>\n",
       "    </tr>\n",
       "    <tr>\n",
       "      <th>2</th>\n",
       "      <td>1</td>\n",
       "      <td>0</td>\n",
       "      <td>0</td>\n",
       "      <td>0</td>\n",
       "      <td>0</td>\n",
       "      <td>0</td>\n",
       "      <td>0</td>\n",
       "      <td>0</td>\n",
       "      <td>0</td>\n",
       "      <td>0</td>\n",
       "      <td>...</td>\n",
       "      <td>0</td>\n",
       "      <td>0</td>\n",
       "      <td>0</td>\n",
       "      <td>0</td>\n",
       "      <td>0</td>\n",
       "      <td>0</td>\n",
       "      <td>0</td>\n",
       "      <td>0</td>\n",
       "      <td>1</td>\n",
       "      <td>0</td>\n",
       "    </tr>\n",
       "    <tr>\n",
       "      <th>3</th>\n",
       "      <td>1</td>\n",
       "      <td>0</td>\n",
       "      <td>0</td>\n",
       "      <td>0</td>\n",
       "      <td>0</td>\n",
       "      <td>0</td>\n",
       "      <td>0</td>\n",
       "      <td>0</td>\n",
       "      <td>0</td>\n",
       "      <td>0</td>\n",
       "      <td>...</td>\n",
       "      <td>0</td>\n",
       "      <td>0</td>\n",
       "      <td>0</td>\n",
       "      <td>0</td>\n",
       "      <td>0</td>\n",
       "      <td>0</td>\n",
       "      <td>0</td>\n",
       "      <td>0</td>\n",
       "      <td>0</td>\n",
       "      <td>1</td>\n",
       "    </tr>\n",
       "    <tr>\n",
       "      <th>4</th>\n",
       "      <td>1</td>\n",
       "      <td>0</td>\n",
       "      <td>0</td>\n",
       "      <td>0</td>\n",
       "      <td>0</td>\n",
       "      <td>0</td>\n",
       "      <td>0</td>\n",
       "      <td>0</td>\n",
       "      <td>0</td>\n",
       "      <td>0</td>\n",
       "      <td>...</td>\n",
       "      <td>0</td>\n",
       "      <td>0</td>\n",
       "      <td>0</td>\n",
       "      <td>0</td>\n",
       "      <td>0</td>\n",
       "      <td>0</td>\n",
       "      <td>0</td>\n",
       "      <td>0</td>\n",
       "      <td>0</td>\n",
       "      <td>1</td>\n",
       "    </tr>\n",
       "  </tbody>\n",
       "</table>\n",
       "<p>5 rows × 136 columns</p>\n",
       "</div>"
      ],
      "text/plain": [
       "   genre_0_Action  genre_0_Adventure  genre_0_Animation  genre_0_Comedy  \\\n",
       "0               1                  0                  0               0   \n",
       "1               0                  1                  0               0   \n",
       "2               1                  0                  0               0   \n",
       "3               1                  0                  0               0   \n",
       "4               1                  0                  0               0   \n",
       "\n",
       "   genre_0_Crime  genre_0_Documentary  genre_0_Drama  genre_0_Family  \\\n",
       "0              0                    0              0               0   \n",
       "1              0                    0              0               0   \n",
       "2              0                    0              0               0   \n",
       "3              0                    0              0               0   \n",
       "4              0                    0              0               0   \n",
       "\n",
       "   genre_0_Fantasy  genre_0_Foreign  ...  production_countries_0_SouthAfrica  \\\n",
       "0                0                0  ...                                   0   \n",
       "1                0                0  ...                                   0   \n",
       "2                0                0  ...                                   0   \n",
       "3                0                0  ...                                   0   \n",
       "4                0                0  ...                                   0   \n",
       "\n",
       "   production_countries_0_SouthKorea  production_countries_0_Spain  \\\n",
       "0                                  0                             0   \n",
       "1                                  0                             0   \n",
       "2                                  0                             0   \n",
       "3                                  0                             0   \n",
       "4                                  0                             0   \n",
       "\n",
       "   production_countries_0_Sweden  production_countries_0_Switzerland  \\\n",
       "0                              0                                   0   \n",
       "1                              0                                   0   \n",
       "2                              0                                   0   \n",
       "3                              0                                   0   \n",
       "4                              0                                   0   \n",
       "\n",
       "   production_countries_0_Thailand  production_countries_0_Turkey  \\\n",
       "0                                0                              0   \n",
       "1                                0                              0   \n",
       "2                                0                              0   \n",
       "3                                0                              0   \n",
       "4                                0                              0   \n",
       "\n",
       "   production_countries_0_UnitedArabEmirates  \\\n",
       "0                                          0   \n",
       "1                                          0   \n",
       "2                                          0   \n",
       "3                                          0   \n",
       "4                                          0   \n",
       "\n",
       "   production_countries_0_UnitedKingdom  \\\n",
       "0                                     0   \n",
       "1                                     0   \n",
       "2                                     1   \n",
       "3                                     0   \n",
       "4                                     0   \n",
       "\n",
       "   production_countries_0_UnitedStatesofAmerica  \n",
       "0                                             1  \n",
       "1                                             1  \n",
       "2                                             0  \n",
       "3                                             1  \n",
       "4                                             1  \n",
       "\n",
       "[5 rows x 136 columns]"
      ]
     },
     "execution_count": 124,
     "metadata": {},
     "output_type": "execute_result"
    }
   ],
   "source": [
    "df_cat_concat.head(5)"
   ]
  },
  {
   "cell_type": "code",
   "execution_count": 125,
   "metadata": {
    "colab": {},
    "colab_type": "code",
    "executionInfo": {
     "elapsed": 51841,
     "status": "ok",
     "timestamp": 1593274520207,
     "user": {
      "displayName": "Mariana Moura",
      "photoUrl": "",
      "userId": "09921903782139644629"
     },
     "user_tz": -60
    },
    "id": "DLxTOV440uzV"
   },
   "outputs": [],
   "source": [
    "# Preparing dataset to check variables' correlations\n",
    "X_cat = df_cat_concat\n",
    "y_cat = df.vote_average"
   ]
  },
  {
   "cell_type": "code",
   "execution_count": 126,
   "metadata": {
    "colab": {
     "base_uri": "https://localhost:8080/",
     "height": 473
    },
    "colab_type": "code",
    "executionInfo": {
     "elapsed": 51811,
     "status": "ok",
     "timestamp": 1593274520210,
     "user": {
      "displayName": "Mariana Moura",
      "photoUrl": "",
      "userId": "09921903782139644629"
     },
     "user_tz": -60
    },
    "id": "ds49vr9E01r_",
    "outputId": "35ae4c63-8b72-46ed-8201-256569043c24"
   },
   "outputs": [
    {
     "name": "stderr",
     "output_type": "stream",
     "text": [
      "/Users/GGG/opt/anaconda3/lib/python3.7/site-packages/scipy/stats/stats.py:3508: PearsonRConstantInputWarning: An input array is constant; the correlation coefficent is not defined.\n",
      "  warnings.warn(PearsonRConstantInputWarning())\n"
     ]
    },
    {
     "data": {
      "text/html": [
       "<div>\n",
       "<style scoped>\n",
       "    .dataframe tbody tr th:only-of-type {\n",
       "        vertical-align: middle;\n",
       "    }\n",
       "\n",
       "    .dataframe tbody tr th {\n",
       "        vertical-align: top;\n",
       "    }\n",
       "\n",
       "    .dataframe thead th {\n",
       "        text-align: right;\n",
       "    }\n",
       "</style>\n",
       "<table border=\"1\" class=\"dataframe\">\n",
       "  <thead>\n",
       "    <tr style=\"text-align: right;\">\n",
       "      <th></th>\n",
       "      <th>Pearson Corr.</th>\n",
       "      <th>p-value</th>\n",
       "    </tr>\n",
       "  </thead>\n",
       "  <tbody>\n",
       "    <tr>\n",
       "      <th>production_countries_0_Philippines</th>\n",
       "      <td>0.00</td>\n",
       "      <td>0.99</td>\n",
       "    </tr>\n",
       "    <tr>\n",
       "      <th>production_countries_0_Panama</th>\n",
       "      <td>0.00</td>\n",
       "      <td>0.99</td>\n",
       "    </tr>\n",
       "    <tr>\n",
       "      <th>production_countries_0_CzechRepublic</th>\n",
       "      <td>-0.00</td>\n",
       "      <td>0.96</td>\n",
       "    </tr>\n",
       "    <tr>\n",
       "      <th>production_countries_0_HongKong</th>\n",
       "      <td>-0.00</td>\n",
       "      <td>0.94</td>\n",
       "    </tr>\n",
       "    <tr>\n",
       "      <th>production_countries_0_Slovenia</th>\n",
       "      <td>-0.00</td>\n",
       "      <td>0.94</td>\n",
       "    </tr>\n",
       "    <tr>\n",
       "      <th>...</th>\n",
       "      <td>...</td>\n",
       "      <td>...</td>\n",
       "    </tr>\n",
       "    <tr>\n",
       "      <th>production_companies_1_7</th>\n",
       "      <td>0.11</td>\n",
       "      <td>0.00</td>\n",
       "    </tr>\n",
       "    <tr>\n",
       "      <th>production_companies_1_6</th>\n",
       "      <td>0.07</td>\n",
       "      <td>0.00</td>\n",
       "    </tr>\n",
       "    <tr>\n",
       "      <th>genre_0_Action</th>\n",
       "      <td>-0.06</td>\n",
       "      <td>0.00</td>\n",
       "    </tr>\n",
       "    <tr>\n",
       "      <th>production_companies_0_0</th>\n",
       "      <td>NaN</td>\n",
       "      <td>NaN</td>\n",
       "    </tr>\n",
       "    <tr>\n",
       "      <th>production_companies_1_0</th>\n",
       "      <td>NaN</td>\n",
       "      <td>NaN</td>\n",
       "    </tr>\n",
       "  </tbody>\n",
       "</table>\n",
       "<p>136 rows × 2 columns</p>\n",
       "</div>"
      ],
      "text/plain": [
       "                                      Pearson Corr.  p-value\n",
       "production_countries_0_Philippines             0.00     0.99\n",
       "production_countries_0_Panama                  0.00     0.99\n",
       "production_countries_0_CzechRepublic          -0.00     0.96\n",
       "production_countries_0_HongKong               -0.00     0.94\n",
       "production_countries_0_Slovenia               -0.00     0.94\n",
       "...                                             ...      ...\n",
       "production_companies_1_7                       0.11     0.00\n",
       "production_companies_1_6                       0.07     0.00\n",
       "genre_0_Action                                -0.06     0.00\n",
       "production_companies_0_0                        NaN      NaN\n",
       "production_companies_1_0                        NaN      NaN\n",
       "\n",
       "[136 rows x 2 columns]"
      ]
     },
     "metadata": {},
     "output_type": "display_data"
    }
   ],
   "source": [
    "# Correlations of the encoded_category (PEARSON)\n",
    "dataframe = pd.DataFrame(\n",
    "    [scipy.stats.pearsonr(X_cat[col], y_cat) for col in X_cat.columns],\n",
    "    columns=[\"Pearson Corr.\", \"p-value\"],\n",
    "    index=X_cat.columns,\n",
    ").round(2).sort_values(by=\"p-value\", ascending=False)\n",
    "\n",
    "display(dataframe)"
   ]
  },
  {
   "cell_type": "code",
   "execution_count": 127,
   "metadata": {
    "colab": {},
    "colab_type": "code",
    "executionInfo": {
     "elapsed": 51804,
     "status": "ok",
     "timestamp": 1593274520211,
     "user": {
      "displayName": "Mariana Moura",
      "photoUrl": "",
      "userId": "09921903782139644629"
     },
     "user_tz": -60
    },
    "id": "CEi-t6Nt0_Zu"
   },
   "outputs": [],
   "source": [
    "# Identify columns with p-value > 0.05\n",
    "column = []\n",
    "\n",
    "for item in dataframe.index:\n",
    "\n",
    "    if dataframe['p-value'][item] > 0.05 or dataframe['p-value'][item] == 'NaN':\n",
    "        \n",
    "        column.append(item)"
   ]
  },
  {
   "cell_type": "code",
   "execution_count": 128,
   "metadata": {
    "colab": {},
    "colab_type": "code",
    "executionInfo": {
     "elapsed": 51793,
     "status": "ok",
     "timestamp": 1593274520212,
     "user": {
      "displayName": "Mariana Moura",
      "photoUrl": "",
      "userId": "09921903782139644629"
     },
     "user_tz": -60
    },
    "id": "UCpaDg1x1HBd"
   },
   "outputs": [],
   "source": [
    "# Remove the statistically non-significant columns\n",
    "df_cat = df_cat_concat.drop(column, axis=1)"
   ]
  },
  {
   "cell_type": "code",
   "execution_count": 129,
   "metadata": {
    "colab": {
     "base_uri": "https://localhost:8080/",
     "height": 162
    },
    "colab_type": "code",
    "executionInfo": {
     "elapsed": 51762,
     "status": "ok",
     "timestamp": 1593274520213,
     "user": {
      "displayName": "Mariana Moura",
      "photoUrl": "",
      "userId": "09921903782139644629"
     },
     "user_tz": -60
    },
    "id": "g29IH3At1PS0",
    "outputId": "dc476492-9d42-448c-e6c2-5d91f226e4b8"
   },
   "outputs": [
    {
     "data": {
      "text/html": [
       "<div>\n",
       "<style scoped>\n",
       "    .dataframe tbody tr th:only-of-type {\n",
       "        vertical-align: middle;\n",
       "    }\n",
       "\n",
       "    .dataframe tbody tr th {\n",
       "        vertical-align: top;\n",
       "    }\n",
       "\n",
       "    .dataframe thead th {\n",
       "        text-align: right;\n",
       "    }\n",
       "</style>\n",
       "<table border=\"1\" class=\"dataframe\">\n",
       "  <thead>\n",
       "    <tr style=\"text-align: right;\">\n",
       "      <th></th>\n",
       "      <th>genre_0_Action</th>\n",
       "      <th>genre_0_Adventure</th>\n",
       "      <th>genre_0_Comedy</th>\n",
       "      <th>genre_0_Crime</th>\n",
       "      <th>genre_0_Drama</th>\n",
       "      <th>genre_0_Family</th>\n",
       "      <th>genre_0_History</th>\n",
       "      <th>genre_0_Horror</th>\n",
       "      <th>genre_0_None</th>\n",
       "      <th>genre_0_TVMovie</th>\n",
       "      <th>...</th>\n",
       "      <th>production_countries_0_Japan</th>\n",
       "      <th>production_countries_0_Kenya</th>\n",
       "      <th>production_countries_0_KyrgyzRepublic</th>\n",
       "      <th>production_countries_0_Luxembourg</th>\n",
       "      <th>production_countries_0_Mexico</th>\n",
       "      <th>production_countries_0_NewZealand</th>\n",
       "      <th>production_countries_0_None</th>\n",
       "      <th>production_countries_0_Romania</th>\n",
       "      <th>production_countries_0_SouthKorea</th>\n",
       "      <th>production_countries_0_UnitedKingdom</th>\n",
       "    </tr>\n",
       "  </thead>\n",
       "  <tbody>\n",
       "    <tr>\n",
       "      <th>0</th>\n",
       "      <td>1</td>\n",
       "      <td>0</td>\n",
       "      <td>0</td>\n",
       "      <td>0</td>\n",
       "      <td>0</td>\n",
       "      <td>0</td>\n",
       "      <td>0</td>\n",
       "      <td>0</td>\n",
       "      <td>0</td>\n",
       "      <td>0</td>\n",
       "      <td>...</td>\n",
       "      <td>0</td>\n",
       "      <td>0</td>\n",
       "      <td>0</td>\n",
       "      <td>0</td>\n",
       "      <td>0</td>\n",
       "      <td>0</td>\n",
       "      <td>0</td>\n",
       "      <td>0</td>\n",
       "      <td>0</td>\n",
       "      <td>0</td>\n",
       "    </tr>\n",
       "    <tr>\n",
       "      <th>1</th>\n",
       "      <td>0</td>\n",
       "      <td>1</td>\n",
       "      <td>0</td>\n",
       "      <td>0</td>\n",
       "      <td>0</td>\n",
       "      <td>0</td>\n",
       "      <td>0</td>\n",
       "      <td>0</td>\n",
       "      <td>0</td>\n",
       "      <td>0</td>\n",
       "      <td>...</td>\n",
       "      <td>0</td>\n",
       "      <td>0</td>\n",
       "      <td>0</td>\n",
       "      <td>0</td>\n",
       "      <td>0</td>\n",
       "      <td>0</td>\n",
       "      <td>0</td>\n",
       "      <td>0</td>\n",
       "      <td>0</td>\n",
       "      <td>0</td>\n",
       "    </tr>\n",
       "    <tr>\n",
       "      <th>2</th>\n",
       "      <td>1</td>\n",
       "      <td>0</td>\n",
       "      <td>0</td>\n",
       "      <td>0</td>\n",
       "      <td>0</td>\n",
       "      <td>0</td>\n",
       "      <td>0</td>\n",
       "      <td>0</td>\n",
       "      <td>0</td>\n",
       "      <td>0</td>\n",
       "      <td>...</td>\n",
       "      <td>0</td>\n",
       "      <td>0</td>\n",
       "      <td>0</td>\n",
       "      <td>0</td>\n",
       "      <td>0</td>\n",
       "      <td>0</td>\n",
       "      <td>0</td>\n",
       "      <td>0</td>\n",
       "      <td>0</td>\n",
       "      <td>1</td>\n",
       "    </tr>\n",
       "  </tbody>\n",
       "</table>\n",
       "<p>3 rows × 61 columns</p>\n",
       "</div>"
      ],
      "text/plain": [
       "   genre_0_Action  genre_0_Adventure  genre_0_Comedy  genre_0_Crime  \\\n",
       "0               1                  0               0              0   \n",
       "1               0                  1               0              0   \n",
       "2               1                  0               0              0   \n",
       "\n",
       "   genre_0_Drama  genre_0_Family  genre_0_History  genre_0_Horror  \\\n",
       "0              0               0                0               0   \n",
       "1              0               0                0               0   \n",
       "2              0               0                0               0   \n",
       "\n",
       "   genre_0_None  genre_0_TVMovie  ...  production_countries_0_Japan  \\\n",
       "0             0                0  ...                             0   \n",
       "1             0                0  ...                             0   \n",
       "2             0                0  ...                             0   \n",
       "\n",
       "   production_countries_0_Kenya  production_countries_0_KyrgyzRepublic  \\\n",
       "0                             0                                      0   \n",
       "1                             0                                      0   \n",
       "2                             0                                      0   \n",
       "\n",
       "   production_countries_0_Luxembourg  production_countries_0_Mexico  \\\n",
       "0                                  0                              0   \n",
       "1                                  0                              0   \n",
       "2                                  0                              0   \n",
       "\n",
       "   production_countries_0_NewZealand  production_countries_0_None  \\\n",
       "0                                  0                            0   \n",
       "1                                  0                            0   \n",
       "2                                  0                            0   \n",
       "\n",
       "   production_countries_0_Romania  production_countries_0_SouthKorea  \\\n",
       "0                               0                                  0   \n",
       "1                               0                                  0   \n",
       "2                               0                                  0   \n",
       "\n",
       "   production_countries_0_UnitedKingdom  \n",
       "0                                     0  \n",
       "1                                     0  \n",
       "2                                     1  \n",
       "\n",
       "[3 rows x 61 columns]"
      ]
     },
     "execution_count": 129,
     "metadata": {},
     "output_type": "execute_result"
    }
   ],
   "source": [
    "df_cat.head(3)"
   ]
  },
  {
   "cell_type": "code",
   "execution_count": 130,
   "metadata": {
    "colab": {
     "base_uri": "https://localhost:8080/",
     "height": 34
    },
    "colab_type": "code",
    "executionInfo": {
     "elapsed": 52246,
     "status": "ok",
     "timestamp": 1593274520732,
     "user": {
      "displayName": "Mariana Moura",
      "photoUrl": "",
      "userId": "09921903782139644629"
     },
     "user_tz": -60
    },
    "id": "-PIKySQZ1VVP",
    "outputId": "e92af57c-8b4b-4d71-f2d9-f2f168a78c56"
   },
   "outputs": [
    {
     "data": {
      "text/plain": [
       "(4803, 61)"
      ]
     },
     "execution_count": 130,
     "metadata": {},
     "output_type": "execute_result"
    }
   ],
   "source": [
    "df_cat.shape"
   ]
  },
  {
   "cell_type": "code",
   "execution_count": 131,
   "metadata": {
    "colab": {},
    "colab_type": "code",
    "executionInfo": {
     "elapsed": 52238,
     "status": "ok",
     "timestamp": 1593274520734,
     "user": {
      "displayName": "Mariana Moura",
      "photoUrl": "",
      "userId": "09921903782139644629"
     },
     "user_tz": -60
    },
    "id": "U2IYbgyb1e03"
   },
   "outputs": [],
   "source": [
    "# Concatenate both numeric and categoric datasets\n",
    "df_numcat = pd.concat([df_num,df_cat],axis=1)"
   ]
  },
  {
   "cell_type": "code",
   "execution_count": 132,
   "metadata": {
    "colab": {
     "base_uri": "https://localhost:8080/",
     "height": 224
    },
    "colab_type": "code",
    "executionInfo": {
     "elapsed": 52201,
     "status": "ok",
     "timestamp": 1593274520737,
     "user": {
      "displayName": "Mariana Moura",
      "photoUrl": "",
      "userId": "09921903782139644629"
     },
     "user_tz": -60
    },
    "id": "IcHcT8271gkU",
    "outputId": "fce9b55d-29b1-4cfd-aab7-d5a518124b82"
   },
   "outputs": [
    {
     "data": {
      "text/html": [
       "<div>\n",
       "<style scoped>\n",
       "    .dataframe tbody tr th:only-of-type {\n",
       "        vertical-align: middle;\n",
       "    }\n",
       "\n",
       "    .dataframe tbody tr th {\n",
       "        vertical-align: top;\n",
       "    }\n",
       "\n",
       "    .dataframe thead th {\n",
       "        text-align: right;\n",
       "    }\n",
       "</style>\n",
       "<table border=\"1\" class=\"dataframe\">\n",
       "  <thead>\n",
       "    <tr style=\"text-align: right;\">\n",
       "      <th></th>\n",
       "      <th>budget</th>\n",
       "      <th>popularity</th>\n",
       "      <th>revenue</th>\n",
       "      <th>runtime</th>\n",
       "      <th>vote_average</th>\n",
       "      <th>vote_count</th>\n",
       "      <th>year</th>\n",
       "      <th>genre_0_Action</th>\n",
       "      <th>genre_0_Adventure</th>\n",
       "      <th>genre_0_Comedy</th>\n",
       "      <th>...</th>\n",
       "      <th>production_countries_0_Japan</th>\n",
       "      <th>production_countries_0_Kenya</th>\n",
       "      <th>production_countries_0_KyrgyzRepublic</th>\n",
       "      <th>production_countries_0_Luxembourg</th>\n",
       "      <th>production_countries_0_Mexico</th>\n",
       "      <th>production_countries_0_NewZealand</th>\n",
       "      <th>production_countries_0_None</th>\n",
       "      <th>production_countries_0_Romania</th>\n",
       "      <th>production_countries_0_SouthKorea</th>\n",
       "      <th>production_countries_0_UnitedKingdom</th>\n",
       "    </tr>\n",
       "  </thead>\n",
       "  <tbody>\n",
       "    <tr>\n",
       "      <th>0</th>\n",
       "      <td>20000000.0</td>\n",
       "      <td>11.770272</td>\n",
       "      <td>38211962.5</td>\n",
       "      <td>103.0</td>\n",
       "      <td>7.2</td>\n",
       "      <td>181.0</td>\n",
       "      <td>2009.0</td>\n",
       "      <td>1</td>\n",
       "      <td>0</td>\n",
       "      <td>0</td>\n",
       "      <td>...</td>\n",
       "      <td>0</td>\n",
       "      <td>0</td>\n",
       "      <td>0</td>\n",
       "      <td>0</td>\n",
       "      <td>0</td>\n",
       "      <td>0</td>\n",
       "      <td>0</td>\n",
       "      <td>0</td>\n",
       "      <td>0</td>\n",
       "      <td>0</td>\n",
       "    </tr>\n",
       "    <tr>\n",
       "      <th>1</th>\n",
       "      <td>20000000.0</td>\n",
       "      <td>11.770272</td>\n",
       "      <td>38211962.5</td>\n",
       "      <td>103.0</td>\n",
       "      <td>6.9</td>\n",
       "      <td>181.0</td>\n",
       "      <td>2007.0</td>\n",
       "      <td>0</td>\n",
       "      <td>1</td>\n",
       "      <td>0</td>\n",
       "      <td>...</td>\n",
       "      <td>0</td>\n",
       "      <td>0</td>\n",
       "      <td>0</td>\n",
       "      <td>0</td>\n",
       "      <td>0</td>\n",
       "      <td>0</td>\n",
       "      <td>0</td>\n",
       "      <td>0</td>\n",
       "      <td>0</td>\n",
       "      <td>0</td>\n",
       "    </tr>\n",
       "    <tr>\n",
       "      <th>2</th>\n",
       "      <td>20000000.0</td>\n",
       "      <td>11.770272</td>\n",
       "      <td>38211962.5</td>\n",
       "      <td>148.0</td>\n",
       "      <td>6.3</td>\n",
       "      <td>181.0</td>\n",
       "      <td>2015.0</td>\n",
       "      <td>1</td>\n",
       "      <td>0</td>\n",
       "      <td>0</td>\n",
       "      <td>...</td>\n",
       "      <td>0</td>\n",
       "      <td>0</td>\n",
       "      <td>0</td>\n",
       "      <td>0</td>\n",
       "      <td>0</td>\n",
       "      <td>0</td>\n",
       "      <td>0</td>\n",
       "      <td>0</td>\n",
       "      <td>0</td>\n",
       "      <td>1</td>\n",
       "    </tr>\n",
       "    <tr>\n",
       "      <th>3</th>\n",
       "      <td>20000000.0</td>\n",
       "      <td>11.770272</td>\n",
       "      <td>38211962.5</td>\n",
       "      <td>103.0</td>\n",
       "      <td>7.6</td>\n",
       "      <td>181.0</td>\n",
       "      <td>2012.0</td>\n",
       "      <td>1</td>\n",
       "      <td>0</td>\n",
       "      <td>0</td>\n",
       "      <td>...</td>\n",
       "      <td>0</td>\n",
       "      <td>0</td>\n",
       "      <td>0</td>\n",
       "      <td>0</td>\n",
       "      <td>0</td>\n",
       "      <td>0</td>\n",
       "      <td>0</td>\n",
       "      <td>0</td>\n",
       "      <td>0</td>\n",
       "      <td>0</td>\n",
       "    </tr>\n",
       "    <tr>\n",
       "      <th>4</th>\n",
       "      <td>20000000.0</td>\n",
       "      <td>43.926995</td>\n",
       "      <td>38211962.5</td>\n",
       "      <td>132.0</td>\n",
       "      <td>6.1</td>\n",
       "      <td>181.0</td>\n",
       "      <td>2012.0</td>\n",
       "      <td>1</td>\n",
       "      <td>0</td>\n",
       "      <td>0</td>\n",
       "      <td>...</td>\n",
       "      <td>0</td>\n",
       "      <td>0</td>\n",
       "      <td>0</td>\n",
       "      <td>0</td>\n",
       "      <td>0</td>\n",
       "      <td>0</td>\n",
       "      <td>0</td>\n",
       "      <td>0</td>\n",
       "      <td>0</td>\n",
       "      <td>0</td>\n",
       "    </tr>\n",
       "  </tbody>\n",
       "</table>\n",
       "<p>5 rows × 68 columns</p>\n",
       "</div>"
      ],
      "text/plain": [
       "       budget  popularity     revenue  runtime  vote_average  vote_count  \\\n",
       "0  20000000.0   11.770272  38211962.5    103.0           7.2       181.0   \n",
       "1  20000000.0   11.770272  38211962.5    103.0           6.9       181.0   \n",
       "2  20000000.0   11.770272  38211962.5    148.0           6.3       181.0   \n",
       "3  20000000.0   11.770272  38211962.5    103.0           7.6       181.0   \n",
       "4  20000000.0   43.926995  38211962.5    132.0           6.1       181.0   \n",
       "\n",
       "     year  genre_0_Action  genre_0_Adventure  genre_0_Comedy  ...  \\\n",
       "0  2009.0               1                  0               0  ...   \n",
       "1  2007.0               0                  1               0  ...   \n",
       "2  2015.0               1                  0               0  ...   \n",
       "3  2012.0               1                  0               0  ...   \n",
       "4  2012.0               1                  0               0  ...   \n",
       "\n",
       "   production_countries_0_Japan  production_countries_0_Kenya  \\\n",
       "0                             0                             0   \n",
       "1                             0                             0   \n",
       "2                             0                             0   \n",
       "3                             0                             0   \n",
       "4                             0                             0   \n",
       "\n",
       "   production_countries_0_KyrgyzRepublic  production_countries_0_Luxembourg  \\\n",
       "0                                      0                                  0   \n",
       "1                                      0                                  0   \n",
       "2                                      0                                  0   \n",
       "3                                      0                                  0   \n",
       "4                                      0                                  0   \n",
       "\n",
       "   production_countries_0_Mexico  production_countries_0_NewZealand  \\\n",
       "0                              0                                  0   \n",
       "1                              0                                  0   \n",
       "2                              0                                  0   \n",
       "3                              0                                  0   \n",
       "4                              0                                  0   \n",
       "\n",
       "   production_countries_0_None  production_countries_0_Romania  \\\n",
       "0                            0                               0   \n",
       "1                            0                               0   \n",
       "2                            0                               0   \n",
       "3                            0                               0   \n",
       "4                            0                               0   \n",
       "\n",
       "   production_countries_0_SouthKorea  production_countries_0_UnitedKingdom  \n",
       "0                                  0                                     0  \n",
       "1                                  0                                     0  \n",
       "2                                  0                                     1  \n",
       "3                                  0                                     0  \n",
       "4                                  0                                     0  \n",
       "\n",
       "[5 rows x 68 columns]"
      ]
     },
     "execution_count": 132,
     "metadata": {},
     "output_type": "execute_result"
    }
   ],
   "source": [
    "df_numcat.head(5)"
   ]
  },
  {
   "cell_type": "code",
   "execution_count": 133,
   "metadata": {
    "colab": {
     "base_uri": "https://localhost:8080/",
     "height": 34
    },
    "colab_type": "code",
    "executionInfo": {
     "elapsed": 52163,
     "status": "ok",
     "timestamp": 1593274520739,
     "user": {
      "displayName": "Mariana Moura",
      "photoUrl": "",
      "userId": "09921903782139644629"
     },
     "user_tz": -60
    },
    "id": "MZCWn87O1mk-",
    "outputId": "da40bec6-801a-4353-9e9a-d09dc4c69ee5"
   },
   "outputs": [
    {
     "data": {
      "text/plain": [
       "(4803, 68)"
      ]
     },
     "execution_count": 133,
     "metadata": {},
     "output_type": "execute_result"
    }
   ],
   "source": [
    "df_numcat.shape"
   ]
  },
  {
   "cell_type": "markdown",
   "metadata": {
    "colab_type": "text",
    "id": "xjoDMztF1qXh"
   },
   "source": [
    "---"
   ]
  },
  {
   "cell_type": "markdown",
   "metadata": {
    "colab_type": "text",
    "id": "2A9Bs2tI1szL"
   },
   "source": [
    "# **# 2** - Second modeling"
   ]
  },
  {
   "cell_type": "markdown",
   "metadata": {
    "colab_type": "text",
    "id": "fJR9YT_415cb"
   },
   "source": [
    "Let's add the categorical variables (selected above) to our numeric datasetl."
   ]
  },
  {
   "cell_type": "code",
   "execution_count": 134,
   "metadata": {
    "colab": {
     "base_uri": "https://localhost:8080/",
     "height": 162
    },
    "colab_type": "code",
    "executionInfo": {
     "elapsed": 52138,
     "status": "ok",
     "timestamp": 1593274520745,
     "user": {
      "displayName": "Mariana Moura",
      "photoUrl": "",
      "userId": "09921903782139644629"
     },
     "user_tz": -60
    },
    "id": "xEAR_P_f1rnb",
    "outputId": "65abedca-e66d-46fe-ac4d-67a89d9162fb"
   },
   "outputs": [
    {
     "data": {
      "text/html": [
       "<div>\n",
       "<style scoped>\n",
       "    .dataframe tbody tr th:only-of-type {\n",
       "        vertical-align: middle;\n",
       "    }\n",
       "\n",
       "    .dataframe tbody tr th {\n",
       "        vertical-align: top;\n",
       "    }\n",
       "\n",
       "    .dataframe thead th {\n",
       "        text-align: right;\n",
       "    }\n",
       "</style>\n",
       "<table border=\"1\" class=\"dataframe\">\n",
       "  <thead>\n",
       "    <tr style=\"text-align: right;\">\n",
       "      <th></th>\n",
       "      <th>budget</th>\n",
       "      <th>popularity</th>\n",
       "      <th>revenue</th>\n",
       "      <th>runtime</th>\n",
       "      <th>vote_average</th>\n",
       "      <th>vote_count</th>\n",
       "      <th>year</th>\n",
       "      <th>genre_0_Action</th>\n",
       "      <th>genre_0_Adventure</th>\n",
       "      <th>genre_0_Comedy</th>\n",
       "      <th>...</th>\n",
       "      <th>production_countries_0_Japan</th>\n",
       "      <th>production_countries_0_Kenya</th>\n",
       "      <th>production_countries_0_KyrgyzRepublic</th>\n",
       "      <th>production_countries_0_Luxembourg</th>\n",
       "      <th>production_countries_0_Mexico</th>\n",
       "      <th>production_countries_0_NewZealand</th>\n",
       "      <th>production_countries_0_None</th>\n",
       "      <th>production_countries_0_Romania</th>\n",
       "      <th>production_countries_0_SouthKorea</th>\n",
       "      <th>production_countries_0_UnitedKingdom</th>\n",
       "    </tr>\n",
       "  </thead>\n",
       "  <tbody>\n",
       "    <tr>\n",
       "      <th>0</th>\n",
       "      <td>20000000.0</td>\n",
       "      <td>11.770272</td>\n",
       "      <td>38211962.5</td>\n",
       "      <td>103.0</td>\n",
       "      <td>7.2</td>\n",
       "      <td>181.0</td>\n",
       "      <td>2009.0</td>\n",
       "      <td>1</td>\n",
       "      <td>0</td>\n",
       "      <td>0</td>\n",
       "      <td>...</td>\n",
       "      <td>0</td>\n",
       "      <td>0</td>\n",
       "      <td>0</td>\n",
       "      <td>0</td>\n",
       "      <td>0</td>\n",
       "      <td>0</td>\n",
       "      <td>0</td>\n",
       "      <td>0</td>\n",
       "      <td>0</td>\n",
       "      <td>0</td>\n",
       "    </tr>\n",
       "    <tr>\n",
       "      <th>1</th>\n",
       "      <td>20000000.0</td>\n",
       "      <td>11.770272</td>\n",
       "      <td>38211962.5</td>\n",
       "      <td>103.0</td>\n",
       "      <td>6.9</td>\n",
       "      <td>181.0</td>\n",
       "      <td>2007.0</td>\n",
       "      <td>0</td>\n",
       "      <td>1</td>\n",
       "      <td>0</td>\n",
       "      <td>...</td>\n",
       "      <td>0</td>\n",
       "      <td>0</td>\n",
       "      <td>0</td>\n",
       "      <td>0</td>\n",
       "      <td>0</td>\n",
       "      <td>0</td>\n",
       "      <td>0</td>\n",
       "      <td>0</td>\n",
       "      <td>0</td>\n",
       "      <td>0</td>\n",
       "    </tr>\n",
       "    <tr>\n",
       "      <th>2</th>\n",
       "      <td>20000000.0</td>\n",
       "      <td>11.770272</td>\n",
       "      <td>38211962.5</td>\n",
       "      <td>148.0</td>\n",
       "      <td>6.3</td>\n",
       "      <td>181.0</td>\n",
       "      <td>2015.0</td>\n",
       "      <td>1</td>\n",
       "      <td>0</td>\n",
       "      <td>0</td>\n",
       "      <td>...</td>\n",
       "      <td>0</td>\n",
       "      <td>0</td>\n",
       "      <td>0</td>\n",
       "      <td>0</td>\n",
       "      <td>0</td>\n",
       "      <td>0</td>\n",
       "      <td>0</td>\n",
       "      <td>0</td>\n",
       "      <td>0</td>\n",
       "      <td>1</td>\n",
       "    </tr>\n",
       "  </tbody>\n",
       "</table>\n",
       "<p>3 rows × 68 columns</p>\n",
       "</div>"
      ],
      "text/plain": [
       "       budget  popularity     revenue  runtime  vote_average  vote_count  \\\n",
       "0  20000000.0   11.770272  38211962.5    103.0           7.2       181.0   \n",
       "1  20000000.0   11.770272  38211962.5    103.0           6.9       181.0   \n",
       "2  20000000.0   11.770272  38211962.5    148.0           6.3       181.0   \n",
       "\n",
       "     year  genre_0_Action  genre_0_Adventure  genre_0_Comedy  ...  \\\n",
       "0  2009.0               1                  0               0  ...   \n",
       "1  2007.0               0                  1               0  ...   \n",
       "2  2015.0               1                  0               0  ...   \n",
       "\n",
       "   production_countries_0_Japan  production_countries_0_Kenya  \\\n",
       "0                             0                             0   \n",
       "1                             0                             0   \n",
       "2                             0                             0   \n",
       "\n",
       "   production_countries_0_KyrgyzRepublic  production_countries_0_Luxembourg  \\\n",
       "0                                      0                                  0   \n",
       "1                                      0                                  0   \n",
       "2                                      0                                  0   \n",
       "\n",
       "   production_countries_0_Mexico  production_countries_0_NewZealand  \\\n",
       "0                              0                                  0   \n",
       "1                              0                                  0   \n",
       "2                              0                                  0   \n",
       "\n",
       "   production_countries_0_None  production_countries_0_Romania  \\\n",
       "0                            0                               0   \n",
       "1                            0                               0   \n",
       "2                            0                               0   \n",
       "\n",
       "   production_countries_0_SouthKorea  production_countries_0_UnitedKingdom  \n",
       "0                                  0                                     0  \n",
       "1                                  0                                     0  \n",
       "2                                  0                                     1  \n",
       "\n",
       "[3 rows x 68 columns]"
      ]
     },
     "execution_count": 134,
     "metadata": {},
     "output_type": "execute_result"
    }
   ],
   "source": [
    "df_numcat.head(3)"
   ]
  },
  {
   "cell_type": "code",
   "execution_count": 135,
   "metadata": {
    "colab": {},
    "colab_type": "code",
    "executionInfo": {
     "elapsed": 52128,
     "status": "ok",
     "timestamp": 1593274520747,
     "user": {
      "displayName": "Mariana Moura",
      "photoUrl": "",
      "userId": "09921903782139644629"
     },
     "user_tz": -60
    },
    "id": "-uXKan0q2EWJ"
   },
   "outputs": [],
   "source": [
    "train_set, test_set = train_test_split(df_numcat, test_size = 0.2, random_state = seed)\n",
    "\n",
    "X_train = train_set.drop(['vote_average'], axis = 1)\n",
    "y_train = train_set['vote_average']\n",
    "\n",
    "X_test = test_set.drop(['vote_average'], axis = 1)\n",
    "y_test = test_set['vote_average']"
   ]
  },
  {
   "cell_type": "markdown",
   "metadata": {
    "colab_type": "text",
    "id": "k2eI_zzP2YQT"
   },
   "source": [
    "## Multiple Linear Regression (MLR)"
   ]
  },
  {
   "cell_type": "code",
   "execution_count": 136,
   "metadata": {
    "colab": {
     "base_uri": "https://localhost:8080/",
     "height": 51
    },
    "colab_type": "code",
    "executionInfo": {
     "elapsed": 52096,
     "status": "ok",
     "timestamp": 1593274520749,
     "user": {
      "displayName": "Mariana Moura",
      "photoUrl": "",
      "userId": "09921903782139644629"
     },
     "user_tz": -60
    },
    "id": "AtO5DOMZ2Y4S",
    "outputId": "103a9300-3b5e-41ec-89ea-8dbab120246d"
   },
   "outputs": [
    {
     "name": "stdout",
     "output_type": "stream",
     "text": [
      "CPU times: user 35.2 ms, sys: 6.42 ms, total: 41.7 ms\n",
      "Wall time: 19 ms\n"
     ]
    }
   ],
   "source": [
    "%%time\n",
    "\n",
    "mlr2 = LinearRegression().fit(X_train, y_train)\n",
    "\n",
    "y_preds2 = mlr2.predict(X_test) \n",
    "\n",
    "r2_mlr2 = r2_score(y_test, y_preds2)"
   ]
  },
  {
   "cell_type": "code",
   "execution_count": 137,
   "metadata": {
    "colab": {
     "base_uri": "https://localhost:8080/",
     "height": 34
    },
    "colab_type": "code",
    "executionInfo": {
     "elapsed": 52066,
     "status": "ok",
     "timestamp": 1593274520752,
     "user": {
      "displayName": "Mariana Moura",
      "photoUrl": "",
      "userId": "09921903782139644629"
     },
     "user_tz": -60
    },
    "id": "gbxFVBPu2l4l",
    "outputId": "82e5d715-c8f8-4d90-878e-b49ef09fe4af"
   },
   "outputs": [
    {
     "data": {
      "text/plain": [
       "0.34566777440993135"
      ]
     },
     "execution_count": 137,
     "metadata": {},
     "output_type": "execute_result"
    }
   ],
   "source": [
    "r2_mlr2"
   ]
  },
  {
   "cell_type": "code",
   "execution_count": 138,
   "metadata": {
    "colab": {
     "base_uri": "https://localhost:8080/",
     "height": 34
    },
    "colab_type": "code",
    "executionInfo": {
     "elapsed": 52038,
     "status": "ok",
     "timestamp": 1593274520755,
     "user": {
      "displayName": "Mariana Moura",
      "photoUrl": "",
      "userId": "09921903782139644629"
     },
     "user_tz": -60
    },
    "id": "WbROqrYu2l8j",
    "outputId": "a43a5190-516c-46dc-a083-b6dfebc8d6a9"
   },
   "outputs": [
    {
     "data": {
      "text/plain": [
       "0.3340513835475746"
      ]
     },
     "execution_count": 138,
     "metadata": {},
     "output_type": "execute_result"
    }
   ],
   "source": [
    "adj_r2_mlr2 = adjusted_r2(r2_mlr2, X_train)\n",
    "secondMLR = (adj_r2_mlr2*100).round(decimals=2)\n",
    "\n",
    "adj_r2_mlr2"
   ]
  },
  {
   "cell_type": "code",
   "execution_count": 139,
   "metadata": {
    "colab": {
     "base_uri": "https://localhost:8080/",
     "height": 659
    },
    "colab_type": "code",
    "executionInfo": {
     "elapsed": 52708,
     "status": "ok",
     "timestamp": 1593274521462,
     "user": {
      "displayName": "Mariana Moura",
      "photoUrl": "",
      "userId": "09921903782139644629"
     },
     "user_tz": -60
    },
    "id": "vhiFuRN820nW",
    "outputId": "fc075b2f-a886-4bf5-c9a5-856dd3ae85f1"
   },
   "outputs": [
    {
     "data": {
      "text/html": [
       "<div>\n",
       "<style scoped>\n",
       "    .dataframe tbody tr th:only-of-type {\n",
       "        vertical-align: middle;\n",
       "    }\n",
       "\n",
       "    .dataframe tbody tr th {\n",
       "        vertical-align: top;\n",
       "    }\n",
       "\n",
       "    .dataframe thead th {\n",
       "        text-align: right;\n",
       "    }\n",
       "</style>\n",
       "<table border=\"1\" class=\"dataframe\">\n",
       "  <thead>\n",
       "    <tr style=\"text-align: right;\">\n",
       "      <th></th>\n",
       "      <th>0</th>\n",
       "    </tr>\n",
       "    <tr>\n",
       "      <th>vote_average</th>\n",
       "      <th></th>\n",
       "    </tr>\n",
       "  </thead>\n",
       "  <tbody>\n",
       "    <tr>\n",
       "      <th>5.2</th>\n",
       "      <td>5.262741</td>\n",
       "    </tr>\n",
       "    <tr>\n",
       "      <th>5.7</th>\n",
       "      <td>5.690084</td>\n",
       "    </tr>\n",
       "    <tr>\n",
       "      <th>5.5</th>\n",
       "      <td>6.042120</td>\n",
       "    </tr>\n",
       "    <tr>\n",
       "      <th>6.7</th>\n",
       "      <td>6.671890</td>\n",
       "    </tr>\n",
       "    <tr>\n",
       "      <th>7.4</th>\n",
       "      <td>5.909061</td>\n",
       "    </tr>\n",
       "  </tbody>\n",
       "</table>\n",
       "</div>"
      ],
      "text/plain": [
       "                     0\n",
       "vote_average          \n",
       "5.2           5.262741\n",
       "5.7           5.690084\n",
       "5.5           6.042120\n",
       "6.7           6.671890\n",
       "7.4           5.909061"
      ]
     },
     "metadata": {},
     "output_type": "display_data"
    },
    {
     "data": {
      "image/png": "[encoded data removed]",
      "text/plain": [
       "<Figure size 432x432 with 3 Axes>"
      ]
     },
     "metadata": {
      "needs_background": "light"
     },
     "output_type": "display_data"
    }
   ],
   "source": [
    "residualsMLR2 = y_preds2 - y_test\n",
    "sns.jointplot(y_preds2, residualsMLR2);\n",
    "display(pd.DataFrame(y_preds2, y_test).head(5))"
   ]
  },
  {
   "cell_type": "markdown",
   "metadata": {
    "colab_type": "text",
    "id": "XBiE_ANZ3BT5"
   },
   "source": [
    "## Non Linear Multiple Regression (NLMR)"
   ]
  },
  {
   "cell_type": "code",
   "execution_count": 140,
   "metadata": {
    "colab": {},
    "colab_type": "code",
    "executionInfo": {
     "elapsed": 52705,
     "status": "ok",
     "timestamp": 1593274521466,
     "user": {
      "displayName": "Mariana Moura",
      "photoUrl": "",
      "userId": "09921903782139644629"
     },
     "user_tz": -60
    },
    "id": "TayRyH6T3FXV"
   },
   "outputs": [],
   "source": [
    "nonlinear_model2 = Pipeline( steps = [('poly', PolynomialFeatures(degree = 2)),\n",
    "                                     ('linear', LinearRegression())])"
   ]
  },
  {
   "cell_type": "code",
   "execution_count": 141,
   "metadata": {
    "colab": {
     "base_uri": "https://localhost:8080/",
     "height": 51
    },
    "colab_type": "code",
    "executionInfo": {
     "elapsed": 58911,
     "status": "ok",
     "timestamp": 1593274527704,
     "user": {
      "displayName": "Mariana Moura",
      "photoUrl": "",
      "userId": "09921903782139644629"
     },
     "user_tz": -60
    },
    "id": "sZRh4PTT3Mco",
    "outputId": "4af2a38c-8e69-4797-826d-1983ddba43b0"
   },
   "outputs": [
    {
     "name": "stdout",
     "output_type": "stream",
     "text": [
      "CPU times: user 19.8 s, sys: 281 ms, total: 20.1 s\n",
      "Wall time: 5.36 s\n"
     ]
    }
   ],
   "source": [
    "%%time\n",
    "nlmr2 = nonlinear_model2.fit(X_train, y_train)\n",
    "\n",
    "preds_multiple_poly2 = nlmr2.predict(X_test)\n",
    "\n",
    "r2_multiple_poly2 = r2_score(y_test, preds_multiple_poly2)"
   ]
  },
  {
   "cell_type": "code",
   "execution_count": 142,
   "metadata": {
    "colab": {
     "base_uri": "https://localhost:8080/",
     "height": 34
    },
    "colab_type": "code",
    "executionInfo": {
     "elapsed": 58892,
     "status": "ok",
     "timestamp": 1593274527705,
     "user": {
      "displayName": "Mariana Moura",
      "photoUrl": "",
      "userId": "09921903782139644629"
     },
     "user_tz": -60
    },
    "id": "pogHu8FF3SeM",
    "outputId": "a9a837b5-2108-43ec-92d8-b706021738b2"
   },
   "outputs": [
    {
     "data": {
      "text/plain": [
       "0.3569743471383917"
      ]
     },
     "execution_count": 142,
     "metadata": {},
     "output_type": "execute_result"
    }
   ],
   "source": [
    "r2_multiple_poly2"
   ]
  },
  {
   "cell_type": "code",
   "execution_count": 143,
   "metadata": {
    "colab": {
     "base_uri": "https://localhost:8080/",
     "height": 34
    },
    "colab_type": "code",
    "executionInfo": {
     "elapsed": 58850,
     "status": "ok",
     "timestamp": 1593274527707,
     "user": {
      "displayName": "Mariana Moura",
      "photoUrl": "",
      "userId": "09921903782139644629"
     },
     "user_tz": -60
    },
    "id": "4ZCDE5CG3Sb-",
    "outputId": "b2a94d7b-1e61-44f6-802d-71de2b069fe8"
   },
   "outputs": [
    {
     "data": {
      "text/plain": [
       "0.3455586823949557"
      ]
     },
     "execution_count": 143,
     "metadata": {},
     "output_type": "execute_result"
    }
   ],
   "source": [
    "adj_r2_multiple_poly2 = adjusted_r2(r2_multiple_poly2, X_train)\n",
    "secondNLR = (adj_r2_multiple_poly2*100).round(decimals=2)\n",
    "\n",
    "adj_r2_multiple_poly2"
   ]
  },
  {
   "cell_type": "code",
   "execution_count": 144,
   "metadata": {
    "colab": {
     "base_uri": "https://localhost:8080/",
     "height": 659
    },
    "colab_type": "code",
    "executionInfo": {
     "elapsed": 59991,
     "status": "ok",
     "timestamp": 1593274528879,
     "user": {
      "displayName": "Mariana Moura",
      "photoUrl": "",
      "userId": "09921903782139644629"
     },
     "user_tz": -60
    },
    "id": "2Lk7R4Ku3ekW",
    "outputId": "5d878bdf-4185-4a29-b495-99d86855bc1a"
   },
   "outputs": [
    {
     "data": {
      "text/html": [
       "<div>\n",
       "<style scoped>\n",
       "    .dataframe tbody tr th:only-of-type {\n",
       "        vertical-align: middle;\n",
       "    }\n",
       "\n",
       "    .dataframe tbody tr th {\n",
       "        vertical-align: top;\n",
       "    }\n",
       "\n",
       "    .dataframe thead th {\n",
       "        text-align: right;\n",
       "    }\n",
       "</style>\n",
       "<table border=\"1\" class=\"dataframe\">\n",
       "  <thead>\n",
       "    <tr style=\"text-align: right;\">\n",
       "      <th></th>\n",
       "      <th>0</th>\n",
       "    </tr>\n",
       "    <tr>\n",
       "      <th>vote_average</th>\n",
       "      <th></th>\n",
       "    </tr>\n",
       "  </thead>\n",
       "  <tbody>\n",
       "    <tr>\n",
       "      <th>5.2</th>\n",
       "      <td>5.206159</td>\n",
       "    </tr>\n",
       "    <tr>\n",
       "      <th>5.7</th>\n",
       "      <td>5.458675</td>\n",
       "    </tr>\n",
       "    <tr>\n",
       "      <th>5.5</th>\n",
       "      <td>5.901804</td>\n",
       "    </tr>\n",
       "    <tr>\n",
       "      <th>6.7</th>\n",
       "      <td>6.782672</td>\n",
       "    </tr>\n",
       "    <tr>\n",
       "      <th>7.4</th>\n",
       "      <td>6.089415</td>\n",
       "    </tr>\n",
       "  </tbody>\n",
       "</table>\n",
       "</div>"
      ],
      "text/plain": [
       "                     0\n",
       "vote_average          \n",
       "5.2           5.206159\n",
       "5.7           5.458675\n",
       "5.5           5.901804\n",
       "6.7           6.782672\n",
       "7.4           6.089415"
      ]
     },
     "metadata": {},
     "output_type": "display_data"
    },
    {
     "data": {
      "image/png": "[encoded data removed]",
      "text/plain": [
       "<Figure size 432x432 with 3 Axes>"
      ]
     },
     "metadata": {
      "needs_background": "light"
     },
     "output_type": "display_data"
    }
   ],
   "source": [
    "residualsNLMR2 = preds_multiple_poly2 - y_test\n",
    "sns.jointplot(preds_multiple_poly2, residualsNLMR2);\n",
    "display(pd.DataFrame(preds_multiple_poly2, y_test).head(5))"
   ]
  },
  {
   "cell_type": "markdown",
   "metadata": {
    "colab_type": "text",
    "id": "WC8fvGF530fg"
   },
   "source": [
    "## KNN"
   ]
  },
  {
   "cell_type": "code",
   "execution_count": 145,
   "metadata": {
    "colab": {},
    "colab_type": "code",
    "executionInfo": {
     "elapsed": 59984,
     "status": "ok",
     "timestamp": 1593274528881,
     "user": {
      "displayName": "Mariana Moura",
      "photoUrl": "",
      "userId": "09921903782139644629"
     },
     "user_tz": -60
    },
    "id": "FfaWIYmz32gf"
   },
   "outputs": [],
   "source": [
    "df_knn2 = df_numcat.copy()"
   ]
  },
  {
   "cell_type": "code",
   "execution_count": 146,
   "metadata": {
    "colab": {},
    "colab_type": "code",
    "executionInfo": {
     "elapsed": 59973,
     "status": "ok",
     "timestamp": 1593274528882,
     "user": {
      "displayName": "Mariana Moura",
      "photoUrl": "",
      "userId": "09921903782139644629"
     },
     "user_tz": -60
    },
    "id": "q4ZlHeqI39LW"
   },
   "outputs": [],
   "source": [
    "train_set, test_set = train_test_split(df_knn2, test_size = 0.2, random_state = seed)\n",
    "\n",
    "X_train = train_set.drop(['vote_average'], axis = 1)\n",
    "y_train = train_set['vote_average']\n",
    "\n",
    "X_test = test_set.drop(['vote_average'], axis = 1)\n",
    "y_test = test_set['vote_average']"
   ]
  },
  {
   "cell_type": "code",
   "execution_count": 147,
   "metadata": {
    "colab": {},
    "colab_type": "code",
    "executionInfo": {
     "elapsed": 59965,
     "status": "ok",
     "timestamp": 1593274528885,
     "user": {
      "displayName": "Mariana Moura",
      "photoUrl": "",
      "userId": "09921903782139644629"
     },
     "user_tz": -60
    },
    "id": "1yB6TN_639Rr"
   },
   "outputs": [],
   "source": [
    "scaler = MinMaxScaler()\n",
    "features_names = X_train.columns\n",
    "\n",
    "X_train = scaler.fit_transform(X_train)\n",
    "X_train = pd.DataFrame(X_train, columns = features_names)\n",
    "\n",
    "X_test = scaler.transform(X_test)\n",
    "X_test = pd.DataFrame(X_test, columns = features_names)"
   ]
  },
  {
   "cell_type": "code",
   "execution_count": 148,
   "metadata": {
    "colab": {
     "base_uri": "https://localhost:8080/",
     "height": 51
    },
    "colab_type": "code",
    "executionInfo": {
     "elapsed": 60307,
     "status": "ok",
     "timestamp": 1593274529259,
     "user": {
      "displayName": "Mariana Moura",
      "photoUrl": "",
      "userId": "09921903782139644629"
     },
     "user_tz": -60
    },
    "id": "ZEWNAovE39PC",
    "outputId": "a60e94af-0096-4097-cbf4-5d66f41e3408"
   },
   "outputs": [
    {
     "name": "stdout",
     "output_type": "stream",
     "text": [
      "CPU times: user 460 ms, sys: 5.42 ms, total: 466 ms\n",
      "Wall time: 465 ms\n"
     ]
    }
   ],
   "source": [
    "%%time\n",
    "\n",
    "knn2 = KNeighborsRegressor(n_neighbors = 21).fit(X_train, y_train)\n",
    "\n",
    "y_preds_knn2 = knn2.predict(X_test)\n",
    "\n",
    "r2_score_knn2 = r2_score(y_test, y_preds_knn2)\n",
    "\n",
    "secondKNN = (r2_score_knn2*100).round(decimals=2)"
   ]
  },
  {
   "cell_type": "code",
   "execution_count": 149,
   "metadata": {
    "colab": {
     "base_uri": "https://localhost:8080/",
     "height": 34
    },
    "colab_type": "code",
    "executionInfo": {
     "elapsed": 60278,
     "status": "ok",
     "timestamp": 1593274529265,
     "user": {
      "displayName": "Mariana Moura",
      "photoUrl": "",
      "userId": "09921903782139644629"
     },
     "user_tz": -60
    },
    "id": "2Z1QyBB54P3e",
    "outputId": "2cdc3c97-f9fe-4fc8-dd54-16367675ccd5"
   },
   "outputs": [
    {
     "data": {
      "text/plain": [
       "0.24622564016431958"
      ]
     },
     "execution_count": 149,
     "metadata": {},
     "output_type": "execute_result"
    }
   ],
   "source": [
    "r2_score_knn2"
   ]
  },
  {
   "cell_type": "code",
   "execution_count": 150,
   "metadata": {
    "colab": {
     "base_uri": "https://localhost:8080/",
     "height": 659
    },
    "colab_type": "code",
    "executionInfo": {
     "elapsed": 61243,
     "status": "ok",
     "timestamp": 1593274530260,
     "user": {
      "displayName": "Mariana Moura",
      "photoUrl": "",
      "userId": "09921903782139644629"
     },
     "user_tz": -60
    },
    "id": "OtJsgySq4Si3",
    "outputId": "f2ee8b9f-1735-4afe-e1a4-bedde5bfb009"
   },
   "outputs": [
    {
     "data": {
      "text/html": [
       "<div>\n",
       "<style scoped>\n",
       "    .dataframe tbody tr th:only-of-type {\n",
       "        vertical-align: middle;\n",
       "    }\n",
       "\n",
       "    .dataframe tbody tr th {\n",
       "        vertical-align: top;\n",
       "    }\n",
       "\n",
       "    .dataframe thead th {\n",
       "        text-align: right;\n",
       "    }\n",
       "</style>\n",
       "<table border=\"1\" class=\"dataframe\">\n",
       "  <thead>\n",
       "    <tr style=\"text-align: right;\">\n",
       "      <th></th>\n",
       "      <th>0</th>\n",
       "    </tr>\n",
       "    <tr>\n",
       "      <th>vote_average</th>\n",
       "      <th></th>\n",
       "    </tr>\n",
       "  </thead>\n",
       "  <tbody>\n",
       "    <tr>\n",
       "      <th>5.2</th>\n",
       "      <td>5.880952</td>\n",
       "    </tr>\n",
       "    <tr>\n",
       "      <th>5.7</th>\n",
       "      <td>6.195238</td>\n",
       "    </tr>\n",
       "    <tr>\n",
       "      <th>5.5</th>\n",
       "      <td>6.019048</td>\n",
       "    </tr>\n",
       "    <tr>\n",
       "      <th>6.7</th>\n",
       "      <td>6.309524</td>\n",
       "    </tr>\n",
       "    <tr>\n",
       "      <th>7.4</th>\n",
       "      <td>6.428571</td>\n",
       "    </tr>\n",
       "  </tbody>\n",
       "</table>\n",
       "</div>"
      ],
      "text/plain": [
       "                     0\n",
       "vote_average          \n",
       "5.2           5.880952\n",
       "5.7           6.195238\n",
       "5.5           6.019048\n",
       "6.7           6.309524\n",
       "7.4           6.428571"
      ]
     },
     "metadata": {},
     "output_type": "display_data"
    },
    {
     "data": {
      "image/png": "[encoded data removed]",
      "text/plain": [
       "<Figure size 432x432 with 3 Axes>"
      ]
     },
     "metadata": {
      "needs_background": "light"
     },
     "output_type": "display_data"
    }
   ],
   "source": [
    "residualsKNN2 = y_preds_knn2 - y_test\n",
    "sns.jointplot(y_preds_knn2, residualsKNN2);\n",
    "display(pd.DataFrame(y_preds_knn2, y_test).head(5))"
   ]
  },
  {
   "cell_type": "markdown",
   "metadata": {
    "colab_type": "text",
    "id": "8ReIP3ZP4du2"
   },
   "source": [
    "## SVR"
   ]
  },
  {
   "cell_type": "code",
   "execution_count": 151,
   "metadata": {
    "colab": {},
    "colab_type": "code",
    "executionInfo": {
     "elapsed": 61238,
     "status": "ok",
     "timestamp": 1593274530265,
     "user": {
      "displayName": "Mariana Moura",
      "photoUrl": "",
      "userId": "09921903782139644629"
     },
     "user_tz": -60
    },
    "id": "PrkZWn-Y4fNI"
   },
   "outputs": [],
   "source": [
    "df_svr2 = df_numcat.copy()"
   ]
  },
  {
   "cell_type": "code",
   "execution_count": 152,
   "metadata": {
    "colab": {},
    "colab_type": "code",
    "executionInfo": {
     "elapsed": 61231,
     "status": "ok",
     "timestamp": 1593274530267,
     "user": {
      "displayName": "Mariana Moura",
      "photoUrl": "",
      "userId": "09921903782139644629"
     },
     "user_tz": -60
    },
    "id": "ru7qdREH4o2k"
   },
   "outputs": [],
   "source": [
    "train_set, test_set = train_test_split(df_svr2, test_size = 0.2, random_state = seed)\n",
    "\n",
    "X_train = train_set.drop(['vote_average'], axis = 1)\n",
    "y_train = train_set['vote_average']\n",
    "\n",
    "X_test = test_set.drop(['vote_average'], axis = 1)\n",
    "y_test = test_set['vote_average']"
   ]
  },
  {
   "cell_type": "code",
   "execution_count": 153,
   "metadata": {
    "colab": {},
    "colab_type": "code",
    "executionInfo": {
     "elapsed": 61222,
     "status": "ok",
     "timestamp": 1593274530269,
     "user": {
      "displayName": "Mariana Moura",
      "photoUrl": "",
      "userId": "09921903782139644629"
     },
     "user_tz": -60
    },
    "id": "1N-vCdBK4o_F"
   },
   "outputs": [],
   "source": [
    "zscore = StandardScaler()\n",
    "features_names = X_train.columns\n",
    "\n",
    "X_train = zscore.fit_transform(X_train)\n",
    "X_train = pd.DataFrame(X_train, columns = features_names)\n",
    "\n",
    "X_test = zscore.transform(X_test)\n",
    "X_test = pd.DataFrame(X_test, columns = features_names)"
   ]
  },
  {
   "cell_type": "code",
   "execution_count": 154,
   "metadata": {
    "colab": {
     "base_uri": "https://localhost:8080/",
     "height": 51
    },
    "colab_type": "code",
    "executionInfo": {
     "elapsed": 63891,
     "status": "ok",
     "timestamp": 1593274532972,
     "user": {
      "displayName": "Mariana Moura",
      "photoUrl": "",
      "userId": "09921903782139644629"
     },
     "user_tz": -60
    },
    "id": "iwlp8y9C40b3",
    "outputId": "81d06305-a37e-46cc-8509-f6f754f0d5cb"
   },
   "outputs": [
    {
     "name": "stdout",
     "output_type": "stream",
     "text": [
      "CPU times: user 1.72 s, sys: 37.1 ms, total: 1.76 s\n",
      "Wall time: 1.76 s\n"
     ]
    }
   ],
   "source": [
    "%%time\n",
    "svr2 = SVR().fit(X_train, y_train)\n",
    "\n",
    "y_preds_svr2 = svr2.predict(X_test)\n",
    "\n",
    "r2_score_svr2 = r2_score(y_test, y_preds_svr2)\n",
    "secondSVR = ((r2_score_svr2)*100).round(decimals=2)"
   ]
  },
  {
   "cell_type": "code",
   "execution_count": 155,
   "metadata": {
    "colab": {
     "base_uri": "https://localhost:8080/",
     "height": 34
    },
    "colab_type": "code",
    "executionInfo": {
     "elapsed": 63865,
     "status": "ok",
     "timestamp": 1593274532975,
     "user": {
      "displayName": "Mariana Moura",
      "photoUrl": "",
      "userId": "09921903782139644629"
     },
     "user_tz": -60
    },
    "id": "LKd2lSRK4o9L",
    "outputId": "c86dc679-569d-4446-9de5-ad1e31811073"
   },
   "outputs": [
    {
     "data": {
      "text/plain": [
       "0.36397044622457486"
      ]
     },
     "execution_count": 155,
     "metadata": {},
     "output_type": "execute_result"
    }
   ],
   "source": [
    "r2_score_svr2"
   ]
  },
  {
   "cell_type": "code",
   "execution_count": 156,
   "metadata": {
    "colab": {
     "base_uri": "https://localhost:8080/",
     "height": 721
    },
    "colab_type": "code",
    "executionInfo": {
     "elapsed": 64648,
     "status": "ok",
     "timestamp": 1593274533787,
     "user": {
      "displayName": "Mariana Moura",
      "photoUrl": "",
      "userId": "09921903782139644629"
     },
     "user_tz": -60
    },
    "id": "O3eK6mrl5FHm",
    "outputId": "558124f4-3aae-443e-c2fb-26d0e3757a64"
   },
   "outputs": [
    {
     "data": {
      "text/html": [
       "<div>\n",
       "<style scoped>\n",
       "    .dataframe tbody tr th:only-of-type {\n",
       "        vertical-align: middle;\n",
       "    }\n",
       "\n",
       "    .dataframe tbody tr th {\n",
       "        vertical-align: top;\n",
       "    }\n",
       "\n",
       "    .dataframe thead th {\n",
       "        text-align: right;\n",
       "    }\n",
       "</style>\n",
       "<table border=\"1\" class=\"dataframe\">\n",
       "  <thead>\n",
       "    <tr style=\"text-align: right;\">\n",
       "      <th></th>\n",
       "      <th>0</th>\n",
       "    </tr>\n",
       "    <tr>\n",
       "      <th>vote_average</th>\n",
       "      <th></th>\n",
       "    </tr>\n",
       "  </thead>\n",
       "  <tbody>\n",
       "    <tr>\n",
       "      <th>5.2</th>\n",
       "      <td>5.525392</td>\n",
       "    </tr>\n",
       "    <tr>\n",
       "      <th>5.7</th>\n",
       "      <td>6.104762</td>\n",
       "    </tr>\n",
       "    <tr>\n",
       "      <th>5.5</th>\n",
       "      <td>5.860163</td>\n",
       "    </tr>\n",
       "    <tr>\n",
       "      <th>6.7</th>\n",
       "      <td>6.799673</td>\n",
       "    </tr>\n",
       "    <tr>\n",
       "      <th>7.4</th>\n",
       "      <td>6.054536</td>\n",
       "    </tr>\n",
       "    <tr>\n",
       "      <th>5.5</th>\n",
       "      <td>5.965973</td>\n",
       "    </tr>\n",
       "    <tr>\n",
       "      <th>6.7</th>\n",
       "      <td>7.281840</td>\n",
       "    </tr>\n",
       "  </tbody>\n",
       "</table>\n",
       "</div>"
      ],
      "text/plain": [
       "                     0\n",
       "vote_average          \n",
       "5.2           5.525392\n",
       "5.7           6.104762\n",
       "5.5           5.860163\n",
       "6.7           6.799673\n",
       "7.4           6.054536\n",
       "5.5           5.965973\n",
       "6.7           7.281840"
      ]
     },
     "execution_count": 156,
     "metadata": {},
     "output_type": "execute_result"
    },
    {
     "data": {
      "image/png": "[encoded data removed]",
      "text/plain": [
       "<Figure size 432x432 with 3 Axes>"
      ]
     },
     "metadata": {
      "needs_background": "light"
     },
     "output_type": "display_data"
    }
   ],
   "source": [
    "residualsSVR2 = y_preds_svr2 - y_test\n",
    "sns.jointplot(y_preds_svr2, residualsSVR2);\n",
    "showSVR = pd.DataFrame(y_preds_svr2,y_test)\n",
    "showSVR.head(7)"
   ]
  },
  {
   "cell_type": "markdown",
   "metadata": {
    "colab_type": "text",
    "id": "TrReNn4Q5wN4"
   },
   "source": [
    "## Random Forest Regressor"
   ]
  },
  {
   "cell_type": "code",
   "execution_count": 157,
   "metadata": {
    "colab": {},
    "colab_type": "code",
    "executionInfo": {
     "elapsed": 64644,
     "status": "ok",
     "timestamp": 1593274533792,
     "user": {
      "displayName": "Mariana Moura",
      "photoUrl": "",
      "userId": "09921903782139644629"
     },
     "user_tz": -60
    },
    "id": "LehHw63a5w9q"
   },
   "outputs": [],
   "source": [
    "df_rfr2 = df_numcat.copy()"
   ]
  },
  {
   "cell_type": "code",
   "execution_count": 158,
   "metadata": {
    "colab": {},
    "colab_type": "code",
    "executionInfo": {
     "elapsed": 64636,
     "status": "ok",
     "timestamp": 1593274533796,
     "user": {
      "displayName": "Mariana Moura",
      "photoUrl": "",
      "userId": "09921903782139644629"
     },
     "user_tz": -60
    },
    "id": "_QqMxhyY54d2"
   },
   "outputs": [],
   "source": [
    "train_set, test_set = train_test_split(df_rfr2, test_size = 0.2, random_state = seed)\n",
    "\n",
    "X_train = train_set.drop(['vote_average'], axis = 1)\n",
    "y_train = train_set['vote_average']\n",
    "\n",
    "X_test = test_set.drop(['vote_average'], axis = 1)\n",
    "y_test = test_set['vote_average']"
   ]
  },
  {
   "cell_type": "code",
   "execution_count": 159,
   "metadata": {
    "colab": {
     "base_uri": "https://localhost:8080/",
     "height": 51
    },
    "colab_type": "code",
    "executionInfo": {
     "elapsed": 68245,
     "status": "ok",
     "timestamp": 1593274537442,
     "user": {
      "displayName": "Mariana Moura",
      "photoUrl": "",
      "userId": "09921903782139644629"
     },
     "user_tz": -60
    },
    "id": "aQ-BkBN654ba",
    "outputId": "e5231d91-1054-46d0-9399-a972b6bf69b8"
   },
   "outputs": [
    {
     "name": "stdout",
     "output_type": "stream",
     "text": [
      "CPU times: user 2.92 s, sys: 20.9 ms, total: 2.94 s\n",
      "Wall time: 2.94 s\n"
     ]
    }
   ],
   "source": [
    "%%time\n",
    "rfr2 = RandomForestRegressor(random_state = seed).fit(X_train, y_train)\n",
    "\n",
    "score_rfr2 = rfr2.score(X_test, y_test)\n",
    "\n",
    "secondRFR = ((score_rfr2)*100).round(decimals=2)"
   ]
  },
  {
   "cell_type": "code",
   "execution_count": 160,
   "metadata": {
    "colab": {
     "base_uri": "https://localhost:8080/",
     "height": 34
    },
    "colab_type": "code",
    "executionInfo": {
     "elapsed": 68221,
     "status": "ok",
     "timestamp": 1593274537446,
     "user": {
      "displayName": "Mariana Moura",
      "photoUrl": "",
      "userId": "09921903782139644629"
     },
     "user_tz": -60
    },
    "id": "9PzWSa8q54ZK",
    "outputId": "17643237-35dd-4645-e9e8-3c91e3ffc502"
   },
   "outputs": [
    {
     "data": {
      "text/plain": [
       "0.609191588950101"
      ]
     },
     "execution_count": 160,
     "metadata": {},
     "output_type": "execute_result"
    }
   ],
   "source": [
    "score_rfr2"
   ]
  },
  {
   "cell_type": "code",
   "execution_count": 161,
   "metadata": {
    "colab": {
     "base_uri": "https://localhost:8080/",
     "height": 221
    },
    "colab_type": "code",
    "executionInfo": {
     "elapsed": 68189,
     "status": "ok",
     "timestamp": 1593274537449,
     "user": {
      "displayName": "Mariana Moura",
      "photoUrl": "",
      "userId": "09921903782139644629"
     },
     "user_tz": -60
    },
    "id": "cfWDYq2l6GGh",
    "outputId": "40731890-e6f5-4a35-c647-d6189aa3d3c2"
   },
   "outputs": [
    {
     "data": {
      "text/plain": [
       "vote_count                                  0.442734\n",
       "runtime                                     0.125945\n",
       "popularity                                  0.078611\n",
       "budget                                      0.067263\n",
       "year                                        0.056058\n",
       "                                              ...   \n",
       "production_countries_0_Guadaloupe           0.000000\n",
       "production_companies_0_0                    0.000000\n",
       "production_companies_1_0                    0.000000\n",
       "production_countries_0_Algeria              0.000000\n",
       "production_countries_0_DominicanRepublic    0.000000\n",
       "Length: 67, dtype: float64"
      ]
     },
     "execution_count": 161,
     "metadata": {},
     "output_type": "execute_result"
    }
   ],
   "source": [
    "feature_imp_rfr2 = pd.Series(rfr2.feature_importances_,index = X_train.columns).sort_values(ascending=False)\n",
    "feature_imp_rfr2"
   ]
  },
  {
   "cell_type": "markdown",
   "metadata": {
    "colab_type": "text",
    "id": "rc5OBgvd6OtQ"
   },
   "source": [
    "## Neural Networks"
   ]
  },
  {
   "cell_type": "code",
   "execution_count": 162,
   "metadata": {
    "colab": {},
    "colab_type": "code",
    "executionInfo": {
     "elapsed": 68177,
     "status": "ok",
     "timestamp": 1593274537450,
     "user": {
      "displayName": "Mariana Moura",
      "photoUrl": "",
      "userId": "09921903782139644629"
     },
     "user_tz": -60
    },
    "id": "5MtPK4mx6OPY"
   },
   "outputs": [],
   "source": [
    "df_nn2 = df_numcat.copy()"
   ]
  },
  {
   "cell_type": "code",
   "execution_count": 163,
   "metadata": {
    "colab": {},
    "colab_type": "code",
    "executionInfo": {
     "elapsed": 68164,
     "status": "ok",
     "timestamp": 1593274537451,
     "user": {
      "displayName": "Mariana Moura",
      "photoUrl": "",
      "userId": "09921903782139644629"
     },
     "user_tz": -60
    },
    "id": "5R5v3YsR6zFk"
   },
   "outputs": [],
   "source": [
    "train_set, test_set = train_test_split(df_nn2, test_size = 0.2, random_state = seed)\n",
    "\n",
    "X_train = train_set.drop(['vote_average'], axis = 1)\n",
    "y_train = train_set['vote_average']\n",
    "\n",
    "X_test = test_set.drop(['vote_average'], axis = 1)\n",
    "y_test = test_set['vote_average']"
   ]
  },
  {
   "cell_type": "code",
   "execution_count": 164,
   "metadata": {
    "colab": {},
    "colab_type": "code",
    "executionInfo": {
     "elapsed": 68150,
     "status": "ok",
     "timestamp": 1593274537453,
     "user": {
      "displayName": "Mariana Moura",
      "photoUrl": "",
      "userId": "09921903782139644629"
     },
     "user_tz": -60
    },
    "id": "HvH94URm6zDm"
   },
   "outputs": [],
   "source": [
    "zscore = StandardScaler()\n",
    "features_names = X_train.columns\n",
    "\n",
    "X_train = zscore.fit_transform(X_train)\n",
    "X_train = pd.DataFrame(X_train, columns = features_names)\n",
    "\n",
    "X_test = zscore.transform(X_test)\n",
    "X_test = pd.DataFrame(X_test, columns = features_names)"
   ]
  },
  {
   "cell_type": "code",
   "execution_count": 165,
   "metadata": {
    "colab": {
     "base_uri": "https://localhost:8080/",
     "height": 51
    },
    "colab_type": "code",
    "executionInfo": {
     "elapsed": 74078,
     "status": "ok",
     "timestamp": 1593274543414,
     "user": {
      "displayName": "Mariana Moura",
      "photoUrl": "",
      "userId": "09921903782139644629"
     },
     "user_tz": -60
    },
    "id": "JUX2l0F66zBY",
    "outputId": "cc24c78e-3a85-4270-acac-c7f5da5b1721"
   },
   "outputs": [
    {
     "name": "stdout",
     "output_type": "stream",
     "text": [
      "CPU times: user 37.2 s, sys: 650 ms, total: 37.8 s\n",
      "Wall time: 9.62 s\n"
     ]
    }
   ],
   "source": [
    "%%time\n",
    "nn2 = MLPRegressor(hidden_layer_sizes = (10, 2),\n",
    "                   random_state = seed, \n",
    "                   max_iter = 1000).fit(X_train, y_train)\n",
    "\n",
    "score_nn2 = nn2.score(X_test, y_test)\n",
    "\n",
    "secondNN = (score_nn2*100).round(decimals=2)      "
   ]
  },
  {
   "cell_type": "code",
   "execution_count": 166,
   "metadata": {
    "colab": {
     "base_uri": "https://localhost:8080/",
     "height": 34
    },
    "colab_type": "code",
    "executionInfo": {
     "elapsed": 74050,
     "status": "ok",
     "timestamp": 1593274543416,
     "user": {
      "displayName": "Mariana Moura",
      "photoUrl": "",
      "userId": "09921903782139644629"
     },
     "user_tz": -60
    },
    "id": "SeiGc2pn7Ivp",
    "outputId": "9061d87c-1cb3-427b-de6b-bc72137403a2"
   },
   "outputs": [
    {
     "data": {
      "text/plain": [
       "0.019521816814889292"
      ]
     },
     "execution_count": 166,
     "metadata": {},
     "output_type": "execute_result"
    }
   ],
   "source": [
    "score_nn2"
   ]
  },
  {
   "cell_type": "markdown",
   "metadata": {
    "colab_type": "text",
    "id": "mEKUc7kM7KsS"
   },
   "source": [
    "---"
   ]
  },
  {
   "cell_type": "markdown",
   "metadata": {
    "colab_type": "text",
    "id": "LG5xS-SZ7Lyw"
   },
   "source": [
    "## Results comparison"
   ]
  },
  {
   "cell_type": "code",
   "execution_count": 167,
   "metadata": {
    "colab": {
     "base_uri": "https://localhost:8080/",
     "height": 746
    },
    "colab_type": "code",
    "executionInfo": {
     "elapsed": 858,
     "status": "ok",
     "timestamp": 1593275405370,
     "user": {
      "displayName": "Mariana Moura",
      "photoUrl": "",
      "userId": "09921903782139644629"
     },
     "user_tz": -60
    },
    "id": "GRuDKM6-7Yj8",
    "outputId": "6b19b6b6-5052-46e2-8e7a-2e806f609aa5"
   },
   "outputs": [
    {
     "data": {
      "text/html": [
       "<div>\n",
       "<style scoped>\n",
       "    .dataframe tbody tr th:only-of-type {\n",
       "        vertical-align: middle;\n",
       "    }\n",
       "\n",
       "    .dataframe tbody tr th {\n",
       "        vertical-align: top;\n",
       "    }\n",
       "\n",
       "    .dataframe thead th {\n",
       "        text-align: right;\n",
       "    }\n",
       "</style>\n",
       "<table border=\"1\" class=\"dataframe\">\n",
       "  <thead>\n",
       "    <tr style=\"text-align: right;\">\n",
       "      <th>Algorithm</th>\n",
       "      <th>#1</th>\n",
       "      <th>#2</th>\n",
       "    </tr>\n",
       "  </thead>\n",
       "  <tbody>\n",
       "    <tr>\n",
       "      <th>Linear Multiple Regression (LR)</th>\n",
       "      <td>20.31</td>\n",
       "      <td>33.41</td>\n",
       "    </tr>\n",
       "    <tr>\n",
       "      <th>Non Linear Multiple Regression (NLR)</th>\n",
       "      <td>24.79</td>\n",
       "      <td>34.56</td>\n",
       "    </tr>\n",
       "    <tr>\n",
       "      <th>KNearest Neighbour (KNN)</th>\n",
       "      <td>27.78</td>\n",
       "      <td>24.62</td>\n",
       "    </tr>\n",
       "    <tr>\n",
       "      <th>Support Vector Regression (SVR)</th>\n",
       "      <td>25.46</td>\n",
       "      <td>36.40</td>\n",
       "    </tr>\n",
       "    <tr>\n",
       "      <th>Random Forest (RF)</th>\n",
       "      <td>56.64</td>\n",
       "      <td>60.92</td>\n",
       "    </tr>\n",
       "    <tr>\n",
       "      <th>Neural Networks (NN)</th>\n",
       "      <td>30.54</td>\n",
       "      <td>1.95</td>\n",
       "    </tr>\n",
       "  </tbody>\n",
       "</table>\n",
       "</div>"
      ],
      "text/plain": [
       "Algorithm                                #1     #2\n",
       "Linear Multiple Regression (LR)       20.31  33.41\n",
       "Non Linear Multiple Regression (NLR)  24.79  34.56\n",
       "KNearest Neighbour (KNN)              27.78  24.62\n",
       "Support Vector Regression (SVR)       25.46  36.40\n",
       "Random Forest (RF)                    56.64  60.92\n",
       "Neural Networks (NN)                  30.54   1.95"
      ]
     },
     "metadata": {},
     "output_type": "display_data"
    },
    {
     "data": {
      "image/png": "[encoded data removed]",
      "text/plain": [
       "<Figure size 864x576 with 1 Axes>"
      ]
     },
     "metadata": {
      "needs_background": "light"
     },
     "output_type": "display_data"
    }
   ],
   "source": [
    "results = {'Algorithm': ['#1', '#2'],\n",
    "            'Linear Multiple Regression (LR)': [firstMLR, secondMLR],\n",
    "            'Non Linear Multiple Regression (NLR)': [firstNLR, secondNLR],\n",
    "            'KNearest Neighbour (KNN)': [firstKNN,secondKNN],\n",
    "            'Support Vector Regression (SVR)': [firstSVR,secondSVR],\n",
    "            'Random Forest (RF)': [firstRFR,secondRFR],\n",
    "            'Neural Networks (NN)': [firstNN,secondNN]\n",
    "           }\n",
    "\n",
    "dfr = pd.DataFrame(results, columns = ['Algorithm', \n",
    "                                     'Linear Multiple Regression (LR)',\n",
    "                                     'Non Linear Multiple Regression (NLR)',\n",
    "                                     'KNearest Neighbour (KNN)',\n",
    "                                     'Support Vector Regression (SVR)',\n",
    "                                     'Random Forest (RF)',\n",
    "                                     'Neural Networks (NN)'\n",
    "                                        ])\n",
    "dfr.set_index(\"Algorithm\", inplace=True)\n",
    "\n",
    "results = dfr.T\n",
    "resultsT = dfr\n",
    "display(results)\n",
    "\n",
    "resultsT.plot(kind=\"bar\", title=(\"Score evolution\"), figsize=(12,8) ,fontsize = 17, grid=True)\n",
    "plt.xlabel('Number of attempts')\n",
    "plt.ylabel('Relative frequency (%)')\n",
    "plt.show();"
   ]
  },
  {
   "cell_type": "markdown",
   "metadata": {
    "colab_type": "text",
    "id": "SwjSUS-C7ZDp"
   },
   "source": [
    "---"
   ]
  },
  {
   "cell_type": "markdown",
   "metadata": {
    "colab_type": "text",
    "id": "TeJQaFWB8Uik"
   },
   "source": [
    "# **# 3** - Third modeling"
   ]
  },
  {
   "cell_type": "markdown",
   "metadata": {
    "colab_type": "text",
    "id": "OBazSMKf8gw1"
   },
   "source": [
    "As part of **Feature Selection**, we will apply a **PC**A to the previous dataset (df_numcat) and evaluate the results. Even if we lose information, we will check the respective influence on the results of the models, since the dataframe has 68 columns."
   ]
  },
  {
   "cell_type": "code",
   "execution_count": 168,
   "metadata": {
    "colab": {
     "base_uri": "https://localhost:8080/",
     "height": 162
    },
    "colab_type": "code",
    "executionInfo": {
     "elapsed": 74315,
     "status": "ok",
     "timestamp": 1593274543758,
     "user": {
      "displayName": "Mariana Moura",
      "photoUrl": "",
      "userId": "09921903782139644629"
     },
     "user_tz": -60
    },
    "id": "qYyWQrXx9YNY",
    "outputId": "60aa9128-0dc6-4815-d8ef-c7ca8d09d8d2"
   },
   "outputs": [
    {
     "data": {
      "text/html": [
       "<div>\n",
       "<style scoped>\n",
       "    .dataframe tbody tr th:only-of-type {\n",
       "        vertical-align: middle;\n",
       "    }\n",
       "\n",
       "    .dataframe tbody tr th {\n",
       "        vertical-align: top;\n",
       "    }\n",
       "\n",
       "    .dataframe thead th {\n",
       "        text-align: right;\n",
       "    }\n",
       "</style>\n",
       "<table border=\"1\" class=\"dataframe\">\n",
       "  <thead>\n",
       "    <tr style=\"text-align: right;\">\n",
       "      <th></th>\n",
       "      <th>budget</th>\n",
       "      <th>popularity</th>\n",
       "      <th>revenue</th>\n",
       "      <th>runtime</th>\n",
       "      <th>vote_average</th>\n",
       "      <th>vote_count</th>\n",
       "      <th>year</th>\n",
       "      <th>genre_0_Action</th>\n",
       "      <th>genre_0_Adventure</th>\n",
       "      <th>genre_0_Comedy</th>\n",
       "      <th>...</th>\n",
       "      <th>production_countries_0_Japan</th>\n",
       "      <th>production_countries_0_Kenya</th>\n",
       "      <th>production_countries_0_KyrgyzRepublic</th>\n",
       "      <th>production_countries_0_Luxembourg</th>\n",
       "      <th>production_countries_0_Mexico</th>\n",
       "      <th>production_countries_0_NewZealand</th>\n",
       "      <th>production_countries_0_None</th>\n",
       "      <th>production_countries_0_Romania</th>\n",
       "      <th>production_countries_0_SouthKorea</th>\n",
       "      <th>production_countries_0_UnitedKingdom</th>\n",
       "    </tr>\n",
       "  </thead>\n",
       "  <tbody>\n",
       "    <tr>\n",
       "      <th>0</th>\n",
       "      <td>20000000.0</td>\n",
       "      <td>11.770272</td>\n",
       "      <td>38211962.5</td>\n",
       "      <td>103.0</td>\n",
       "      <td>7.2</td>\n",
       "      <td>181.0</td>\n",
       "      <td>2009.0</td>\n",
       "      <td>1</td>\n",
       "      <td>0</td>\n",
       "      <td>0</td>\n",
       "      <td>...</td>\n",
       "      <td>0</td>\n",
       "      <td>0</td>\n",
       "      <td>0</td>\n",
       "      <td>0</td>\n",
       "      <td>0</td>\n",
       "      <td>0</td>\n",
       "      <td>0</td>\n",
       "      <td>0</td>\n",
       "      <td>0</td>\n",
       "      <td>0</td>\n",
       "    </tr>\n",
       "    <tr>\n",
       "      <th>1</th>\n",
       "      <td>20000000.0</td>\n",
       "      <td>11.770272</td>\n",
       "      <td>38211962.5</td>\n",
       "      <td>103.0</td>\n",
       "      <td>6.9</td>\n",
       "      <td>181.0</td>\n",
       "      <td>2007.0</td>\n",
       "      <td>0</td>\n",
       "      <td>1</td>\n",
       "      <td>0</td>\n",
       "      <td>...</td>\n",
       "      <td>0</td>\n",
       "      <td>0</td>\n",
       "      <td>0</td>\n",
       "      <td>0</td>\n",
       "      <td>0</td>\n",
       "      <td>0</td>\n",
       "      <td>0</td>\n",
       "      <td>0</td>\n",
       "      <td>0</td>\n",
       "      <td>0</td>\n",
       "    </tr>\n",
       "    <tr>\n",
       "      <th>2</th>\n",
       "      <td>20000000.0</td>\n",
       "      <td>11.770272</td>\n",
       "      <td>38211962.5</td>\n",
       "      <td>148.0</td>\n",
       "      <td>6.3</td>\n",
       "      <td>181.0</td>\n",
       "      <td>2015.0</td>\n",
       "      <td>1</td>\n",
       "      <td>0</td>\n",
       "      <td>0</td>\n",
       "      <td>...</td>\n",
       "      <td>0</td>\n",
       "      <td>0</td>\n",
       "      <td>0</td>\n",
       "      <td>0</td>\n",
       "      <td>0</td>\n",
       "      <td>0</td>\n",
       "      <td>0</td>\n",
       "      <td>0</td>\n",
       "      <td>0</td>\n",
       "      <td>1</td>\n",
       "    </tr>\n",
       "  </tbody>\n",
       "</table>\n",
       "<p>3 rows × 68 columns</p>\n",
       "</div>"
      ],
      "text/plain": [
       "       budget  popularity     revenue  runtime  vote_average  vote_count  \\\n",
       "0  20000000.0   11.770272  38211962.5    103.0           7.2       181.0   \n",
       "1  20000000.0   11.770272  38211962.5    103.0           6.9       181.0   \n",
       "2  20000000.0   11.770272  38211962.5    148.0           6.3       181.0   \n",
       "\n",
       "     year  genre_0_Action  genre_0_Adventure  genre_0_Comedy  ...  \\\n",
       "0  2009.0               1                  0               0  ...   \n",
       "1  2007.0               0                  1               0  ...   \n",
       "2  2015.0               1                  0               0  ...   \n",
       "\n",
       "   production_countries_0_Japan  production_countries_0_Kenya  \\\n",
       "0                             0                             0   \n",
       "1                             0                             0   \n",
       "2                             0                             0   \n",
       "\n",
       "   production_countries_0_KyrgyzRepublic  production_countries_0_Luxembourg  \\\n",
       "0                                      0                                  0   \n",
       "1                                      0                                  0   \n",
       "2                                      0                                  0   \n",
       "\n",
       "   production_countries_0_Mexico  production_countries_0_NewZealand  \\\n",
       "0                              0                                  0   \n",
       "1                              0                                  0   \n",
       "2                              0                                  0   \n",
       "\n",
       "   production_countries_0_None  production_countries_0_Romania  \\\n",
       "0                            0                               0   \n",
       "1                            0                               0   \n",
       "2                            0                               0   \n",
       "\n",
       "   production_countries_0_SouthKorea  production_countries_0_UnitedKingdom  \n",
       "0                                  0                                     0  \n",
       "1                                  0                                     0  \n",
       "2                                  0                                     1  \n",
       "\n",
       "[3 rows x 68 columns]"
      ]
     },
     "execution_count": 168,
     "metadata": {},
     "output_type": "execute_result"
    }
   ],
   "source": [
    "df_numcat.head(3)"
   ]
  },
  {
   "cell_type": "code",
   "execution_count": 169,
   "metadata": {
    "colab": {
     "base_uri": "https://localhost:8080/",
     "height": 34
    },
    "colab_type": "code",
    "executionInfo": {
     "elapsed": 74289,
     "status": "ok",
     "timestamp": 1593274543760,
     "user": {
      "displayName": "Mariana Moura",
      "photoUrl": "",
      "userId": "09921903782139644629"
     },
     "user_tz": -60
    },
    "id": "MO9AVxqiAYem",
    "outputId": "68b1b926-43ba-4757-b423-b9856a8755a7"
   },
   "outputs": [
    {
     "data": {
      "text/plain": [
       "(4803, 68)"
      ]
     },
     "execution_count": 169,
     "metadata": {},
     "output_type": "execute_result"
    }
   ],
   "source": [
    "df_numcat.shape"
   ]
  },
  {
   "cell_type": "code",
   "execution_count": 170,
   "metadata": {
    "colab": {},
    "colab_type": "code",
    "executionInfo": {
     "elapsed": 74282,
     "status": "ok",
     "timestamp": 1593274543761,
     "user": {
      "displayName": "Mariana Moura",
      "photoUrl": "",
      "userId": "09921903782139644629"
     },
     "user_tz": -60
    },
    "id": "CTNiiuMs8X2b"
   },
   "outputs": [],
   "source": [
    "features = df_numcat.columns.drop('vote_average')\n",
    "x_pca = df_numcat.loc[:, features].values\n",
    "# Separar a target\n",
    "y_pca = df_numcat.loc[:,['vote_average']].values"
   ]
  },
  {
   "cell_type": "code",
   "execution_count": 171,
   "metadata": {
    "colab": {},
    "colab_type": "code",
    "executionInfo": {
     "elapsed": 74273,
     "status": "ok",
     "timestamp": 1593274543763,
     "user": {
      "displayName": "Mariana Moura",
      "photoUrl": "",
      "userId": "09921903782139644629"
     },
     "user_tz": -60
    },
    "id": "beozmZ_I-RI_"
   },
   "outputs": [],
   "source": [
    "pipeline_pca = Pipeline([\n",
    "                         ('scaler', StandardScaler()),\n",
    "                         ('pca', PCA(n_components=.86)),])"
   ]
  },
  {
   "cell_type": "code",
   "execution_count": 172,
   "metadata": {
    "colab": {
     "base_uri": "https://localhost:8080/",
     "height": 153
    },
    "colab_type": "code",
    "executionInfo": {
     "elapsed": 74498,
     "status": "ok",
     "timestamp": 1593274544025,
     "user": {
      "displayName": "Mariana Moura",
      "photoUrl": "",
      "userId": "09921903782139644629"
     },
     "user_tz": -60
    },
    "id": "1QMggcdf-lVX",
    "outputId": "33f2e69e-90f0-4585-c8e9-ef12dcc39643"
   },
   "outputs": [
    {
     "data": {
      "text/plain": [
       "Pipeline(memory=None,\n",
       "         steps=[('scaler',\n",
       "                 StandardScaler(copy=True, with_mean=True, with_std=True)),\n",
       "                ('pca',\n",
       "                 PCA(copy=True, iterated_power='auto', n_components=0.86,\n",
       "                     random_state=None, svd_solver='auto', tol=0.0,\n",
       "                     whiten=False))],\n",
       "         verbose=False)"
      ]
     },
     "execution_count": 172,
     "metadata": {},
     "output_type": "execute_result"
    }
   ],
   "source": [
    "pipeline_pca.fit(x_pca)"
   ]
  },
  {
   "cell_type": "code",
   "execution_count": 173,
   "metadata": {
    "colab": {
     "base_uri": "https://localhost:8080/",
     "height": 221
    },
    "colab_type": "code",
    "executionInfo": {
     "elapsed": 74469,
     "status": "ok",
     "timestamp": 1593274544027,
     "user": {
      "displayName": "Mariana Moura",
      "photoUrl": "",
      "userId": "09921903782139644629"
     },
     "user_tz": -60
    },
    "id": "7UD-Y6Z4-sPf",
    "outputId": "0d15f308-65c1-414f-b3c7-e2c7dd078f13"
   },
   "outputs": [
    {
     "data": {
      "text/plain": [
       "array([0.05748541, 0.0415632 , 0.02704324, 0.02627453, 0.02548447,\n",
       "       0.02391486, 0.02206662, 0.02105313, 0.02046557, 0.01978633,\n",
       "       0.01864622, 0.01801651, 0.01771906, 0.01737   , 0.01726875,\n",
       "       0.01709106, 0.01686694, 0.01647803, 0.01627589, 0.01611118,\n",
       "       0.01603228, 0.01584054, 0.01574737, 0.01569441, 0.0155878 ,\n",
       "       0.01552692, 0.01543969, 0.0153918 , 0.01532475, 0.01527172,\n",
       "       0.01520346, 0.01500537, 0.01481211, 0.01469017, 0.01454779,\n",
       "       0.01435406, 0.01418015, 0.0139387 , 0.01385634, 0.01376853,\n",
       "       0.01335384, 0.01282035, 0.01246049, 0.01238862, 0.01212438,\n",
       "       0.01181436, 0.0117652 , 0.01165248, 0.0112074 ])"
      ]
     },
     "metadata": {},
     "output_type": "display_data"
    },
    {
     "name": "stdout",
     "output_type": "stream",
     "text": [
      "\n",
      "The 49 principal components contain 86.68 % of the information\n"
     ]
    }
   ],
   "source": [
    "display(pipeline_pca.named_steps[\"pca\"].explained_variance_ratio_)\n",
    "print(\"\")\n",
    "print(\"The\", len(pipeline_pca.named_steps[\"pca\"].explained_variance_ratio_), \"principal components contain\", (pipeline_pca.named_steps[\"pca\"].explained_variance_ratio_.sum() * 100).round(decimals=2),\"% of the information\")"
   ]
  },
  {
   "cell_type": "code",
   "execution_count": 174,
   "metadata": {
    "colab": {},
    "colab_type": "code",
    "executionInfo": {
     "elapsed": 74459,
     "status": "ok",
     "timestamp": 1593274544029,
     "user": {
      "displayName": "Mariana Moura",
      "photoUrl": "",
      "userId": "09921903782139644629"
     },
     "user_tz": -60
    },
    "id": "_wSQnBjS-2wW"
   },
   "outputs": [],
   "source": [
    "# Define a list with the new columns\n",
    "PC = []\n",
    "\n",
    "for i in range(len(pipeline_pca.named_steps[\"pca\"].explained_variance_ratio_)):\n",
    "    \n",
    "    item = 'PC'+str(i)\n",
    "    PC.append(item)"
   ]
  },
  {
   "cell_type": "code",
   "execution_count": 175,
   "metadata": {
    "colab": {
     "base_uri": "https://localhost:8080/",
     "height": 162
    },
    "colab_type": "code",
    "executionInfo": {
     "elapsed": 74438,
     "status": "ok",
     "timestamp": 1593274544031,
     "user": {
      "displayName": "Mariana Moura",
      "photoUrl": "",
      "userId": "09921903782139644629"
     },
     "user_tz": -60
    },
    "id": "zBKV8lkQ--tr",
    "outputId": "01eec277-e4cf-4b08-fa30-8e4bf5e6f188"
   },
   "outputs": [
    {
     "data": {
      "text/html": [
       "<div>\n",
       "<style scoped>\n",
       "    .dataframe tbody tr th:only-of-type {\n",
       "        vertical-align: middle;\n",
       "    }\n",
       "\n",
       "    .dataframe tbody tr th {\n",
       "        vertical-align: top;\n",
       "    }\n",
       "\n",
       "    .dataframe thead th {\n",
       "        text-align: right;\n",
       "    }\n",
       "</style>\n",
       "<table border=\"1\" class=\"dataframe\">\n",
       "  <thead>\n",
       "    <tr style=\"text-align: right;\">\n",
       "      <th></th>\n",
       "      <th>PC0</th>\n",
       "      <th>PC1</th>\n",
       "      <th>PC2</th>\n",
       "      <th>PC3</th>\n",
       "      <th>PC4</th>\n",
       "      <th>PC5</th>\n",
       "      <th>PC6</th>\n",
       "      <th>PC7</th>\n",
       "      <th>PC8</th>\n",
       "      <th>PC9</th>\n",
       "      <th>...</th>\n",
       "      <th>PC40</th>\n",
       "      <th>PC41</th>\n",
       "      <th>PC42</th>\n",
       "      <th>PC43</th>\n",
       "      <th>PC44</th>\n",
       "      <th>PC45</th>\n",
       "      <th>PC46</th>\n",
       "      <th>PC47</th>\n",
       "      <th>PC48</th>\n",
       "      <th>vote_average</th>\n",
       "    </tr>\n",
       "  </thead>\n",
       "  <tbody>\n",
       "    <tr>\n",
       "      <th>0</th>\n",
       "      <td>0.626459</td>\n",
       "      <td>-2.297733</td>\n",
       "      <td>0.127952</td>\n",
       "      <td>2.317667</td>\n",
       "      <td>2.097579</td>\n",
       "      <td>1.446427</td>\n",
       "      <td>-0.782044</td>\n",
       "      <td>-1.411375</td>\n",
       "      <td>-0.338959</td>\n",
       "      <td>0.747811</td>\n",
       "      <td>...</td>\n",
       "      <td>0.354853</td>\n",
       "      <td>1.112160</td>\n",
       "      <td>-0.271206</td>\n",
       "      <td>-0.249906</td>\n",
       "      <td>-0.827896</td>\n",
       "      <td>1.570999</td>\n",
       "      <td>-0.131115</td>\n",
       "      <td>-0.256803</td>\n",
       "      <td>0.464787</td>\n",
       "      <td>7.2</td>\n",
       "    </tr>\n",
       "    <tr>\n",
       "      <th>1</th>\n",
       "      <td>-0.557867</td>\n",
       "      <td>-1.089296</td>\n",
       "      <td>0.233480</td>\n",
       "      <td>-0.100193</td>\n",
       "      <td>0.017652</td>\n",
       "      <td>-1.029216</td>\n",
       "      <td>1.190259</td>\n",
       "      <td>-0.178971</td>\n",
       "      <td>1.622648</td>\n",
       "      <td>0.750715</td>\n",
       "      <td>...</td>\n",
       "      <td>-0.864782</td>\n",
       "      <td>0.390205</td>\n",
       "      <td>-0.479935</td>\n",
       "      <td>-0.016715</td>\n",
       "      <td>-0.649037</td>\n",
       "      <td>0.675608</td>\n",
       "      <td>0.433593</td>\n",
       "      <td>-1.105318</td>\n",
       "      <td>0.703746</td>\n",
       "      <td>6.9</td>\n",
       "    </tr>\n",
       "    <tr>\n",
       "      <th>2</th>\n",
       "      <td>-0.618748</td>\n",
       "      <td>-2.107326</td>\n",
       "      <td>-0.542371</td>\n",
       "      <td>2.924791</td>\n",
       "      <td>0.945632</td>\n",
       "      <td>2.569333</td>\n",
       "      <td>-0.127674</td>\n",
       "      <td>-0.375094</td>\n",
       "      <td>-0.164061</td>\n",
       "      <td>1.029805</td>\n",
       "      <td>...</td>\n",
       "      <td>0.207697</td>\n",
       "      <td>0.737551</td>\n",
       "      <td>0.003148</td>\n",
       "      <td>0.411385</td>\n",
       "      <td>-0.678626</td>\n",
       "      <td>1.146842</td>\n",
       "      <td>1.456895</td>\n",
       "      <td>-0.976155</td>\n",
       "      <td>1.184055</td>\n",
       "      <td>6.3</td>\n",
       "    </tr>\n",
       "  </tbody>\n",
       "</table>\n",
       "<p>3 rows × 50 columns</p>\n",
       "</div>"
      ],
      "text/plain": [
       "        PC0       PC1       PC2       PC3       PC4       PC5       PC6  \\\n",
       "0  0.626459 -2.297733  0.127952  2.317667  2.097579  1.446427 -0.782044   \n",
       "1 -0.557867 -1.089296  0.233480 -0.100193  0.017652 -1.029216  1.190259   \n",
       "2 -0.618748 -2.107326 -0.542371  2.924791  0.945632  2.569333 -0.127674   \n",
       "\n",
       "        PC7       PC8       PC9  ...      PC40      PC41      PC42      PC43  \\\n",
       "0 -1.411375 -0.338959  0.747811  ...  0.354853  1.112160 -0.271206 -0.249906   \n",
       "1 -0.178971  1.622648  0.750715  ... -0.864782  0.390205 -0.479935 -0.016715   \n",
       "2 -0.375094 -0.164061  1.029805  ...  0.207697  0.737551  0.003148  0.411385   \n",
       "\n",
       "       PC44      PC45      PC46      PC47      PC48  vote_average  \n",
       "0 -0.827896  1.570999 -0.131115 -0.256803  0.464787           7.2  \n",
       "1 -0.649037  0.675608  0.433593 -1.105318  0.703746           6.9  \n",
       "2 -0.678626  1.146842  1.456895 -0.976155  1.184055           6.3  \n",
       "\n",
       "[3 rows x 50 columns]"
      ]
     },
     "execution_count": 175,
     "metadata": {},
     "output_type": "execute_result"
    }
   ],
   "source": [
    "comp_principal = pipeline_pca.transform(x_pca)\n",
    "df_comp_principal = pd.DataFrame(data = comp_principal,\n",
    "                                 columns=PC)\n",
    "\n",
    "X_final_pca = pd.concat([df_comp_principal, df_numcat[['vote_average']]], axis=1)\n",
    "X_final_pca.head(3)"
   ]
  },
  {
   "cell_type": "code",
   "execution_count": 176,
   "metadata": {
    "colab": {
     "base_uri": "https://localhost:8080/",
     "height": 34
    },
    "colab_type": "code",
    "executionInfo": {
     "elapsed": 74418,
     "status": "ok",
     "timestamp": 1593274544032,
     "user": {
      "displayName": "Mariana Moura",
      "photoUrl": "",
      "userId": "09921903782139644629"
     },
     "user_tz": -60
    },
    "id": "eWaj2Y5iANUM",
    "outputId": "b3afa751-27b0-44e2-b31a-9b87e3eed9de"
   },
   "outputs": [
    {
     "data": {
      "text/plain": [
       "(4803, 50)"
      ]
     },
     "execution_count": 176,
     "metadata": {},
     "output_type": "execute_result"
    }
   ],
   "source": [
    "X_final_pca.shape"
   ]
  },
  {
   "cell_type": "markdown",
   "metadata": {
    "colab_type": "text",
    "id": "nG6kjFMlAMI-"
   },
   "source": [
    "After reducing the number of features using the PCA method (went from 68 to 49 (+ target) variables), we will apply the models and compare the results. As we reduced the number of variables, the data's variance also became less resulted in lower scores. The question is: are they acceptable?"
   ]
  },
  {
   "cell_type": "code",
   "execution_count": 177,
   "metadata": {
    "colab": {},
    "colab_type": "code",
    "executionInfo": {
     "elapsed": 74413,
     "status": "ok",
     "timestamp": 1593274544033,
     "user": {
      "displayName": "Mariana Moura",
      "photoUrl": "",
      "userId": "09921903782139644629"
     },
     "user_tz": -60
    },
    "id": "G9T3nH-C9FTE"
   },
   "outputs": [],
   "source": [
    "train_set, test_set = train_test_split(X_final_pca, test_size = 0.2, random_state = seed)\n",
    "\n",
    "X_train = train_set.drop(['vote_average'], axis = 1)\n",
    "y_train = train_set['vote_average']\n",
    "\n",
    "X_test = test_set.drop(['vote_average'], axis = 1)\n",
    "y_test = test_set['vote_average']"
   ]
  },
  {
   "cell_type": "markdown",
   "metadata": {
    "colab_type": "text",
    "id": "vi8ioHTDAxZy"
   },
   "source": [
    "## Multiple Linear Regression (MLR)"
   ]
  },
  {
   "cell_type": "code",
   "execution_count": 178,
   "metadata": {
    "colab": {
     "base_uri": "https://localhost:8080/",
     "height": 51
    },
    "colab_type": "code",
    "executionInfo": {
     "elapsed": 74392,
     "status": "ok",
     "timestamp": 1593274544034,
     "user": {
      "displayName": "Mariana Moura",
      "photoUrl": "",
      "userId": "09921903782139644629"
     },
     "user_tz": -60
    },
    "id": "lqBdY6blAyEL",
    "outputId": "221e985a-328b-48eb-f399-6502ae63e79f"
   },
   "outputs": [
    {
     "name": "stdout",
     "output_type": "stream",
     "text": [
      "CPU times: user 27.8 ms, sys: 4.84 ms, total: 32.7 ms\n",
      "Wall time: 12.9 ms\n"
     ]
    }
   ],
   "source": [
    "%%time\n",
    "\n",
    "mlr3 = LinearRegression().fit(X_train, y_train)\n",
    "\n",
    "y_preds3 = mlr3.predict(X_test) \n",
    "\n",
    "r2_mlr3 = r2_score(y_test, y_preds3)"
   ]
  },
  {
   "cell_type": "code",
   "execution_count": 179,
   "metadata": {
    "colab": {
     "base_uri": "https://localhost:8080/",
     "height": 34
    },
    "colab_type": "code",
    "executionInfo": {
     "elapsed": 74374,
     "status": "ok",
     "timestamp": 1593274544035,
     "user": {
      "displayName": "Mariana Moura",
      "photoUrl": "",
      "userId": "09921903782139644629"
     },
     "user_tz": -60
    },
    "id": "k0xOo8mWBQnB",
    "outputId": "08ffdcad-1f74-4526-b006-c2aedddf1cd7"
   },
   "outputs": [
    {
     "data": {
      "text/plain": [
       "0.2624549070742431"
      ]
     },
     "execution_count": 179,
     "metadata": {},
     "output_type": "execute_result"
    }
   ],
   "source": [
    "r2_mlr3"
   ]
  },
  {
   "cell_type": "code",
   "execution_count": 180,
   "metadata": {
    "colab": {
     "base_uri": "https://localhost:8080/",
     "height": 34
    },
    "colab_type": "code",
    "executionInfo": {
     "elapsed": 74347,
     "status": "ok",
     "timestamp": 1593274544037,
     "user": {
      "displayName": "Mariana Moura",
      "photoUrl": "",
      "userId": "09921903782139644629"
     },
     "user_tz": -60
    },
    "id": "qEtB_X_ZBTuz",
    "outputId": "a6b03b26-e993-4d1a-bc92-7252e170d1c9"
   },
   "outputs": [
    {
     "data": {
      "text/plain": [
       "0.252924392951521"
      ]
     },
     "execution_count": 180,
     "metadata": {},
     "output_type": "execute_result"
    }
   ],
   "source": [
    "adj_r2_mlr3 = adjusted_r2(r2_mlr3, X_train)\n",
    "thirdMLR = (adj_r2_mlr3*100).round(decimals=2)\n",
    "\n",
    "adj_r2_mlr3"
   ]
  },
  {
   "cell_type": "code",
   "execution_count": 181,
   "metadata": {
    "colab": {
     "base_uri": "https://localhost:8080/",
     "height": 659
    },
    "colab_type": "code",
    "executionInfo": {
     "elapsed": 75464,
     "status": "ok",
     "timestamp": 1593274545187,
     "user": {
      "displayName": "Mariana Moura",
      "photoUrl": "",
      "userId": "09921903782139644629"
     },
     "user_tz": -60
    },
    "id": "Gn2QNIBqBZZl",
    "outputId": "8227232f-6b69-4ba0-dd77-f29189f87c34"
   },
   "outputs": [
    {
     "data": {
      "text/html": [
       "<div>\n",
       "<style scoped>\n",
       "    .dataframe tbody tr th:only-of-type {\n",
       "        vertical-align: middle;\n",
       "    }\n",
       "\n",
       "    .dataframe tbody tr th {\n",
       "        vertical-align: top;\n",
       "    }\n",
       "\n",
       "    .dataframe thead th {\n",
       "        text-align: right;\n",
       "    }\n",
       "</style>\n",
       "<table border=\"1\" class=\"dataframe\">\n",
       "  <thead>\n",
       "    <tr style=\"text-align: right;\">\n",
       "      <th></th>\n",
       "      <th>0</th>\n",
       "    </tr>\n",
       "    <tr>\n",
       "      <th>vote_average</th>\n",
       "      <th></th>\n",
       "    </tr>\n",
       "  </thead>\n",
       "  <tbody>\n",
       "    <tr>\n",
       "      <th>5.2</th>\n",
       "      <td>5.431643</td>\n",
       "    </tr>\n",
       "    <tr>\n",
       "      <th>5.7</th>\n",
       "      <td>5.798960</td>\n",
       "    </tr>\n",
       "    <tr>\n",
       "      <th>5.5</th>\n",
       "      <td>6.158717</td>\n",
       "    </tr>\n",
       "    <tr>\n",
       "      <th>6.7</th>\n",
       "      <td>7.080228</td>\n",
       "    </tr>\n",
       "    <tr>\n",
       "      <th>7.4</th>\n",
       "      <td>6.280497</td>\n",
       "    </tr>\n",
       "  </tbody>\n",
       "</table>\n",
       "</div>"
      ],
      "text/plain": [
       "                     0\n",
       "vote_average          \n",
       "5.2           5.431643\n",
       "5.7           5.798960\n",
       "5.5           6.158717\n",
       "6.7           7.080228\n",
       "7.4           6.280497"
      ]
     },
     "metadata": {},
     "output_type": "display_data"
    },
    {
     "data": {
      "image/png": "[encoded data removed]",
      "text/plain": [
       "<Figure size 432x432 with 3 Axes>"
      ]
     },
     "metadata": {
      "needs_background": "light"
     },
     "output_type": "display_data"
    }
   ],
   "source": [
    "residualsMLR3 = y_preds3 - y_test\n",
    "sns.jointplot(y_preds3, residualsMLR3);\n",
    "display(pd.DataFrame(y_preds3, y_test).head(5))"
   ]
  },
  {
   "cell_type": "markdown",
   "metadata": {
    "colab_type": "text",
    "id": "91PEYBSxBxoW"
   },
   "source": [
    "## Non Linear Multiple Regression (NLMR)"
   ]
  },
  {
   "cell_type": "code",
   "execution_count": 182,
   "metadata": {
    "colab": {},
    "colab_type": "code",
    "executionInfo": {
     "elapsed": 75443,
     "status": "ok",
     "timestamp": 1593274545189,
     "user": {
      "displayName": "Mariana Moura",
      "photoUrl": "",
      "userId": "09921903782139644629"
     },
     "user_tz": -60
    },
    "id": "kMG_ix_PBy8U"
   },
   "outputs": [],
   "source": [
    "nonlinear_model3 = Pipeline( steps = [('poly', PolynomialFeatures(degree = 2)),\n",
    "                                     ('linear', LinearRegression())])"
   ]
  },
  {
   "cell_type": "code",
   "execution_count": 183,
   "metadata": {
    "colab": {
     "base_uri": "https://localhost:8080/",
     "height": 51
    },
    "colab_type": "code",
    "executionInfo": {
     "elapsed": 76868,
     "status": "ok",
     "timestamp": 1593274546651,
     "user": {
      "displayName": "Mariana Moura",
      "photoUrl": "",
      "userId": "09921903782139644629"
     },
     "user_tz": -60
    },
    "id": "G0y8B8ySB7If",
    "outputId": "41177530-407d-4a98-db32-3aa4feb95736"
   },
   "outputs": [
    {
     "name": "stdout",
     "output_type": "stream",
     "text": [
      "CPU times: user 4.21 s, sys: 112 ms, total: 4.32 s\n",
      "Wall time: 1.24 s\n"
     ]
    }
   ],
   "source": [
    "%%time\n",
    "nlmr3 = nonlinear_model3.fit(X_train, y_train)\n",
    "\n",
    "preds_multiple_poly3 = nlmr3.predict(X_test)\n",
    "\n",
    "r2_multiple_poly3 = r2_score(y_test, preds_multiple_poly3)"
   ]
  },
  {
   "cell_type": "code",
   "execution_count": 184,
   "metadata": {
    "colab": {
     "base_uri": "https://localhost:8080/",
     "height": 34
    },
    "colab_type": "code",
    "executionInfo": {
     "elapsed": 76834,
     "status": "ok",
     "timestamp": 1593274546656,
     "user": {
      "displayName": "Mariana Moura",
      "photoUrl": "",
      "userId": "09921903782139644629"
     },
     "user_tz": -60
    },
    "id": "eWtiT3tcB7Gf",
    "outputId": "0abdb4f5-58cd-4e9d-ade4-965af4c04e2b"
   },
   "outputs": [
    {
     "data": {
      "text/plain": [
       "-2.3300052584453838e+21"
      ]
     },
     "execution_count": 184,
     "metadata": {},
     "output_type": "execute_result"
    }
   ],
   "source": [
    "r2_multiple_poly3 "
   ]
  },
  {
   "cell_type": "code",
   "execution_count": 185,
   "metadata": {
    "colab": {
     "base_uri": "https://localhost:8080/",
     "height": 34
    },
    "colab_type": "code",
    "executionInfo": {
     "elapsed": 76814,
     "status": "ok",
     "timestamp": 1593274546658,
     "user": {
      "displayName": "Mariana Moura",
      "photoUrl": "",
      "userId": "09921903782139644629"
     },
     "user_tz": -60
    },
    "id": "DvQOEIigB7Dv",
    "outputId": "c29419c0-491f-4cb3-d107-9fe1733cacf2"
   },
   "outputs": [
    {
     "data": {
      "text/plain": [
       "-2.3601134487575737e+21"
      ]
     },
     "execution_count": 185,
     "metadata": {},
     "output_type": "execute_result"
    }
   ],
   "source": [
    "adj_r2_multiple_poly3 = adjusted_r2(r2_multiple_poly3, X_train)\n",
    "thirdNLR = (adj_r2_multiple_poly3*100).round(decimals=2)\n",
    "\n",
    "adj_r2_multiple_poly3"
   ]
  },
  {
   "cell_type": "code",
   "execution_count": 186,
   "metadata": {
    "colab": {
     "base_uri": "https://localhost:8080/",
     "height": 672
    },
    "colab_type": "code",
    "executionInfo": {
     "elapsed": 77721,
     "status": "ok",
     "timestamp": 1593274547600,
     "user": {
      "displayName": "Mariana Moura",
      "photoUrl": "",
      "userId": "09921903782139644629"
     },
     "user_tz": -60
    },
    "id": "m9NRTEZlCNjQ",
    "outputId": "96bf0063-0ef9-4132-ca10-83fb7c16b175"
   },
   "outputs": [
    {
     "data": {
      "text/html": [
       "<div>\n",
       "<style scoped>\n",
       "    .dataframe tbody tr th:only-of-type {\n",
       "        vertical-align: middle;\n",
       "    }\n",
       "\n",
       "    .dataframe tbody tr th {\n",
       "        vertical-align: top;\n",
       "    }\n",
       "\n",
       "    .dataframe thead th {\n",
       "        text-align: right;\n",
       "    }\n",
       "</style>\n",
       "<table border=\"1\" class=\"dataframe\">\n",
       "  <thead>\n",
       "    <tr style=\"text-align: right;\">\n",
       "      <th></th>\n",
       "      <th>0</th>\n",
       "    </tr>\n",
       "    <tr>\n",
       "      <th>vote_average</th>\n",
       "      <th></th>\n",
       "    </tr>\n",
       "  </thead>\n",
       "  <tbody>\n",
       "    <tr>\n",
       "      <th>5.2</th>\n",
       "      <td>5.185962</td>\n",
       "    </tr>\n",
       "    <tr>\n",
       "      <th>5.7</th>\n",
       "      <td>6.775121</td>\n",
       "    </tr>\n",
       "    <tr>\n",
       "      <th>5.5</th>\n",
       "      <td>5.965755</td>\n",
       "    </tr>\n",
       "    <tr>\n",
       "      <th>6.7</th>\n",
       "      <td>6.533083</td>\n",
       "    </tr>\n",
       "    <tr>\n",
       "      <th>7.4</th>\n",
       "      <td>5.833849</td>\n",
       "    </tr>\n",
       "  </tbody>\n",
       "</table>\n",
       "</div>"
      ],
      "text/plain": [
       "                     0\n",
       "vote_average          \n",
       "5.2           5.185962\n",
       "5.7           6.775121\n",
       "5.5           5.965755\n",
       "6.7           6.533083\n",
       "7.4           5.833849"
      ]
     },
     "metadata": {},
     "output_type": "display_data"
    },
    {
     "data": {
      "image/png": "[encoded data removed]",
      "text/plain": [
       "<Figure size 432x432 with 3 Axes>"
      ]
     },
     "metadata": {
      "needs_background": "light"
     },
     "output_type": "display_data"
    }
   ],
   "source": [
    "residualsNLMR3 = preds_multiple_poly3 - y_test\n",
    "sns.jointplot(preds_multiple_poly3, residualsNLMR3);\n",
    "display(pd.DataFrame(preds_multiple_poly3, y_test).head(5))"
   ]
  },
  {
   "cell_type": "markdown",
   "metadata": {
    "colab_type": "text",
    "id": "hNIndyPrCv-A"
   },
   "source": [
    "## KNN"
   ]
  },
  {
   "cell_type": "code",
   "execution_count": 187,
   "metadata": {
    "colab": {
     "base_uri": "https://localhost:8080/",
     "height": 51
    },
    "colab_type": "code",
    "executionInfo": {
     "elapsed": 78097,
     "status": "ok",
     "timestamp": 1593274547992,
     "user": {
      "displayName": "Mariana Moura",
      "photoUrl": "",
      "userId": "09921903782139644629"
     },
     "user_tz": -60
    },
    "id": "9LnbLczADB8K",
    "outputId": "e17e0512-10fa-4d7a-e58b-07b292d50065"
   },
   "outputs": [
    {
     "name": "stdout",
     "output_type": "stream",
     "text": [
      "CPU times: user 383 ms, sys: 2.89 ms, total: 386 ms\n",
      "Wall time: 384 ms\n"
     ]
    }
   ],
   "source": [
    "%%time\n",
    "\n",
    "knn3 = KNeighborsRegressor(n_neighbors = 21).fit(X_train, y_train)\n",
    "\n",
    "y_preds_knn3 = knn3.predict(X_test)\n",
    "\n",
    "r2_score_knn3 = r2_score(y_test, y_preds_knn3)\n",
    "\n",
    "thirdKNN = (r2_score_knn3*100).round(decimals=2)"
   ]
  },
  {
   "cell_type": "code",
   "execution_count": 188,
   "metadata": {
    "colab": {
     "base_uri": "https://localhost:8080/",
     "height": 34
    },
    "colab_type": "code",
    "executionInfo": {
     "elapsed": 78082,
     "status": "ok",
     "timestamp": 1593274547995,
     "user": {
      "displayName": "Mariana Moura",
      "photoUrl": "",
      "userId": "09921903782139644629"
     },
     "user_tz": -60
    },
    "id": "kv85D_YJDJYo",
    "outputId": "33a4ee5b-a285-43e6-ac8e-791313c068e3"
   },
   "outputs": [
    {
     "data": {
      "text/plain": [
       "0.2773844718706613"
      ]
     },
     "execution_count": 188,
     "metadata": {},
     "output_type": "execute_result"
    }
   ],
   "source": [
    "r2_score_knn3"
   ]
  },
  {
   "cell_type": "code",
   "execution_count": 189,
   "metadata": {
    "colab": {
     "base_uri": "https://localhost:8080/",
     "height": 659
    },
    "colab_type": "code",
    "executionInfo": {
     "elapsed": 79342,
     "status": "ok",
     "timestamp": 1593274549271,
     "user": {
      "displayName": "Mariana Moura",
      "photoUrl": "",
      "userId": "09921903782139644629"
     },
     "user_tz": -60
    },
    "id": "NH9Kh-JcDJ3g",
    "outputId": "1ed32de0-8d3f-4466-ad12-0fbbc276ff6f"
   },
   "outputs": [
    {
     "data": {
      "text/html": [
       "<div>\n",
       "<style scoped>\n",
       "    .dataframe tbody tr th:only-of-type {\n",
       "        vertical-align: middle;\n",
       "    }\n",
       "\n",
       "    .dataframe tbody tr th {\n",
       "        vertical-align: top;\n",
       "    }\n",
       "\n",
       "    .dataframe thead th {\n",
       "        text-align: right;\n",
       "    }\n",
       "</style>\n",
       "<table border=\"1\" class=\"dataframe\">\n",
       "  <thead>\n",
       "    <tr style=\"text-align: right;\">\n",
       "      <th></th>\n",
       "      <th>0</th>\n",
       "    </tr>\n",
       "    <tr>\n",
       "      <th>vote_average</th>\n",
       "      <th></th>\n",
       "    </tr>\n",
       "  </thead>\n",
       "  <tbody>\n",
       "    <tr>\n",
       "      <th>5.2</th>\n",
       "      <td>6.100000</td>\n",
       "    </tr>\n",
       "    <tr>\n",
       "      <th>5.7</th>\n",
       "      <td>5.928571</td>\n",
       "    </tr>\n",
       "    <tr>\n",
       "      <th>5.5</th>\n",
       "      <td>5.971429</td>\n",
       "    </tr>\n",
       "    <tr>\n",
       "      <th>6.7</th>\n",
       "      <td>6.914286</td>\n",
       "    </tr>\n",
       "    <tr>\n",
       "      <th>7.4</th>\n",
       "      <td>6.209524</td>\n",
       "    </tr>\n",
       "  </tbody>\n",
       "</table>\n",
       "</div>"
      ],
      "text/plain": [
       "                     0\n",
       "vote_average          \n",
       "5.2           6.100000\n",
       "5.7           5.928571\n",
       "5.5           5.971429\n",
       "6.7           6.914286\n",
       "7.4           6.209524"
      ]
     },
     "metadata": {},
     "output_type": "display_data"
    },
    {
     "data": {
      "image/png": "[encoded data removed]",
      "text/plain": [
       "<Figure size 432x432 with 3 Axes>"
      ]
     },
     "metadata": {
      "needs_background": "light"
     },
     "output_type": "display_data"
    }
   ],
   "source": [
    "residualsKNN3 = y_preds_knn3 - y_test\n",
    "sns.jointplot(y_preds_knn3, residualsKNN3);\n",
    "display(pd.DataFrame(y_preds_knn3, y_test).head(5))"
   ]
  },
  {
   "cell_type": "markdown",
   "metadata": {
    "colab_type": "text",
    "id": "V7E_lGKwDeiB"
   },
   "source": [
    "## SVR"
   ]
  },
  {
   "cell_type": "code",
   "execution_count": 190,
   "metadata": {
    "colab": {
     "base_uri": "https://localhost:8080/",
     "height": 51
    },
    "colab_type": "code",
    "executionInfo": {
     "elapsed": 81065,
     "status": "ok",
     "timestamp": 1593274551012,
     "user": {
      "displayName": "Mariana Moura",
      "photoUrl": "",
      "userId": "09921903782139644629"
     },
     "user_tz": -60
    },
    "id": "iStO3Y_NDg-N",
    "outputId": "4e10b72b-177c-48bb-e0d7-0e52417b6595"
   },
   "outputs": [
    {
     "name": "stdout",
     "output_type": "stream",
     "text": [
      "CPU times: user 1.37 s, sys: 37.9 ms, total: 1.41 s\n",
      "Wall time: 1.41 s\n"
     ]
    }
   ],
   "source": [
    "%%time\n",
    "svr3 = SVR().fit(X_train, y_train)\n",
    "\n",
    "y_preds_svr3 = svr3.predict(X_test)\n",
    "\n",
    "r2_score_svr3 = r2_score(y_test, y_preds_svr3)\n",
    "thirdSVR = ((r2_score_svr3)*100).round(decimals=2)"
   ]
  },
  {
   "cell_type": "code",
   "execution_count": 191,
   "metadata": {
    "colab": {
     "base_uri": "https://localhost:8080/",
     "height": 34
    },
    "colab_type": "code",
    "executionInfo": {
     "elapsed": 81052,
     "status": "ok",
     "timestamp": 1593274551017,
     "user": {
      "displayName": "Mariana Moura",
      "photoUrl": "",
      "userId": "09921903782139644629"
     },
     "user_tz": -60
    },
    "id": "b3liNUNmDlck",
    "outputId": "48ecf550-c16b-447b-92df-7a275ead8975"
   },
   "outputs": [
    {
     "data": {
      "text/plain": [
       "0.36051607210313896"
      ]
     },
     "execution_count": 191,
     "metadata": {},
     "output_type": "execute_result"
    }
   ],
   "source": [
    "r2_score_svr3 "
   ]
  },
  {
   "cell_type": "code",
   "execution_count": 192,
   "metadata": {
    "colab": {
     "base_uri": "https://localhost:8080/",
     "height": 721
    },
    "colab_type": "code",
    "executionInfo": {
     "elapsed": 82057,
     "status": "ok",
     "timestamp": 1593274552040,
     "user": {
      "displayName": "Mariana Moura",
      "photoUrl": "",
      "userId": "09921903782139644629"
     },
     "user_tz": -60
    },
    "id": "uWnWcCMKDtBw",
    "outputId": "5893248a-05c3-4740-908b-896737986eb5"
   },
   "outputs": [
    {
     "data": {
      "text/html": [
       "<div>\n",
       "<style scoped>\n",
       "    .dataframe tbody tr th:only-of-type {\n",
       "        vertical-align: middle;\n",
       "    }\n",
       "\n",
       "    .dataframe tbody tr th {\n",
       "        vertical-align: top;\n",
       "    }\n",
       "\n",
       "    .dataframe thead th {\n",
       "        text-align: right;\n",
       "    }\n",
       "</style>\n",
       "<table border=\"1\" class=\"dataframe\">\n",
       "  <thead>\n",
       "    <tr style=\"text-align: right;\">\n",
       "      <th></th>\n",
       "      <th>0</th>\n",
       "    </tr>\n",
       "    <tr>\n",
       "      <th>vote_average</th>\n",
       "      <th></th>\n",
       "    </tr>\n",
       "  </thead>\n",
       "  <tbody>\n",
       "    <tr>\n",
       "      <th>5.2</th>\n",
       "      <td>5.773017</td>\n",
       "    </tr>\n",
       "    <tr>\n",
       "      <th>5.7</th>\n",
       "      <td>6.256924</td>\n",
       "    </tr>\n",
       "    <tr>\n",
       "      <th>5.5</th>\n",
       "      <td>6.002428</td>\n",
       "    </tr>\n",
       "    <tr>\n",
       "      <th>6.7</th>\n",
       "      <td>7.021895</td>\n",
       "    </tr>\n",
       "    <tr>\n",
       "      <th>7.4</th>\n",
       "      <td>5.931147</td>\n",
       "    </tr>\n",
       "    <tr>\n",
       "      <th>5.5</th>\n",
       "      <td>6.278742</td>\n",
       "    </tr>\n",
       "    <tr>\n",
       "      <th>6.7</th>\n",
       "      <td>7.160499</td>\n",
       "    </tr>\n",
       "  </tbody>\n",
       "</table>\n",
       "</div>"
      ],
      "text/plain": [
       "                     0\n",
       "vote_average          \n",
       "5.2           5.773017\n",
       "5.7           6.256924\n",
       "5.5           6.002428\n",
       "6.7           7.021895\n",
       "7.4           5.931147\n",
       "5.5           6.278742\n",
       "6.7           7.160499"
      ]
     },
     "execution_count": 192,
     "metadata": {},
     "output_type": "execute_result"
    },
    {
     "data": {
      "image/png": "[encoded data removed]",
      "text/plain": [
       "<Figure size 432x432 with 3 Axes>"
      ]
     },
     "metadata": {
      "needs_background": "light"
     },
     "output_type": "display_data"
    }
   ],
   "source": [
    "residualsSVR3 = y_preds_svr3 - y_test\n",
    "sns.jointplot(y_preds_svr3, residualsSVR3);\n",
    "showSVR = pd.DataFrame(y_preds_svr3,y_test)\n",
    "showSVR.head(7)"
   ]
  },
  {
   "cell_type": "markdown",
   "metadata": {
    "colab_type": "text",
    "id": "fw1f0flNDzzG"
   },
   "source": [
    "## Random Forest Regressor"
   ]
  },
  {
   "cell_type": "code",
   "execution_count": 193,
   "metadata": {
    "colab": {
     "base_uri": "https://localhost:8080/",
     "height": 51
    },
    "colab_type": "code",
    "executionInfo": {
     "elapsed": 97519,
     "status": "ok",
     "timestamp": 1593274567518,
     "user": {
      "displayName": "Mariana Moura",
      "photoUrl": "",
      "userId": "09921903782139644629"
     },
     "user_tz": -60
    },
    "id": "XWeQoCWLD3Wj",
    "outputId": "8a1994ad-2a43-43e8-967e-85e23055e7f6"
   },
   "outputs": [
    {
     "name": "stdout",
     "output_type": "stream",
     "text": [
      "CPU times: user 12.6 s, sys: 31.6 ms, total: 12.6 s\n",
      "Wall time: 12.6 s\n"
     ]
    }
   ],
   "source": [
    "%%time\n",
    "rfr3 = RandomForestRegressor(random_state = seed).fit(X_train, y_train)\n",
    "\n",
    "score_rfr3 = rfr3.score(X_test, y_test)\n",
    "\n",
    "thirdRFR = ((score_rfr3)*100).round(decimals=2)"
   ]
  },
  {
   "cell_type": "code",
   "execution_count": 194,
   "metadata": {
    "colab": {
     "base_uri": "https://localhost:8080/",
     "height": 34
    },
    "colab_type": "code",
    "executionInfo": {
     "elapsed": 97497,
     "status": "ok",
     "timestamp": 1593274567520,
     "user": {
      "displayName": "Mariana Moura",
      "photoUrl": "",
      "userId": "09921903782139644629"
     },
     "user_tz": -60
    },
    "id": "y7dyTXWwED9R",
    "outputId": "2573e44e-a3dc-4e5b-f084-b4e507522209"
   },
   "outputs": [
    {
     "data": {
      "text/plain": [
       "0.2895276837882701"
      ]
     },
     "execution_count": 194,
     "metadata": {},
     "output_type": "execute_result"
    }
   ],
   "source": [
    "score_rfr3"
   ]
  },
  {
   "cell_type": "code",
   "execution_count": 195,
   "metadata": {
    "colab": {
     "base_uri": "https://localhost:8080/",
     "height": 867
    },
    "colab_type": "code",
    "executionInfo": {
     "elapsed": 97478,
     "status": "ok",
     "timestamp": 1593274567523,
     "user": {
      "displayName": "Mariana Moura",
      "photoUrl": "",
      "userId": "09921903782139644629"
     },
     "user_tz": -60
    },
    "id": "Ibtt2KdtEFDu",
    "outputId": "02aa4a0e-7ce9-4b5a-c787-7426b73cbae0"
   },
   "outputs": [
    {
     "data": {
      "text/plain": [
       "PC0     0.118195\n",
       "PC2     0.061842\n",
       "PC4     0.054916\n",
       "PC44    0.035735\n",
       "PC6     0.033456\n",
       "PC8     0.027734\n",
       "PC46    0.025070\n",
       "PC47    0.023997\n",
       "PC7     0.023665\n",
       "PC48    0.023548\n",
       "PC5     0.021274\n",
       "PC41    0.020575\n",
       "PC36    0.019683\n",
       "PC13    0.019362\n",
       "PC45    0.018295\n",
       "PC42    0.017490\n",
       "PC3     0.017096\n",
       "PC38    0.016328\n",
       "PC15    0.016321\n",
       "PC11    0.016077\n",
       "PC18    0.015812\n",
       "PC20    0.015416\n",
       "PC9     0.015363\n",
       "PC22    0.015343\n",
       "PC35    0.015228\n",
       "PC14    0.015215\n",
       "PC12    0.014881\n",
       "PC33    0.014720\n",
       "PC29    0.014700\n",
       "PC43    0.014507\n",
       "PC1     0.014370\n",
       "PC28    0.014270\n",
       "PC16    0.013741\n",
       "PC17    0.013547\n",
       "PC24    0.013473\n",
       "PC19    0.013450\n",
       "PC34    0.013381\n",
       "PC23    0.012799\n",
       "PC25    0.012740\n",
       "PC37    0.012608\n",
       "PC40    0.012384\n",
       "PC39    0.012202\n",
       "PC21    0.012028\n",
       "PC31    0.011932\n",
       "PC10    0.011671\n",
       "PC30    0.011181\n",
       "PC27    0.010985\n",
       "PC32    0.010748\n",
       "PC26    0.010644\n",
       "dtype: float64"
      ]
     },
     "execution_count": 195,
     "metadata": {},
     "output_type": "execute_result"
    }
   ],
   "source": [
    "feature_imp_rfr3 = pd.Series(rfr3.feature_importances_,index = X_train.columns).sort_values(ascending=False)\n",
    "feature_imp_rfr3"
   ]
  },
  {
   "cell_type": "markdown",
   "metadata": {
    "colab_type": "text",
    "id": "3N0IZG2mEJS_"
   },
   "source": [
    "## Neural Networks"
   ]
  },
  {
   "cell_type": "code",
   "execution_count": 196,
   "metadata": {
    "colab": {
     "base_uri": "https://localhost:8080/",
     "height": 51
    },
    "colab_type": "code",
    "executionInfo": {
     "elapsed": 104533,
     "status": "ok",
     "timestamp": 1593274574599,
     "user": {
      "displayName": "Mariana Moura",
      "photoUrl": "",
      "userId": "09921903782139644629"
     },
     "user_tz": -60
    },
    "id": "dFBsJmJNEN7h",
    "outputId": "1c6423ed-ca33-426a-dea0-3029c1281015"
   },
   "outputs": [
    {
     "name": "stdout",
     "output_type": "stream",
     "text": [
      "CPU times: user 23.4 s, sys: 429 ms, total: 23.8 s\n",
      "Wall time: 6.01 s\n"
     ]
    }
   ],
   "source": [
    "%%time\n",
    "nn3 = MLPRegressor(random_state = seed, \n",
    "                   max_iter = 1000).fit(X_train, y_train)\n",
    "\n",
    "score_nn3 = nn3.score(X_test, y_test)\n",
    "\n",
    "thirdNN = (score_nn3*100).round(decimals=2) "
   ]
  },
  {
   "cell_type": "code",
   "execution_count": 197,
   "metadata": {
    "colab": {
     "base_uri": "https://localhost:8080/",
     "height": 34
    },
    "colab_type": "code",
    "executionInfo": {
     "elapsed": 104475,
     "status": "ok",
     "timestamp": 1593274574601,
     "user": {
      "displayName": "Mariana Moura",
      "photoUrl": "",
      "userId": "09921903782139644629"
     },
     "user_tz": -60
    },
    "id": "Zm2HQr9sEjid",
    "outputId": "95d49b50-77c6-4eff-bdbc-5fdb537f9bb0"
   },
   "outputs": [
    {
     "data": {
      "text/plain": [
       "0.12357026282832684"
      ]
     },
     "execution_count": 197,
     "metadata": {},
     "output_type": "execute_result"
    }
   ],
   "source": [
    "score_nn3"
   ]
  },
  {
   "cell_type": "markdown",
   "metadata": {
    "colab_type": "text",
    "id": "cwLlKypGEx1i"
   },
   "source": [
    "---"
   ]
  },
  {
   "cell_type": "markdown",
   "metadata": {
    "colab_type": "text",
    "id": "Kh_Iy0HNExBB"
   },
   "source": [
    "## Results comparison"
   ]
  },
  {
   "cell_type": "code",
   "execution_count": 198,
   "metadata": {
    "colab": {
     "base_uri": "https://localhost:8080/",
     "height": 1000
    },
    "colab_type": "code",
    "executionInfo": {
     "elapsed": 1377,
     "status": "ok",
     "timestamp": 1593275438213,
     "user": {
      "displayName": "Mariana Moura",
      "photoUrl": "",
      "userId": "09921903782139644629"
     },
     "user_tz": -60
    },
    "id": "C_O7tvfCFagK",
    "outputId": "623fd68c-2231-4e33-d1a1-fdbc6de2c924"
   },
   "outputs": [
    {
     "data": {
      "image/png": "[encoded data removed]",
      "text/plain": [
       "<Figure size 864x576 with 1 Axes>"
      ]
     },
     "metadata": {
      "needs_background": "light"
     },
     "output_type": "display_data"
    },
    {
     "data": {
      "text/html": [
       "<div>\n",
       "<style scoped>\n",
       "    .dataframe tbody tr th:only-of-type {\n",
       "        vertical-align: middle;\n",
       "    }\n",
       "\n",
       "    .dataframe tbody tr th {\n",
       "        vertical-align: top;\n",
       "    }\n",
       "\n",
       "    .dataframe thead th {\n",
       "        text-align: right;\n",
       "    }\n",
       "</style>\n",
       "<table border=\"1\" class=\"dataframe\">\n",
       "  <thead>\n",
       "    <tr style=\"text-align: right;\">\n",
       "      <th>Algorithm</th>\n",
       "      <th>#1</th>\n",
       "      <th>#2</th>\n",
       "      <th>#3</th>\n",
       "    </tr>\n",
       "  </thead>\n",
       "  <tbody>\n",
       "    <tr>\n",
       "      <th>Linear Multiple Regression (LR)</th>\n",
       "      <td>20.31</td>\n",
       "      <td>33.41</td>\n",
       "      <td>25.29</td>\n",
       "    </tr>\n",
       "    <tr>\n",
       "      <th>Non Linear Multiple Regression (NLR)</th>\n",
       "      <td>24.79</td>\n",
       "      <td>34.56</td>\n",
       "      <td>NaN</td>\n",
       "    </tr>\n",
       "    <tr>\n",
       "      <th>KNearest Neighbour (KNN)</th>\n",
       "      <td>27.78</td>\n",
       "      <td>24.62</td>\n",
       "      <td>27.74</td>\n",
       "    </tr>\n",
       "    <tr>\n",
       "      <th>Support Vector Regression (SVR)</th>\n",
       "      <td>25.46</td>\n",
       "      <td>36.4</td>\n",
       "      <td>36.05</td>\n",
       "    </tr>\n",
       "    <tr>\n",
       "      <th>Random Forest (RF)</th>\n",
       "      <td>56.64</td>\n",
       "      <td>60.92</td>\n",
       "      <td>28.95</td>\n",
       "    </tr>\n",
       "    <tr>\n",
       "      <th>Neural Networks (NN)</th>\n",
       "      <td>30.54</td>\n",
       "      <td>1.95</td>\n",
       "      <td>12.36</td>\n",
       "    </tr>\n",
       "  </tbody>\n",
       "</table>\n",
       "</div>"
      ],
      "text/plain": [
       "Algorithm                                #1     #2     #3\n",
       "Linear Multiple Regression (LR)       20.31  33.41  25.29\n",
       "Non Linear Multiple Regression (NLR)  24.79  34.56    NaN\n",
       "KNearest Neighbour (KNN)              27.78  24.62  27.74\n",
       "Support Vector Regression (SVR)       25.46   36.4  36.05\n",
       "Random Forest (RF)                    56.64  60.92  28.95\n",
       "Neural Networks (NN)                  30.54   1.95  12.36"
      ]
     },
     "metadata": {},
     "output_type": "display_data"
    },
    {
     "data": {
      "image/png": "[encoded data removed]",
      "text/plain": [
       "<Figure size 864x576 with 1 Axes>"
      ]
     },
     "metadata": {
      "needs_background": "light"
     },
     "output_type": "display_data"
    }
   ],
   "source": [
    "results = {'Algorithm': ['#1', '#2', '#3'],\n",
    "            'Linear Multiple Regression (LR)': [firstMLR, secondMLR, thirdMLR],\n",
    "            'Non Linear Multiple Regression (NLR)': [firstNLR, secondNLR, 'NaN'],\n",
    "            'KNearest Neighbour (KNN)': [firstKNN, secondKNN, thirdKNN],\n",
    "            'Support Vector Regression (SVR)': [firstSVR, secondSVR, thirdSVR],\n",
    "            'Random Forest (RF)': [firstRFR, secondRFR, thirdRFR],\n",
    "            'Neural Networks (NN)': [firstNN, secondNN, thirdNN]\n",
    "           }\n",
    "\n",
    "dfr = pd.DataFrame(results, columns = ['Algorithm', \n",
    "                                     'Linear Multiple Regression (LR)',\n",
    "                                     'Non Linear Multiple Regression (NLR)',\n",
    "                                     'KNearest Neighbour (KNN)',\n",
    "                                     'Support Vector Regression (SVR)',\n",
    "                                     'Random Forest (RF)',\n",
    "                                     'Neural Networks (NN)'])\n",
    "\n",
    "dfr.set_index(\"Algorithm\", inplace=True)\n",
    "\n",
    "results = dfr.T\n",
    "resultsT = dfr\n",
    "\n",
    "resultsT.plot(kind=\"line\", title=(\"Score evolution\"), figsize=(12,8) ,fontsize = 17)\n",
    "plt.xlabel('Number of attempts')\n",
    "plt.ylabel('Relative frequency (%)')\n",
    "plt.show();\n",
    "\n",
    "display(results)\n",
    "\n",
    "resultsT.plot(kind=\"bar\", title=(\"Score evolution\"), figsize=(12,8) ,fontsize = 17, grid=True)\n",
    "plt.xlabel('Number of attempts')\n",
    "plt.ylabel('Relative frequency (%)')\n",
    "plt.show();\n"
   ]
  },
  {
   "cell_type": "markdown",
   "metadata": {
    "colab_type": "text",
    "id": "L8cc4ZsWE4am"
   },
   "source": [
    "---"
   ]
  },
  {
   "cell_type": "markdown",
   "metadata": {
    "colab_type": "text",
    "id": "s0uwUGwNGZde"
   },
   "source": [
    "# **# 4** - Tuning the best model"
   ]
  },
  {
   "cell_type": "markdown",
   "metadata": {
    "colab_type": "text",
    "id": "5Trm1OI5Kn2i"
   },
   "source": [
    "At this stage and with 3 models presented, we will explore and tune the best score obtained within the 3 models. We will try to optimize, based on adjustments in the parameters of the Random Forest Regressor model, the value obtained by it in Model 2."
   ]
  },
  {
   "cell_type": "code",
   "execution_count": 199,
   "metadata": {
    "colab": {
     "base_uri": "https://localhost:8080/",
     "height": 34
    },
    "colab_type": "code",
    "executionInfo": {
     "elapsed": 105234,
     "status": "ok",
     "timestamp": 1593274575444,
     "user": {
      "displayName": "Mariana Moura",
      "photoUrl": "",
      "userId": "09921903782139644629"
     },
     "user_tz": -60
    },
    "id": "l4uripgSGkwS",
    "outputId": "16f316ab-709c-4a13-e581-9f47ac7bc050"
   },
   "outputs": [
    {
     "data": {
      "text/plain": [
       "0.609191588950101"
      ]
     },
     "execution_count": 199,
     "metadata": {},
     "output_type": "execute_result"
    }
   ],
   "source": [
    "# Score of Random Forest Regressor in modeling #2\n",
    "score_rfr2"
   ]
  },
  {
   "cell_type": "markdown",
   "metadata": {
    "colab_type": "text",
    "id": "J9quSXWXLuX9"
   },
   "source": [
    "Attempting to optimize the score."
   ]
  },
  {
   "cell_type": "code",
   "execution_count": 200,
   "metadata": {
    "colab": {},
    "colab_type": "code",
    "executionInfo": {
     "elapsed": 105223,
     "status": "ok",
     "timestamp": 1593274575447,
     "user": {
      "displayName": "Mariana Moura",
      "photoUrl": "",
      "userId": "09921903782139644629"
     },
     "user_tz": -60
    },
    "id": "ahj2ZKQcLzDA"
   },
   "outputs": [],
   "source": [
    "df_rfr4 = df_numcat.copy()"
   ]
  },
  {
   "cell_type": "code",
   "execution_count": 201,
   "metadata": {
    "colab": {},
    "colab_type": "code",
    "executionInfo": {
     "elapsed": 105221,
     "status": "ok",
     "timestamp": 1593274575450,
     "user": {
      "displayName": "Mariana Moura",
      "photoUrl": "",
      "userId": "09921903782139644629"
     },
     "user_tz": -60
    },
    "id": "bxkFzvVUMfiW"
   },
   "outputs": [],
   "source": [
    "train_set, test_set = train_test_split(df_rfr4, test_size = 0.2, random_state = seed)\n",
    "\n",
    "X_train = train_set.drop(['vote_average'], axis = 1)\n",
    "y_train = train_set['vote_average']\n",
    "\n",
    "X_test = test_set.drop(['vote_average'], axis = 1)\n",
    "y_test = test_set['vote_average']"
   ]
  },
  {
   "cell_type": "code",
   "execution_count": 202,
   "metadata": {
    "colab": {
     "base_uri": "https://localhost:8080/",
     "height": 51
    },
    "colab_type": "code",
    "executionInfo": {
     "elapsed": 610535,
     "status": "ok",
     "timestamp": 1593275080794,
     "user": {
      "displayName": "Mariana Moura",
      "photoUrl": "",
      "userId": "09921903782139644629"
     },
     "user_tz": -60
    },
    "id": "fTowz9dyNYHB",
    "outputId": "aea14fc1-7971-45cd-82ca-d169406e983c"
   },
   "outputs": [
    {
     "name": "stdout",
     "output_type": "stream",
     "text": [
      "CPU times: user 6min 57s, sys: 3.29 s, total: 7min\n",
      "Wall time: 7min 1s\n"
     ]
    }
   ],
   "source": [
    "%%time\n",
    "rfr4 = RandomForestRegressor(random_state = seed)\n",
    "\n",
    "parameters = {'n_estimators': [10, 50, 100, 300, 500, 1000, 1500]}\n",
    "\n",
    "reg = GridSearchCV(rfr4, parameters, cv = 5).fit(X_train, y_train)"
   ]
  },
  {
   "cell_type": "code",
   "execution_count": 203,
   "metadata": {
    "colab": {
     "base_uri": "https://localhost:8080/",
     "height": 136
    },
    "colab_type": "code",
    "executionInfo": {
     "elapsed": 610486,
     "status": "ok",
     "timestamp": 1593275080799,
     "user": {
      "displayName": "Mariana Moura",
      "photoUrl": "",
      "userId": "09921903782139644629"
     },
     "user_tz": -60
    },
    "id": "Ea2y6MFXN8Pk",
    "outputId": "f7b3c4bb-a049-4177-be19-c429006f619a"
   },
   "outputs": [
    {
     "data": {
      "text/plain": [
       "RandomForestRegressor(bootstrap=True, ccp_alpha=0.0, criterion='mse',\n",
       "                      max_depth=None, max_features='auto', max_leaf_nodes=None,\n",
       "                      max_samples=None, min_impurity_decrease=0.0,\n",
       "                      min_impurity_split=None, min_samples_leaf=1,\n",
       "                      min_samples_split=2, min_weight_fraction_leaf=0.0,\n",
       "                      n_estimators=500, n_jobs=None, oob_score=False,\n",
       "                      random_state=42, verbose=0, warm_start=False)"
      ]
     },
     "execution_count": 203,
     "metadata": {},
     "output_type": "execute_result"
    }
   ],
   "source": [
    "reg.best_estimator_"
   ]
  },
  {
   "cell_type": "code",
   "execution_count": 204,
   "metadata": {
    "colab": {},
    "colab_type": "code",
    "executionInfo": {
     "elapsed": 627940,
     "status": "ok",
     "timestamp": 1593275098264,
     "user": {
      "displayName": "Mariana Moura",
      "photoUrl": "",
      "userId": "09921903782139644629"
     },
     "user_tz": -60
    },
    "id": "SxZeS1APODzZ"
   },
   "outputs": [],
   "source": [
    "rfr4_best = RandomForestRegressor(**reg.best_params_).fit(X_train, y_train)"
   ]
  },
  {
   "cell_type": "code",
   "execution_count": 205,
   "metadata": {
    "colab": {
     "base_uri": "https://localhost:8080/",
     "height": 34
    },
    "colab_type": "code",
    "executionInfo": {
     "elapsed": 627911,
     "status": "ok",
     "timestamp": 1593275098267,
     "user": {
      "displayName": "Mariana Moura",
      "photoUrl": "",
      "userId": "09921903782139644629"
     },
     "user_tz": -60
    },
    "id": "R9dYIuz9ONWF",
    "outputId": "9eb38555-53f4-4752-fc51-d5dc3dbf57c7"
   },
   "outputs": [
    {
     "data": {
      "text/plain": [
       "0.6203205950992572"
      ]
     },
     "execution_count": 205,
     "metadata": {},
     "output_type": "execute_result"
    }
   ],
   "source": [
    "score_rfr4 = rfr4_best.score(X_test, y_test)\n",
    "score_rfr4"
   ]
  },
  {
   "cell_type": "code",
   "execution_count": 206,
   "metadata": {
    "colab": {
     "base_uri": "https://localhost:8080/",
     "height": 221
    },
    "colab_type": "code",
    "executionInfo": {
     "elapsed": 627882,
     "status": "ok",
     "timestamp": 1593275098269,
     "user": {
      "displayName": "Mariana Moura",
      "photoUrl": "",
      "userId": "09921903782139644629"
     },
     "user_tz": -60
    },
    "id": "lJpWtG_OMo1J",
    "outputId": "6a659847-91b4-45f6-f685-d45df4ccca0a"
   },
   "outputs": [
    {
     "data": {
      "text/plain": [
       "vote_count                                  0.446910\n",
       "runtime                                     0.124112\n",
       "popularity                                  0.077365\n",
       "budget                                      0.066728\n",
       "year                                        0.057204\n",
       "                                              ...   \n",
       "production_companies_0_0                    0.000000\n",
       "production_countries_0_Guadaloupe           0.000000\n",
       "production_companies_1_0                    0.000000\n",
       "production_countries_0_Algeria              0.000000\n",
       "production_countries_0_DominicanRepublic    0.000000\n",
       "Length: 67, dtype: float64"
      ]
     },
     "execution_count": 206,
     "metadata": {},
     "output_type": "execute_result"
    }
   ],
   "source": [
    "feature_imp_rfr4 = pd.Series(rfr4_best.feature_importances_,index = X_train.columns).sort_values(ascending=False)\n",
    "feature_imp_rfr4"
   ]
  },
  {
   "cell_type": "markdown",
   "metadata": {
    "colab_type": "text",
    "id": "wHivtbX8MrUI"
   },
   "source": [
    "---"
   ]
  },
  {
   "cell_type": "markdown",
   "metadata": {},
   "source": [
    "# **Conclusion**"
   ]
  },
  {
   "cell_type": "markdown",
   "metadata": {},
   "source": [
    "In response to a **supervise regression problem**, the dataset comprises:\n",
    "- Movies: 4801\n",
    "- Features: 20, including target\n",
    "\n",
    "#### **Best model: Random Forrest Regressor** (in modeling #2).\n",
    "\n",
    "According to the Random Forest Regressor model, the most important features are:"
   ]
  },
  {
   "cell_type": "code",
   "execution_count": 207,
   "metadata": {
    "colab": {
     "base_uri": "https://localhost:8080/",
     "height": 119
    },
    "colab_type": "code",
    "executionInfo": {
     "elapsed": 774,
     "status": "ok",
     "timestamp": 1593275728523,
     "user": {
      "displayName": "Mariana Moura",
      "photoUrl": "",
      "userId": "09921903782139644629"
     },
     "user_tz": -60
    },
    "id": "Dtpm-5cAohGI",
    "outputId": "8180d1db-0738-4779-fdb8-1bf3722b3782"
   },
   "outputs": [
    {
     "data": {
      "text/html": [
       "<div>\n",
       "<style scoped>\n",
       "    .dataframe tbody tr th:only-of-type {\n",
       "        vertical-align: middle;\n",
       "    }\n",
       "\n",
       "    .dataframe tbody tr th {\n",
       "        vertical-align: top;\n",
       "    }\n",
       "\n",
       "    .dataframe thead th {\n",
       "        text-align: right;\n",
       "    }\n",
       "</style>\n",
       "<table border=\"1\" class=\"dataframe\">\n",
       "  <thead>\n",
       "    <tr style=\"text-align: right;\">\n",
       "      <th></th>\n",
       "      <th>0</th>\n",
       "    </tr>\n",
       "  </thead>\n",
       "  <tbody>\n",
       "    <tr>\n",
       "      <th>vote_count</th>\n",
       "      <td>0.446910</td>\n",
       "    </tr>\n",
       "    <tr>\n",
       "      <th>runtime</th>\n",
       "      <td>0.124112</td>\n",
       "    </tr>\n",
       "    <tr>\n",
       "      <th>popularity</th>\n",
       "      <td>0.077365</td>\n",
       "    </tr>\n",
       "  </tbody>\n",
       "</table>\n",
       "</div>"
      ],
      "text/plain": [
       "                   0\n",
       "vote_count  0.446910\n",
       "runtime     0.124112\n",
       "popularity  0.077365"
      ]
     },
     "execution_count": 207,
     "metadata": {},
     "output_type": "execute_result"
    }
   ],
   "source": [
    "feature_imp_rfr4.head(3).to_frame()"
   ]
  },
  {
   "cell_type": "markdown",
   "metadata": {},
   "source": [
    "This information coincides with the result of the features most correlated with the target."
   ]
  },
  {
   "cell_type": "code",
   "execution_count": 208,
   "metadata": {},
   "outputs": [
    {
     "data": {
      "text/html": [
       "<div>\n",
       "<style scoped>\n",
       "    .dataframe tbody tr th:only-of-type {\n",
       "        vertical-align: middle;\n",
       "    }\n",
       "\n",
       "    .dataframe tbody tr th {\n",
       "        vertical-align: top;\n",
       "    }\n",
       "\n",
       "    .dataframe thead th {\n",
       "        text-align: right;\n",
       "    }\n",
       "</style>\n",
       "<table border=\"1\" class=\"dataframe\">\n",
       "  <thead>\n",
       "    <tr style=\"text-align: right;\">\n",
       "      <th></th>\n",
       "      <th>Pearson Corr.</th>\n",
       "      <th>p-value</th>\n",
       "    </tr>\n",
       "  </thead>\n",
       "  <tbody>\n",
       "    <tr>\n",
       "      <th>runtime</th>\n",
       "      <td>0.37</td>\n",
       "      <td>0.0</td>\n",
       "    </tr>\n",
       "    <tr>\n",
       "      <th>vote_count</th>\n",
       "      <td>0.31</td>\n",
       "      <td>0.0</td>\n",
       "    </tr>\n",
       "    <tr>\n",
       "      <th>popularity</th>\n",
       "      <td>0.27</td>\n",
       "      <td>0.0</td>\n",
       "    </tr>\n",
       "  </tbody>\n",
       "</table>\n",
       "</div>"
      ],
      "text/plain": [
       "            Pearson Corr.  p-value\n",
       "runtime              0.37      0.0\n",
       "vote_count           0.31      0.0\n",
       "popularity           0.27      0.0"
      ]
     },
     "execution_count": 208,
     "metadata": {},
     "output_type": "execute_result"
    }
   ],
   "source": [
    "corr_pear.head(3)"
   ]
  },
  {
   "cell_type": "markdown",
   "metadata": {
    "colab_type": "text",
    "id": "dtHdpAKVHNja"
   },
   "source": [
    "Based on this analysis, I would **not recommend the model to a film production company.** Filmmakers are more interested in predicting the revenue of the box office than the score of a film.\n",
    "\n",
    "A reasonable score - such like the predicted in the present model (62,03%) - may not correspond to a high financial return on a film, and vice-versa. For that purpose, a new study to predict revenue should be conducted."
   ]
  },
  {
   "cell_type": "markdown",
   "metadata": {},
   "source": [
    "The final approach is the one presented in this project summarized in distinct 6 steps and 3 models:\n",
    "\n",
    "#### #1 step (numerical data pre-processing)\n",
    "\n",
    "- Get familiarized with the data, describe the attributes and observations, and interpret their statistical values;\n",
    "- Find numerical correlations, drop 'id' and convert 'release_date';\n",
    "- Detect missing values, identify outliers, and resolve all anomalies using different techniques.\n",
    "\n",
    "#### #2 step (1st modeling, df_num)\n",
    "\n",
    "- MLR = on the scaler, adj_r2: 20.31%;\n",
    "- NLR = on the scaler, adj_r2_multiple: 24.79%;\n",
    "- KNN = MinMaxScaler (), r2_score: 27.78%;\n",
    "- SVR = StandardScaler (), r2_score: 25.46%;\n",
    "- RF = on the scaler, score: 56.64%;\n",
    "- NN = StandardScaler (), score: 30.54%.\n",
    "\n",
    "#### #3 step (categorical data pre-processing)\n",
    "\n",
    "- Select 'genres', 'keywords', 'production_companies', 'production_countries', 'spoken_languages' and drop all the others ('release_date' had already been converted to 'year');\n",
    "- Extract all the strings and distribute each combination in different columns selecting the most relevant columns;\n",
    "- Check the outputs of the encodings (OHE and Binary) in the considered variables and define the most convenient technique for each variable;\n",
    "- From the result, identify the least statistically significant columns (p-value> 0.05);\n",
    "- Concatenate df_num with df_cat.\n",
    "\n",
    "#### #4 step (2nd modeling, df_numcat)\n",
    "\n",
    "- MLR = on the scaler, adj_r2: 33.41%;\n",
    "- NLR = on the scaler, adj_r2_multiple: 34.55%;\n",
    "- KNN = MinMaxScaler (), r2_score: 24.62%;\n",
    "- SVR = StandardScaler (), r2_score: 36.4%;\n",
    "- RF = on the scaler, score: 60.92%;\n",
    "- NN = StandardScaler (), score: 1.95%.\n",
    "\n",
    "#### #5 step (PCA, 3rd modeling, df_numcat)\n",
    "- Apply a PCA to df_numcat and evaluate the results (68 initial columns);\n",
    "- PCA: estimate the variance to 86% and let scikit-learn optimize the minimum number of principal components. The result: 49 columns (+ a target) containing 86.68% of all information. Then, apply the same models to the transformed dataframe and compare results;\n",
    "- MLR = on the scaler, adj_r2: 25.29%;\n",
    "- NLR = on the scaler, adj_r2_multiple: negative regression coefficient;\n",
    "- KNN = MinMaxScaler (), r2_score: 27.74%;\n",
    "- SVR = StandardScaler (), r2_score: 36.05%;\n",
    "- RF = no scaler, score: 28.95%;\n",
    "- NN = StandardScaler (), score: 12.36%.\n",
    "\n",
    "#### #6 stage (Tuning the best model, df_numcat)\n",
    "- Explore and tune to the best score obtained within the performed 3 models (parameterization of the Random Forest Regressor model - model #2);\n",
    "- Identify the most relevant and explanatory features;\n",
    "- Obtain the best result of 62.03%."
   ]
  },
  {
   "cell_type": "markdown",
   "metadata": {
    "colab_type": "text",
    "id": "QwLRthdRjZ6T"
   },
   "source": [
    "---"
   ]
  },
  {
   "cell_type": "markdown",
   "metadata": {},
   "source": [
    "**Author:** Gonçalo Guimarães Gomes"
   ]
  }
 ],
 "metadata": {
  "colab": {
   "collapsed_sections": [
    "BSzxeoHYRHgV",
    "9-jwbViNQL6_",
    "Y6rBFfQsQe_f",
    "pFwj5WjhQpmw",
    "t1KkyvmjQ9l-",
    "KFA9XJgnRcOM",
    "D4gSKf9lR2tF",
    "N-jQChbYSHpe",
    "IFZ7iF3NSXDD",
    "sVdCq5ZqSycr",
    "c2AdXQhFTEQa",
    "-B58UyE0ThmN",
    "3vfZVoK0T0Gc",
    "vHqrx2-MUGcJ",
    "lYZU9s4iUfLr",
    "plHXK2PVVc8E",
    "dkbULdjNgNU3",
    "-ONDwVnNhVaC",
    "S5uuvjfzmQ6g",
    "Rd12Y1kuoIf8",
    "jGot6riOpjkA",
    "bNs4wyOmqwqg",
    "Jo2k69fGxP60",
    "ezn-muq8xyIW",
    "9oH5uRgNyCc8",
    "99d9P0huyaeU",
    "jTzeepzEyw0O",
    "yKNo_MRSzCsl",
    "y8CkyrlrzXHy",
    "nUZFZFkkzipI",
    "2A9Bs2tI1szL",
    "k2eI_zzP2YQT",
    "XBiE_ANZ3BT5",
    "WC8fvGF530fg",
    "8ReIP3ZP4du2",
    "TrReNn4Q5wN4",
    "rc5OBgvd6OtQ",
    "LG5xS-SZ7Lyw",
    "TeJQaFWB8Uik",
    "vi8ioHTDAxZy",
    "91PEYBSxBxoW",
    "hNIndyPrCv-A",
    "V7E_lGKwDeiB",
    "fw1f0flNDzzG",
    "3N0IZG2mEJS_",
    "s0uwUGwNGZde",
    "f2eMMqfWGp77"
   ],
   "name": "group_project_VF_Gonçalo_Gomes_Mariana_Moura_Rui_Mendes.ipynb",
   "provenance": []
  },
  "kernelspec": {
   "display_name": "Python 3",
   "language": "python",
   "name": "python3"
  },
  "language_info": {
   "codemirror_mode": {
    "name": "ipython",
    "version": 3
   },
   "file_extension": ".py",
   "mimetype": "text/x-python",
   "name": "python",
   "nbconvert_exporter": "python",
   "pygments_lexer": "ipython3",
   "version": "3.7.6"
  }
 },
 "nbformat": 4,
 "nbformat_minor": 4
}
